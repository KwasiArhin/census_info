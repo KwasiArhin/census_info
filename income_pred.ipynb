{
 "cells": [
  {
   "cell_type": "markdown",
   "metadata": {},
   "source": [
    "United States Census Income Classifcation"
   ]
  },
  {
   "cell_type": "markdown",
   "metadata": {},
   "source": [
    "# Introduction"
   ]
  },
  {
   "cell_type": "markdown",
   "metadata": {},
   "source": [
    "Trying to predict whethere someone makes over 50k or not "
   ]
  },
  {
   "cell_type": "code",
   "execution_count": 2,
   "metadata": {},
   "outputs": [
    {
     "data": {
      "application/javascript": [
       "\n",
       "            setTimeout(function() {\n",
       "                var nbb_cell_id = 2;\n",
       "                var nbb_unformatted_code = \"import numpy as np\\nimport pandas as pd\\nimport seaborn as sns\\nfrom matplotlib import pyplot as plt\\nfrom pandas.api.types import CategoricalDtype\\n\\nfrom sklearn.base import BaseEstimator, TransformerMixin\\nfrom sklearn.pipeline import Pipeline\\nfrom sklearn.metrics import accuracy_score\\nfrom sklearn.linear_model import LogisticRegression\\nfrom sklearn.model_selection import GridSearchCV\\nfrom sklearn.metrics import classification_report\\nfrom sklearn.metrics import confusion_matrix\\nfrom sklearn.preprocessing import StandardScaler\\nfrom sklearn.pipeline import FeatureUnion\\nfrom sklearn.model_selection import cross_val_score\\n\\n# to see all rows\\npd.set_option(\\\"display.max_rows\\\", 500)\\npd.set_option(\\\"display.max_columns\\\", 500)\\npd.set_option(\\\"display.width\\\", 1000)\";\n",
       "                var nbb_formatted_code = \"import numpy as np\\nimport pandas as pd\\nimport seaborn as sns\\nfrom matplotlib import pyplot as plt\\nfrom pandas.api.types import CategoricalDtype\\n\\nfrom sklearn.base import BaseEstimator, TransformerMixin\\nfrom sklearn.pipeline import Pipeline\\nfrom sklearn.metrics import accuracy_score\\nfrom sklearn.linear_model import LogisticRegression\\nfrom sklearn.model_selection import GridSearchCV\\nfrom sklearn.metrics import classification_report\\nfrom sklearn.metrics import confusion_matrix\\nfrom sklearn.preprocessing import StandardScaler\\nfrom sklearn.pipeline import FeatureUnion\\nfrom sklearn.model_selection import cross_val_score\\n\\n# to see all rows\\npd.set_option(\\\"display.max_rows\\\", 500)\\npd.set_option(\\\"display.max_columns\\\", 500)\\npd.set_option(\\\"display.width\\\", 1000)\";\n",
       "                var nbb_cells = Jupyter.notebook.get_cells();\n",
       "                for (var i = 0; i < nbb_cells.length; ++i) {\n",
       "                    if (nbb_cells[i].input_prompt_number == nbb_cell_id) {\n",
       "                        if (nbb_cells[i].get_text() == nbb_unformatted_code) {\n",
       "                             nbb_cells[i].set_text(nbb_formatted_code);\n",
       "                        }\n",
       "                        break;\n",
       "                    }\n",
       "                }\n",
       "            }, 500);\n",
       "            "
      ],
      "text/plain": [
       "<IPython.core.display.Javascript object>"
      ]
     },
     "metadata": {},
     "output_type": "display_data"
    }
   ],
   "source": [
    "import numpy as np\n",
    "import pandas as pd\n",
    "import seaborn as sns\n",
    "from matplotlib import pyplot as plt\n",
    "from pandas.api.types import CategoricalDtype\n",
    "\n",
    "from sklearn.metrics import accuracy_score\n",
    "from sklearn.linear_model import LogisticRegression\n",
    "from sklearn.model_selection import GridSearchCV\n",
    "from sklearn.metrics import classification_report\n",
    "from sklearn.metrics import confusion_matrix\n",
    "from sklearn.preprocessing import StandardScaler\n",
    "\n",
    "# to see all rows\n",
    "pd.set_option(\"display.max_rows\", 500)\n",
    "pd.set_option(\"display.max_columns\", 500)\n",
    "pd.set_option(\"display.width\", 1000)"
   ]
  },
  {
   "cell_type": "code",
   "execution_count": 3,
   "metadata": {},
   "outputs": [
    {
     "data": {
      "application/javascript": [
       "\n",
       "            setTimeout(function() {\n",
       "                var nbb_cell_id = 3;\n",
       "                var nbb_unformatted_code = \"columns = [\\n    \\\"age\\\",\\n    \\\"workclass\\\",\\n    \\\"industry\\\",\\n    \\\"occupation\\\",\\n    \\\"education\\\",\\n    \\\"wage\\\",\\n    \\\"enroll_edu\\\",\\n    \\\"relationship\\\",\\n    \\\"major_industry_code\\\",\\n    \\\"major_occupation\\\",\\n    \\\"race\\\",\\n    \\\"hispanic_orgin\\\",\\n    \\\"sex\\\",\\n    \\\"member_labor_union\\\",\\n    \\\"reason_for_unemployment\\\",\\n    \\\"full_or_part_time_unemployment_stat\\\",\\n    \\\"capital_gains\\\",\\n    \\\"capital_losses\\\",\\n    \\\"dividends_from_stocks\\\",\\n    \\\"tax_filer_stat\\\",\\n    \\\"region_prev_res\\\",\\n    \\\"state_prev_res\\\",\\n    \\\"detail_household_and_family_stat\\\",\\n    \\\"detailed_household_summary_in_household\\\",\\n    \\\"instance_weight\\\",\\n    \\\"change_in_msa\\\",\\n    \\\"change_in_reg\\\",\\n    \\\"move_within_reg\\\",\\n    \\\"house_1yr\\\",\\n    \\\"mig_sunbelt\\\",\\n    \\\"num_employers\\\",\\n    \\\"family_members_under_18\\\",\\n    \\\"dad_country\\\",\\n    \\\"mom_country\\\",\\n    \\\"self_country\\\",\\n    \\\"citzenship\\\",\\n    \\\"SEOTR\\\",\\n    \\\"VETQVA\\\",\\n    \\\"VETYN\\\",\\n    \\\"weeks_worked\\\",\\n    \\\"year\\\",\\n    \\\"income\\\",\\n]\\n\\ntrain_data = pd.read_csv(\\\"census_income_learn.csv\\\", names=columns, na_values=\\\" ? \\\")\\ntest_data = pd.read_csv(\\\"census_income_test.csv\\\", names=columns, na_values=\\\" ? \\\")\";\n",
       "                var nbb_formatted_code = \"columns = [\\n    \\\"age\\\",\\n    \\\"workclass\\\",\\n    \\\"industry\\\",\\n    \\\"occupation\\\",\\n    \\\"education\\\",\\n    \\\"wage\\\",\\n    \\\"enroll_edu\\\",\\n    \\\"relationship\\\",\\n    \\\"major_industry_code\\\",\\n    \\\"major_occupation\\\",\\n    \\\"race\\\",\\n    \\\"hispanic_orgin\\\",\\n    \\\"sex\\\",\\n    \\\"member_labor_union\\\",\\n    \\\"reason_for_unemployment\\\",\\n    \\\"full_or_part_time_unemployment_stat\\\",\\n    \\\"capital_gains\\\",\\n    \\\"capital_losses\\\",\\n    \\\"dividends_from_stocks\\\",\\n    \\\"tax_filer_stat\\\",\\n    \\\"region_prev_res\\\",\\n    \\\"state_prev_res\\\",\\n    \\\"detail_household_and_family_stat\\\",\\n    \\\"detailed_household_summary_in_household\\\",\\n    \\\"instance_weight\\\",\\n    \\\"change_in_msa\\\",\\n    \\\"change_in_reg\\\",\\n    \\\"move_within_reg\\\",\\n    \\\"house_1yr\\\",\\n    \\\"mig_sunbelt\\\",\\n    \\\"num_employers\\\",\\n    \\\"family_members_under_18\\\",\\n    \\\"dad_country\\\",\\n    \\\"mom_country\\\",\\n    \\\"self_country\\\",\\n    \\\"citzenship\\\",\\n    \\\"SEOTR\\\",\\n    \\\"VETQVA\\\",\\n    \\\"VETYN\\\",\\n    \\\"weeks_worked\\\",\\n    \\\"year\\\",\\n    \\\"income\\\",\\n]\\n\\ntrain_data = pd.read_csv(\\\"census_income_learn.csv\\\", names=columns, na_values=\\\" ? \\\")\\ntest_data = pd.read_csv(\\\"census_income_test.csv\\\", names=columns, na_values=\\\" ? \\\")\";\n",
       "                var nbb_cells = Jupyter.notebook.get_cells();\n",
       "                for (var i = 0; i < nbb_cells.length; ++i) {\n",
       "                    if (nbb_cells[i].input_prompt_number == nbb_cell_id) {\n",
       "                        if (nbb_cells[i].get_text() == nbb_unformatted_code) {\n",
       "                             nbb_cells[i].set_text(nbb_formatted_code);\n",
       "                        }\n",
       "                        break;\n",
       "                    }\n",
       "                }\n",
       "            }, 500);\n",
       "            "
      ],
      "text/plain": [
       "<IPython.core.display.Javascript object>"
      ]
     },
     "metadata": {},
     "output_type": "display_data"
    }
   ],
   "source": [
    "columns = [\n",
    "    \"age\",\n",
    "    \"workclass\",\n",
    "    \"industry\",\n",
    "    \"occupation\",\n",
    "    \"education\",\n",
    "    \"wage\",\n",
    "    \"enroll_edu\",\n",
    "    \"relationship\",\n",
    "    \"major_industry_code\",\n",
    "    \"major_occupation\",\n",
    "    \"race\",\n",
    "    \"hispanic_orgin\",\n",
    "    \"sex\",\n",
    "    \"member_labor_union\",\n",
    "    \"reason_for_unemployment\",\n",
    "    \"full_or_part_time_unemployment_stat\",\n",
    "    \"capital_gains\",\n",
    "    \"capital_losses\",\n",
    "    \"dividends_from_stocks\",\n",
    "    \"tax_filer_stat\",\n",
    "    \"region_prev_res\",\n",
    "    \"state_prev_res\",\n",
    "    \"detail_household_and_family_stat\",\n",
    "    \"detailed_household_summary_in_household\",\n",
    "    \"instance_weight\",\n",
    "    \"change_in_msa\",\n",
    "    \"change_in_reg\",\n",
    "    \"move_within_reg\",\n",
    "    \"house_1yr\",\n",
    "    \"mig_sunbelt\",\n",
    "    \"num_employers\",\n",
    "    \"family_members_under_18\",\n",
    "    \"dad_country\",\n",
    "    \"mom_country\",\n",
    "    \"self_country\",\n",
    "    \"citzenship\",\n",
    "    \"SEOTR\",\n",
    "    \"VETQVA\",\n",
    "    \"VETYN\",\n",
    "    \"weeks_worked\",\n",
    "    \"year\",\n",
    "    \"income\",\n",
    "]\n",
    "\n",
    "train_data = pd.read_csv(\"census_income_learn.csv\", names=columns, na_values=\" ? \")\n",
    "test_data = pd.read_csv(\"census_income_test.csv\", names=columns, na_values=\" ? \")"
   ]
  },
  {
   "cell_type": "code",
   "execution_count": 4,
   "metadata": {},
   "outputs": [
    {
     "data": {
      "text/html": [
       "<div>\n",
       "<style scoped>\n",
       "    .dataframe tbody tr th:only-of-type {\n",
       "        vertical-align: middle;\n",
       "    }\n",
       "\n",
       "    .dataframe tbody tr th {\n",
       "        vertical-align: top;\n",
       "    }\n",
       "\n",
       "    .dataframe thead th {\n",
       "        text-align: right;\n",
       "    }\n",
       "</style>\n",
       "<table border=\"1\" class=\"dataframe\">\n",
       "  <thead>\n",
       "    <tr style=\"text-align: right;\">\n",
       "      <th></th>\n",
       "      <th>age</th>\n",
       "      <th>workclass</th>\n",
       "      <th>industry</th>\n",
       "      <th>occupation</th>\n",
       "      <th>education</th>\n",
       "      <th>wage</th>\n",
       "      <th>enroll_edu</th>\n",
       "      <th>relationship</th>\n",
       "      <th>major_industry_code</th>\n",
       "      <th>major_occupation</th>\n",
       "      <th>race</th>\n",
       "      <th>hispanic_orgin</th>\n",
       "      <th>sex</th>\n",
       "      <th>member_labor_union</th>\n",
       "      <th>reason_for_unemployment</th>\n",
       "      <th>full_or_part_time_unemployment_stat</th>\n",
       "      <th>capital_gains</th>\n",
       "      <th>capital_losses</th>\n",
       "      <th>dividends_from_stocks</th>\n",
       "      <th>tax_filer_stat</th>\n",
       "      <th>region_prev_res</th>\n",
       "      <th>state_prev_res</th>\n",
       "      <th>detail_household_and_family_stat</th>\n",
       "      <th>detailed_household_summary_in_household</th>\n",
       "      <th>instance_weight</th>\n",
       "      <th>change_in_msa</th>\n",
       "      <th>change_in_reg</th>\n",
       "      <th>move_within_reg</th>\n",
       "      <th>house_1yr</th>\n",
       "      <th>mig_sunbelt</th>\n",
       "      <th>num_employers</th>\n",
       "      <th>family_members_under_18</th>\n",
       "      <th>dad_country</th>\n",
       "      <th>mom_country</th>\n",
       "      <th>self_country</th>\n",
       "      <th>citzenship</th>\n",
       "      <th>SEOTR</th>\n",
       "      <th>VETQVA</th>\n",
       "      <th>VETYN</th>\n",
       "      <th>weeks_worked</th>\n",
       "      <th>year</th>\n",
       "      <th>income</th>\n",
       "    </tr>\n",
       "  </thead>\n",
       "  <tbody>\n",
       "    <tr>\n",
       "      <td>0</td>\n",
       "      <td>73</td>\n",
       "      <td>Not in universe</td>\n",
       "      <td>0</td>\n",
       "      <td>0</td>\n",
       "      <td>High school graduate</td>\n",
       "      <td>0</td>\n",
       "      <td>Not in universe</td>\n",
       "      <td>Widowed</td>\n",
       "      <td>Not in universe or children</td>\n",
       "      <td>Not in universe</td>\n",
       "      <td>White</td>\n",
       "      <td>All other</td>\n",
       "      <td>Female</td>\n",
       "      <td>Not in universe</td>\n",
       "      <td>Not in universe</td>\n",
       "      <td>Not in labor force</td>\n",
       "      <td>0</td>\n",
       "      <td>0</td>\n",
       "      <td>0</td>\n",
       "      <td>Nonfiler</td>\n",
       "      <td>Not in universe</td>\n",
       "      <td>Not in universe</td>\n",
       "      <td>Other Rel 18+ ever marr not in subfamily</td>\n",
       "      <td>Other relative of householder</td>\n",
       "      <td>1700.09</td>\n",
       "      <td>?</td>\n",
       "      <td>?</td>\n",
       "      <td>?</td>\n",
       "      <td>Not in universe under 1 year old</td>\n",
       "      <td>?</td>\n",
       "      <td>0</td>\n",
       "      <td>Not in universe</td>\n",
       "      <td>United-States</td>\n",
       "      <td>United-States</td>\n",
       "      <td>United-States</td>\n",
       "      <td>Native- Born in the United States</td>\n",
       "      <td>0</td>\n",
       "      <td>Not in universe</td>\n",
       "      <td>2</td>\n",
       "      <td>0</td>\n",
       "      <td>95</td>\n",
       "      <td>-50000</td>\n",
       "    </tr>\n",
       "    <tr>\n",
       "      <td>1</td>\n",
       "      <td>58</td>\n",
       "      <td>Self-employed-not incorporated</td>\n",
       "      <td>4</td>\n",
       "      <td>34</td>\n",
       "      <td>Some college but no degree</td>\n",
       "      <td>0</td>\n",
       "      <td>Not in universe</td>\n",
       "      <td>Divorced</td>\n",
       "      <td>Construction</td>\n",
       "      <td>Precision production craft &amp; repair</td>\n",
       "      <td>White</td>\n",
       "      <td>All other</td>\n",
       "      <td>Male</td>\n",
       "      <td>Not in universe</td>\n",
       "      <td>Not in universe</td>\n",
       "      <td>Children or Armed Forces</td>\n",
       "      <td>0</td>\n",
       "      <td>0</td>\n",
       "      <td>0</td>\n",
       "      <td>Head of household</td>\n",
       "      <td>South</td>\n",
       "      <td>Arkansas</td>\n",
       "      <td>Householder</td>\n",
       "      <td>Householder</td>\n",
       "      <td>1053.55</td>\n",
       "      <td>MSA to MSA</td>\n",
       "      <td>Same county</td>\n",
       "      <td>Same county</td>\n",
       "      <td>No</td>\n",
       "      <td>Yes</td>\n",
       "      <td>1</td>\n",
       "      <td>Not in universe</td>\n",
       "      <td>United-States</td>\n",
       "      <td>United-States</td>\n",
       "      <td>United-States</td>\n",
       "      <td>Native- Born in the United States</td>\n",
       "      <td>0</td>\n",
       "      <td>Not in universe</td>\n",
       "      <td>2</td>\n",
       "      <td>52</td>\n",
       "      <td>94</td>\n",
       "      <td>-50000</td>\n",
       "    </tr>\n",
       "    <tr>\n",
       "      <td>2</td>\n",
       "      <td>18</td>\n",
       "      <td>Not in universe</td>\n",
       "      <td>0</td>\n",
       "      <td>0</td>\n",
       "      <td>10th grade</td>\n",
       "      <td>0</td>\n",
       "      <td>High school</td>\n",
       "      <td>Never married</td>\n",
       "      <td>Not in universe or children</td>\n",
       "      <td>Not in universe</td>\n",
       "      <td>Asian or Pacific Islander</td>\n",
       "      <td>All other</td>\n",
       "      <td>Female</td>\n",
       "      <td>Not in universe</td>\n",
       "      <td>Not in universe</td>\n",
       "      <td>Not in labor force</td>\n",
       "      <td>0</td>\n",
       "      <td>0</td>\n",
       "      <td>0</td>\n",
       "      <td>Nonfiler</td>\n",
       "      <td>Not in universe</td>\n",
       "      <td>Not in universe</td>\n",
       "      <td>Child 18+ never marr Not in a subfamily</td>\n",
       "      <td>Child 18 or older</td>\n",
       "      <td>991.95</td>\n",
       "      <td>?</td>\n",
       "      <td>?</td>\n",
       "      <td>?</td>\n",
       "      <td>Not in universe under 1 year old</td>\n",
       "      <td>?</td>\n",
       "      <td>0</td>\n",
       "      <td>Not in universe</td>\n",
       "      <td>Vietnam</td>\n",
       "      <td>Vietnam</td>\n",
       "      <td>Vietnam</td>\n",
       "      <td>Foreign born- Not a citizen of U S</td>\n",
       "      <td>0</td>\n",
       "      <td>Not in universe</td>\n",
       "      <td>2</td>\n",
       "      <td>0</td>\n",
       "      <td>95</td>\n",
       "      <td>-50000</td>\n",
       "    </tr>\n",
       "    <tr>\n",
       "      <td>3</td>\n",
       "      <td>9</td>\n",
       "      <td>Not in universe</td>\n",
       "      <td>0</td>\n",
       "      <td>0</td>\n",
       "      <td>Children</td>\n",
       "      <td>0</td>\n",
       "      <td>Not in universe</td>\n",
       "      <td>Never married</td>\n",
       "      <td>Not in universe or children</td>\n",
       "      <td>Not in universe</td>\n",
       "      <td>White</td>\n",
       "      <td>All other</td>\n",
       "      <td>Female</td>\n",
       "      <td>Not in universe</td>\n",
       "      <td>Not in universe</td>\n",
       "      <td>Children or Armed Forces</td>\n",
       "      <td>0</td>\n",
       "      <td>0</td>\n",
       "      <td>0</td>\n",
       "      <td>Nonfiler</td>\n",
       "      <td>Not in universe</td>\n",
       "      <td>Not in universe</td>\n",
       "      <td>Child &lt;18 never marr not in subfamily</td>\n",
       "      <td>Child under 18 never married</td>\n",
       "      <td>1758.14</td>\n",
       "      <td>Nonmover</td>\n",
       "      <td>Nonmover</td>\n",
       "      <td>Nonmover</td>\n",
       "      <td>Yes</td>\n",
       "      <td>Not in universe</td>\n",
       "      <td>0</td>\n",
       "      <td>Both parents present</td>\n",
       "      <td>United-States</td>\n",
       "      <td>United-States</td>\n",
       "      <td>United-States</td>\n",
       "      <td>Native- Born in the United States</td>\n",
       "      <td>0</td>\n",
       "      <td>Not in universe</td>\n",
       "      <td>0</td>\n",
       "      <td>0</td>\n",
       "      <td>94</td>\n",
       "      <td>-50000</td>\n",
       "    </tr>\n",
       "    <tr>\n",
       "      <td>4</td>\n",
       "      <td>10</td>\n",
       "      <td>Not in universe</td>\n",
       "      <td>0</td>\n",
       "      <td>0</td>\n",
       "      <td>Children</td>\n",
       "      <td>0</td>\n",
       "      <td>Not in universe</td>\n",
       "      <td>Never married</td>\n",
       "      <td>Not in universe or children</td>\n",
       "      <td>Not in universe</td>\n",
       "      <td>White</td>\n",
       "      <td>All other</td>\n",
       "      <td>Female</td>\n",
       "      <td>Not in universe</td>\n",
       "      <td>Not in universe</td>\n",
       "      <td>Children or Armed Forces</td>\n",
       "      <td>0</td>\n",
       "      <td>0</td>\n",
       "      <td>0</td>\n",
       "      <td>Nonfiler</td>\n",
       "      <td>Not in universe</td>\n",
       "      <td>Not in universe</td>\n",
       "      <td>Child &lt;18 never marr not in subfamily</td>\n",
       "      <td>Child under 18 never married</td>\n",
       "      <td>1069.16</td>\n",
       "      <td>Nonmover</td>\n",
       "      <td>Nonmover</td>\n",
       "      <td>Nonmover</td>\n",
       "      <td>Yes</td>\n",
       "      <td>Not in universe</td>\n",
       "      <td>0</td>\n",
       "      <td>Both parents present</td>\n",
       "      <td>United-States</td>\n",
       "      <td>United-States</td>\n",
       "      <td>United-States</td>\n",
       "      <td>Native- Born in the United States</td>\n",
       "      <td>0</td>\n",
       "      <td>Not in universe</td>\n",
       "      <td>0</td>\n",
       "      <td>0</td>\n",
       "      <td>94</td>\n",
       "      <td>-50000</td>\n",
       "    </tr>\n",
       "  </tbody>\n",
       "</table>\n",
       "</div>"
      ],
      "text/plain": [
       "   age                        workclass  industry  occupation                    education  wage        enroll_edu    relationship           major_industry_code                      major_occupation                        race hispanic_orgin      sex member_labor_union reason_for_unemployment full_or_part_time_unemployment_stat  capital_gains  capital_losses  dividends_from_stocks      tax_filer_stat   region_prev_res    state_prev_res           detail_household_and_family_stat detailed_household_summary_in_household  instance_weight change_in_msa change_in_reg move_within_reg                          house_1yr       mig_sunbelt  num_employers family_members_under_18     dad_country     mom_country    self_country                            citzenship  SEOTR            VETQVA  VETYN  weeks_worked  year  income\n",
       "0   73                  Not in universe         0           0         High school graduate     0   Not in universe         Widowed   Not in universe or children                       Not in universe                       White      All other   Female    Not in universe         Not in universe                  Not in labor force              0               0                      0            Nonfiler   Not in universe   Not in universe   Other Rel 18+ ever marr not in subfamily           Other relative of householder          1700.09             ?             ?               ?   Not in universe under 1 year old                 ?              0         Not in universe   United-States   United-States   United-States     Native- Born in the United States      0   Not in universe      2             0    95  -50000\n",
       "1   58   Self-employed-not incorporated         4          34   Some college but no degree     0   Not in universe        Divorced                  Construction   Precision production craft & repair                       White      All other     Male    Not in universe         Not in universe            Children or Armed Forces              0               0                      0   Head of household             South          Arkansas                                Householder                             Householder          1053.55    MSA to MSA   Same county     Same county                                 No               Yes              1         Not in universe   United-States   United-States   United-States     Native- Born in the United States      0   Not in universe      2            52    94  -50000\n",
       "2   18                  Not in universe         0           0                   10th grade     0       High school   Never married   Not in universe or children                       Not in universe   Asian or Pacific Islander      All other   Female    Not in universe         Not in universe                  Not in labor force              0               0                      0            Nonfiler   Not in universe   Not in universe    Child 18+ never marr Not in a subfamily                       Child 18 or older           991.95             ?             ?               ?   Not in universe under 1 year old                 ?              0         Not in universe         Vietnam         Vietnam         Vietnam   Foreign born- Not a citizen of U S       0   Not in universe      2             0    95  -50000\n",
       "3    9                  Not in universe         0           0                     Children     0   Not in universe   Never married   Not in universe or children                       Not in universe                       White      All other   Female    Not in universe         Not in universe            Children or Armed Forces              0               0                      0            Nonfiler   Not in universe   Not in universe      Child <18 never marr not in subfamily            Child under 18 never married          1758.14      Nonmover      Nonmover        Nonmover                                Yes   Not in universe              0    Both parents present   United-States   United-States   United-States     Native- Born in the United States      0   Not in universe      0             0    94  -50000\n",
       "4   10                  Not in universe         0           0                     Children     0   Not in universe   Never married   Not in universe or children                       Not in universe                       White      All other   Female    Not in universe         Not in universe            Children or Armed Forces              0               0                      0            Nonfiler   Not in universe   Not in universe      Child <18 never marr not in subfamily            Child under 18 never married          1069.16      Nonmover      Nonmover        Nonmover                                Yes   Not in universe              0    Both parents present   United-States   United-States   United-States     Native- Born in the United States      0   Not in universe      0             0    94  -50000"
      ]
     },
     "execution_count": 4,
     "metadata": {},
     "output_type": "execute_result"
    },
    {
     "data": {
      "application/javascript": [
       "\n",
       "            setTimeout(function() {\n",
       "                var nbb_cell_id = 4;\n",
       "                var nbb_unformatted_code = \"train_data.head()\";\n",
       "                var nbb_formatted_code = \"train_data.head()\";\n",
       "                var nbb_cells = Jupyter.notebook.get_cells();\n",
       "                for (var i = 0; i < nbb_cells.length; ++i) {\n",
       "                    if (nbb_cells[i].input_prompt_number == nbb_cell_id) {\n",
       "                        if (nbb_cells[i].get_text() == nbb_unformatted_code) {\n",
       "                             nbb_cells[i].set_text(nbb_formatted_code);\n",
       "                        }\n",
       "                        break;\n",
       "                    }\n",
       "                }\n",
       "            }, 500);\n",
       "            "
      ],
      "text/plain": [
       "<IPython.core.display.Javascript object>"
      ]
     },
     "metadata": {},
     "output_type": "display_data"
    }
   ],
   "source": [
    "train_data.head()"
   ]
  },
  {
   "cell_type": "code",
   "execution_count": 5,
   "metadata": {},
   "outputs": [
    {
     "data": {
      "text/html": [
       "<div>\n",
       "<style scoped>\n",
       "    .dataframe tbody tr th:only-of-type {\n",
       "        vertical-align: middle;\n",
       "    }\n",
       "\n",
       "    .dataframe tbody tr th {\n",
       "        vertical-align: top;\n",
       "    }\n",
       "\n",
       "    .dataframe thead th {\n",
       "        text-align: right;\n",
       "    }\n",
       "</style>\n",
       "<table border=\"1\" class=\"dataframe\">\n",
       "  <thead>\n",
       "    <tr style=\"text-align: right;\">\n",
       "      <th></th>\n",
       "      <th>age</th>\n",
       "      <th>workclass</th>\n",
       "      <th>industry</th>\n",
       "      <th>occupation</th>\n",
       "      <th>education</th>\n",
       "      <th>wage</th>\n",
       "      <th>enroll_edu</th>\n",
       "      <th>relationship</th>\n",
       "      <th>major_industry_code</th>\n",
       "      <th>major_occupation</th>\n",
       "      <th>race</th>\n",
       "      <th>hispanic_orgin</th>\n",
       "      <th>sex</th>\n",
       "      <th>member_labor_union</th>\n",
       "      <th>reason_for_unemployment</th>\n",
       "      <th>full_or_part_time_unemployment_stat</th>\n",
       "      <th>capital_gains</th>\n",
       "      <th>capital_losses</th>\n",
       "      <th>dividends_from_stocks</th>\n",
       "      <th>tax_filer_stat</th>\n",
       "      <th>region_prev_res</th>\n",
       "      <th>state_prev_res</th>\n",
       "      <th>detail_household_and_family_stat</th>\n",
       "      <th>detailed_household_summary_in_household</th>\n",
       "      <th>instance_weight</th>\n",
       "      <th>change_in_msa</th>\n",
       "      <th>change_in_reg</th>\n",
       "      <th>move_within_reg</th>\n",
       "      <th>house_1yr</th>\n",
       "      <th>mig_sunbelt</th>\n",
       "      <th>num_employers</th>\n",
       "      <th>family_members_under_18</th>\n",
       "      <th>dad_country</th>\n",
       "      <th>mom_country</th>\n",
       "      <th>self_country</th>\n",
       "      <th>citzenship</th>\n",
       "      <th>SEOTR</th>\n",
       "      <th>VETQVA</th>\n",
       "      <th>VETYN</th>\n",
       "      <th>weeks_worked</th>\n",
       "      <th>year</th>\n",
       "      <th>income</th>\n",
       "    </tr>\n",
       "  </thead>\n",
       "  <tbody>\n",
       "    <tr>\n",
       "      <td>0</td>\n",
       "      <td>38</td>\n",
       "      <td>Private</td>\n",
       "      <td>6</td>\n",
       "      <td>36</td>\n",
       "      <td>1st 2nd 3rd or 4th grade</td>\n",
       "      <td>0</td>\n",
       "      <td>Not in universe</td>\n",
       "      <td>Married-civilian spouse present</td>\n",
       "      <td>Manufacturing-durable goods</td>\n",
       "      <td>Machine operators assmblrs &amp; inspctrs</td>\n",
       "      <td>White</td>\n",
       "      <td>Mexican (Mexicano)</td>\n",
       "      <td>Female</td>\n",
       "      <td>Not in universe</td>\n",
       "      <td>Not in universe</td>\n",
       "      <td>Full-time schedules</td>\n",
       "      <td>0</td>\n",
       "      <td>0</td>\n",
       "      <td>0</td>\n",
       "      <td>Joint one under 65 &amp; one 65+</td>\n",
       "      <td>Not in universe</td>\n",
       "      <td>Not in universe</td>\n",
       "      <td>Spouse of householder</td>\n",
       "      <td>Spouse of householder</td>\n",
       "      <td>1032.38</td>\n",
       "      <td>?</td>\n",
       "      <td>?</td>\n",
       "      <td>?</td>\n",
       "      <td>Not in universe under 1 year old</td>\n",
       "      <td>?</td>\n",
       "      <td>4</td>\n",
       "      <td>Not in universe</td>\n",
       "      <td>Mexico</td>\n",
       "      <td>Mexico</td>\n",
       "      <td>Mexico</td>\n",
       "      <td>Foreign born- Not a citizen of U S</td>\n",
       "      <td>0</td>\n",
       "      <td>Not in universe</td>\n",
       "      <td>2</td>\n",
       "      <td>12</td>\n",
       "      <td>95</td>\n",
       "      <td>- 50000.</td>\n",
       "    </tr>\n",
       "    <tr>\n",
       "      <td>1</td>\n",
       "      <td>44</td>\n",
       "      <td>Self-employed-not incorporated</td>\n",
       "      <td>37</td>\n",
       "      <td>12</td>\n",
       "      <td>Associates degree-occup /vocational</td>\n",
       "      <td>0</td>\n",
       "      <td>Not in universe</td>\n",
       "      <td>Married-civilian spouse present</td>\n",
       "      <td>Business and repair services</td>\n",
       "      <td>Professional specialty</td>\n",
       "      <td>White</td>\n",
       "      <td>All other</td>\n",
       "      <td>Female</td>\n",
       "      <td>Not in universe</td>\n",
       "      <td>Not in universe</td>\n",
       "      <td>PT for econ reasons usually PT</td>\n",
       "      <td>0</td>\n",
       "      <td>0</td>\n",
       "      <td>2500</td>\n",
       "      <td>Joint both under 65</td>\n",
       "      <td>Not in universe</td>\n",
       "      <td>Not in universe</td>\n",
       "      <td>Spouse of householder</td>\n",
       "      <td>Spouse of householder</td>\n",
       "      <td>1462.33</td>\n",
       "      <td>?</td>\n",
       "      <td>?</td>\n",
       "      <td>?</td>\n",
       "      <td>Not in universe under 1 year old</td>\n",
       "      <td>?</td>\n",
       "      <td>1</td>\n",
       "      <td>Not in universe</td>\n",
       "      <td>United-States</td>\n",
       "      <td>United-States</td>\n",
       "      <td>United-States</td>\n",
       "      <td>Native- Born in the United States</td>\n",
       "      <td>0</td>\n",
       "      <td>Not in universe</td>\n",
       "      <td>2</td>\n",
       "      <td>26</td>\n",
       "      <td>95</td>\n",
       "      <td>- 50000.</td>\n",
       "    </tr>\n",
       "    <tr>\n",
       "      <td>2</td>\n",
       "      <td>2</td>\n",
       "      <td>Not in universe</td>\n",
       "      <td>0</td>\n",
       "      <td>0</td>\n",
       "      <td>Children</td>\n",
       "      <td>0</td>\n",
       "      <td>Not in universe</td>\n",
       "      <td>Never married</td>\n",
       "      <td>Not in universe or children</td>\n",
       "      <td>Not in universe</td>\n",
       "      <td>White</td>\n",
       "      <td>Mexican-American</td>\n",
       "      <td>Male</td>\n",
       "      <td>Not in universe</td>\n",
       "      <td>Not in universe</td>\n",
       "      <td>Children or Armed Forces</td>\n",
       "      <td>0</td>\n",
       "      <td>0</td>\n",
       "      <td>0</td>\n",
       "      <td>Nonfiler</td>\n",
       "      <td>Not in universe</td>\n",
       "      <td>Not in universe</td>\n",
       "      <td>Child &lt;18 never marr not in subfamily</td>\n",
       "      <td>Child under 18 never married</td>\n",
       "      <td>1601.75</td>\n",
       "      <td>?</td>\n",
       "      <td>?</td>\n",
       "      <td>?</td>\n",
       "      <td>Not in universe under 1 year old</td>\n",
       "      <td>?</td>\n",
       "      <td>0</td>\n",
       "      <td>Both parents present</td>\n",
       "      <td>United-States</td>\n",
       "      <td>United-States</td>\n",
       "      <td>United-States</td>\n",
       "      <td>Native- Born in the United States</td>\n",
       "      <td>0</td>\n",
       "      <td>Not in universe</td>\n",
       "      <td>0</td>\n",
       "      <td>0</td>\n",
       "      <td>95</td>\n",
       "      <td>- 50000.</td>\n",
       "    </tr>\n",
       "    <tr>\n",
       "      <td>3</td>\n",
       "      <td>35</td>\n",
       "      <td>Private</td>\n",
       "      <td>29</td>\n",
       "      <td>3</td>\n",
       "      <td>High school graduate</td>\n",
       "      <td>0</td>\n",
       "      <td>Not in universe</td>\n",
       "      <td>Divorced</td>\n",
       "      <td>Transportation</td>\n",
       "      <td>Executive admin and managerial</td>\n",
       "      <td>White</td>\n",
       "      <td>All other</td>\n",
       "      <td>Female</td>\n",
       "      <td>Not in universe</td>\n",
       "      <td>Not in universe</td>\n",
       "      <td>Children or Armed Forces</td>\n",
       "      <td>0</td>\n",
       "      <td>0</td>\n",
       "      <td>0</td>\n",
       "      <td>Head of household</td>\n",
       "      <td>Not in universe</td>\n",
       "      <td>Not in universe</td>\n",
       "      <td>Householder</td>\n",
       "      <td>Householder</td>\n",
       "      <td>1866.88</td>\n",
       "      <td>Nonmover</td>\n",
       "      <td>Nonmover</td>\n",
       "      <td>Nonmover</td>\n",
       "      <td>Yes</td>\n",
       "      <td>Not in universe</td>\n",
       "      <td>5</td>\n",
       "      <td>Not in universe</td>\n",
       "      <td>United-States</td>\n",
       "      <td>United-States</td>\n",
       "      <td>United-States</td>\n",
       "      <td>Native- Born in the United States</td>\n",
       "      <td>2</td>\n",
       "      <td>Not in universe</td>\n",
       "      <td>2</td>\n",
       "      <td>52</td>\n",
       "      <td>94</td>\n",
       "      <td>- 50000.</td>\n",
       "    </tr>\n",
       "    <tr>\n",
       "      <td>4</td>\n",
       "      <td>49</td>\n",
       "      <td>Private</td>\n",
       "      <td>4</td>\n",
       "      <td>34</td>\n",
       "      <td>High school graduate</td>\n",
       "      <td>0</td>\n",
       "      <td>Not in universe</td>\n",
       "      <td>Divorced</td>\n",
       "      <td>Construction</td>\n",
       "      <td>Precision production craft &amp; repair</td>\n",
       "      <td>White</td>\n",
       "      <td>All other</td>\n",
       "      <td>Male</td>\n",
       "      <td>Not in universe</td>\n",
       "      <td>Not in universe</td>\n",
       "      <td>Full-time schedules</td>\n",
       "      <td>0</td>\n",
       "      <td>0</td>\n",
       "      <td>0</td>\n",
       "      <td>Single</td>\n",
       "      <td>Not in universe</td>\n",
       "      <td>Not in universe</td>\n",
       "      <td>Secondary individual</td>\n",
       "      <td>Nonrelative of householder</td>\n",
       "      <td>1394.54</td>\n",
       "      <td>?</td>\n",
       "      <td>?</td>\n",
       "      <td>?</td>\n",
       "      <td>Not in universe under 1 year old</td>\n",
       "      <td>?</td>\n",
       "      <td>4</td>\n",
       "      <td>Not in universe</td>\n",
       "      <td>United-States</td>\n",
       "      <td>United-States</td>\n",
       "      <td>United-States</td>\n",
       "      <td>Native- Born in the United States</td>\n",
       "      <td>0</td>\n",
       "      <td>Not in universe</td>\n",
       "      <td>2</td>\n",
       "      <td>50</td>\n",
       "      <td>95</td>\n",
       "      <td>- 50000.</td>\n",
       "    </tr>\n",
       "  </tbody>\n",
       "</table>\n",
       "</div>"
      ],
      "text/plain": [
       "   age                        workclass  industry  occupation                             education  wage        enroll_edu                      relationship            major_industry_code                        major_occupation    race       hispanic_orgin      sex member_labor_union reason_for_unemployment full_or_part_time_unemployment_stat  capital_gains  capital_losses  dividends_from_stocks                 tax_filer_stat   region_prev_res    state_prev_res        detail_household_and_family_stat detailed_household_summary_in_household  instance_weight change_in_msa change_in_reg move_within_reg                          house_1yr       mig_sunbelt  num_employers family_members_under_18     dad_country     mom_country    self_country                            citzenship  SEOTR            VETQVA  VETYN  weeks_worked  year     income\n",
       "0   38                          Private         6          36              1st 2nd 3rd or 4th grade     0   Not in universe   Married-civilian spouse present    Manufacturing-durable goods   Machine operators assmblrs & inspctrs   White   Mexican (Mexicano)   Female    Not in universe         Not in universe                 Full-time schedules              0               0                      0   Joint one under 65 & one 65+   Not in universe   Not in universe                   Spouse of householder                   Spouse of householder          1032.38             ?             ?               ?   Not in universe under 1 year old                 ?              4         Not in universe          Mexico          Mexico          Mexico   Foreign born- Not a citizen of U S       0   Not in universe      2            12    95   - 50000.\n",
       "1   44   Self-employed-not incorporated        37          12   Associates degree-occup /vocational     0   Not in universe   Married-civilian spouse present   Business and repair services                  Professional specialty   White            All other   Female    Not in universe         Not in universe      PT for econ reasons usually PT              0               0                   2500            Joint both under 65   Not in universe   Not in universe                   Spouse of householder                   Spouse of householder          1462.33             ?             ?               ?   Not in universe under 1 year old                 ?              1         Not in universe   United-States   United-States   United-States     Native- Born in the United States      0   Not in universe      2            26    95   - 50000.\n",
       "2    2                  Not in universe         0           0                              Children     0   Not in universe                     Never married    Not in universe or children                         Not in universe   White     Mexican-American     Male    Not in universe         Not in universe            Children or Armed Forces              0               0                      0                       Nonfiler   Not in universe   Not in universe   Child <18 never marr not in subfamily            Child under 18 never married          1601.75             ?             ?               ?   Not in universe under 1 year old                 ?              0    Both parents present   United-States   United-States   United-States     Native- Born in the United States      0   Not in universe      0             0    95   - 50000.\n",
       "3   35                          Private        29           3                  High school graduate     0   Not in universe                          Divorced                 Transportation          Executive admin and managerial   White            All other   Female    Not in universe         Not in universe            Children or Armed Forces              0               0                      0              Head of household   Not in universe   Not in universe                             Householder                             Householder          1866.88      Nonmover      Nonmover        Nonmover                                Yes   Not in universe              5         Not in universe   United-States   United-States   United-States     Native- Born in the United States      2   Not in universe      2            52    94   - 50000.\n",
       "4   49                          Private         4          34                  High school graduate     0   Not in universe                          Divorced                   Construction     Precision production craft & repair   White            All other     Male    Not in universe         Not in universe                 Full-time schedules              0               0                      0                         Single   Not in universe   Not in universe                    Secondary individual              Nonrelative of householder          1394.54             ?             ?               ?   Not in universe under 1 year old                 ?              4         Not in universe   United-States   United-States   United-States     Native- Born in the United States      0   Not in universe      2            50    95   - 50000."
      ]
     },
     "execution_count": 5,
     "metadata": {},
     "output_type": "execute_result"
    },
    {
     "data": {
      "application/javascript": [
       "\n",
       "            setTimeout(function() {\n",
       "                var nbb_cell_id = 5;\n",
       "                var nbb_unformatted_code = \"test_data.head()\";\n",
       "                var nbb_formatted_code = \"test_data.head()\";\n",
       "                var nbb_cells = Jupyter.notebook.get_cells();\n",
       "                for (var i = 0; i < nbb_cells.length; ++i) {\n",
       "                    if (nbb_cells[i].input_prompt_number == nbb_cell_id) {\n",
       "                        if (nbb_cells[i].get_text() == nbb_unformatted_code) {\n",
       "                             nbb_cells[i].set_text(nbb_formatted_code);\n",
       "                        }\n",
       "                        break;\n",
       "                    }\n",
       "                }\n",
       "            }, 500);\n",
       "            "
      ],
      "text/plain": [
       "<IPython.core.display.Javascript object>"
      ]
     },
     "metadata": {},
     "output_type": "display_data"
    }
   ],
   "source": [
    "test_data.head()"
   ]
  },
  {
   "cell_type": "code",
   "execution_count": 6,
   "metadata": {},
   "outputs": [
    {
     "name": "stdout",
     "output_type": "stream",
     "text": [
      "<class 'pandas.core.frame.DataFrame'>\n",
      "RangeIndex: 199523 entries, 0 to 199522\n",
      "Data columns (total 42 columns):\n",
      "age                                        199523 non-null int64\n",
      "workclass                                  199523 non-null object\n",
      "industry                                   199523 non-null int64\n",
      "occupation                                 199523 non-null int64\n",
      "education                                  199523 non-null object\n",
      "wage                                       199523 non-null int64\n",
      "enroll_edu                                 199523 non-null object\n",
      "relationship                               199523 non-null object\n",
      "major_industry_code                        199523 non-null object\n",
      "major_occupation                           199523 non-null object\n",
      "race                                       199523 non-null object\n",
      "hispanic_orgin                             199523 non-null object\n",
      "sex                                        199523 non-null object\n",
      "member_labor_union                         199523 non-null object\n",
      "reason_for_unemployment                    199523 non-null object\n",
      "full_or_part_time_unemployment_stat        199523 non-null object\n",
      "capital_gains                              199523 non-null int64\n",
      "capital_losses                             199523 non-null int64\n",
      "dividends_from_stocks                      199523 non-null int64\n",
      "tax_filer_stat                             199523 non-null object\n",
      "region_prev_res                            199523 non-null object\n",
      "state_prev_res                             199523 non-null object\n",
      "detail_household_and_family_stat           199523 non-null object\n",
      "detailed_household_summary_in_household    199523 non-null object\n",
      "instance_weight                            199523 non-null float64\n",
      "change_in_msa                              199523 non-null object\n",
      "change_in_reg                              199523 non-null object\n",
      "move_within_reg                            199523 non-null object\n",
      "house_1yr                                  199523 non-null object\n",
      "mig_sunbelt                                199523 non-null object\n",
      "num_employers                              199523 non-null int64\n",
      "family_members_under_18                    199523 non-null object\n",
      "dad_country                                199523 non-null object\n",
      "mom_country                                199523 non-null object\n",
      "self_country                               199523 non-null object\n",
      "citzenship                                 199523 non-null object\n",
      "SEOTR                                      199523 non-null int64\n",
      "VETQVA                                     199523 non-null object\n",
      "VETYN                                      199523 non-null int64\n",
      "weeks_worked                               199523 non-null int64\n",
      "year                                       199523 non-null int64\n",
      "income                                     199523 non-null object\n",
      "dtypes: float64(1), int64(12), object(29)\n",
      "memory usage: 63.9+ MB\n"
     ]
    },
    {
     "data": {
      "application/javascript": [
       "\n",
       "            setTimeout(function() {\n",
       "                var nbb_cell_id = 6;\n",
       "                var nbb_unformatted_code = \"train_data.info()\";\n",
       "                var nbb_formatted_code = \"train_data.info()\";\n",
       "                var nbb_cells = Jupyter.notebook.get_cells();\n",
       "                for (var i = 0; i < nbb_cells.length; ++i) {\n",
       "                    if (nbb_cells[i].input_prompt_number == nbb_cell_id) {\n",
       "                        if (nbb_cells[i].get_text() == nbb_unformatted_code) {\n",
       "                             nbb_cells[i].set_text(nbb_formatted_code);\n",
       "                        }\n",
       "                        break;\n",
       "                    }\n",
       "                }\n",
       "            }, 500);\n",
       "            "
      ],
      "text/plain": [
       "<IPython.core.display.Javascript object>"
      ]
     },
     "metadata": {},
     "output_type": "display_data"
    }
   ],
   "source": [
    "train_data.info()"
   ]
  },
  {
   "cell_type": "code",
   "execution_count": 7,
   "metadata": {
    "scrolled": true
   },
   "outputs": [
    {
     "data": {
      "text/plain": [
       "age                                           91\n",
       "workclass                                      9\n",
       "industry                                      52\n",
       "occupation                                    47\n",
       "education                                     17\n",
       "wage                                        1240\n",
       "enroll_edu                                     3\n",
       "relationship                                   7\n",
       "major_industry_code                           24\n",
       "major_occupation                              15\n",
       "race                                           5\n",
       "hispanic_orgin                                10\n",
       "sex                                            2\n",
       "member_labor_union                             3\n",
       "reason_for_unemployment                        6\n",
       "full_or_part_time_unemployment_stat            8\n",
       "capital_gains                                132\n",
       "capital_losses                               113\n",
       "dividends_from_stocks                       1478\n",
       "tax_filer_stat                                 6\n",
       "region_prev_res                                6\n",
       "state_prev_res                                51\n",
       "detail_household_and_family_stat              38\n",
       "detailed_household_summary_in_household        8\n",
       "instance_weight                            99800\n",
       "change_in_msa                                 10\n",
       "change_in_reg                                  9\n",
       "move_within_reg                               10\n",
       "house_1yr                                      3\n",
       "mig_sunbelt                                    4\n",
       "num_employers                                  7\n",
       "family_members_under_18                        5\n",
       "dad_country                                   43\n",
       "mom_country                                   43\n",
       "self_country                                  43\n",
       "citzenship                                     5\n",
       "SEOTR                                          3\n",
       "VETQVA                                         3\n",
       "VETYN                                          3\n",
       "weeks_worked                                  53\n",
       "year                                           2\n",
       "income                                         2\n",
       "dtype: int64"
      ]
     },
     "execution_count": 7,
     "metadata": {},
     "output_type": "execute_result"
    },
    {
     "data": {
      "application/javascript": [
       "\n",
       "            setTimeout(function() {\n",
       "                var nbb_cell_id = 7;\n",
       "                var nbb_unformatted_code = \"train_data.nunique()\";\n",
       "                var nbb_formatted_code = \"train_data.nunique()\";\n",
       "                var nbb_cells = Jupyter.notebook.get_cells();\n",
       "                for (var i = 0; i < nbb_cells.length; ++i) {\n",
       "                    if (nbb_cells[i].input_prompt_number == nbb_cell_id) {\n",
       "                        if (nbb_cells[i].get_text() == nbb_unformatted_code) {\n",
       "                             nbb_cells[i].set_text(nbb_formatted_code);\n",
       "                        }\n",
       "                        break;\n",
       "                    }\n",
       "                }\n",
       "            }, 500);\n",
       "            "
      ],
      "text/plain": [
       "<IPython.core.display.Javascript object>"
      ]
     },
     "metadata": {},
     "output_type": "display_data"
    }
   ],
   "source": [
    "train_data.nunique()"
   ]
  },
  {
   "cell_type": "code",
   "execution_count": 8,
   "metadata": {
    "scrolled": false
   },
   "outputs": [
    {
     "data": {
      "text/html": [
       "<div>\n",
       "<style scoped>\n",
       "    .dataframe tbody tr th:only-of-type {\n",
       "        vertical-align: middle;\n",
       "    }\n",
       "\n",
       "    .dataframe tbody tr th {\n",
       "        vertical-align: top;\n",
       "    }\n",
       "\n",
       "    .dataframe thead th {\n",
       "        text-align: right;\n",
       "    }\n",
       "</style>\n",
       "<table border=\"1\" class=\"dataframe\">\n",
       "  <thead>\n",
       "    <tr style=\"text-align: right;\">\n",
       "      <th></th>\n",
       "      <th>age</th>\n",
       "      <th>industry</th>\n",
       "      <th>occupation</th>\n",
       "      <th>wage</th>\n",
       "      <th>capital_gains</th>\n",
       "      <th>capital_losses</th>\n",
       "      <th>dividends_from_stocks</th>\n",
       "      <th>instance_weight</th>\n",
       "      <th>num_employers</th>\n",
       "      <th>SEOTR</th>\n",
       "      <th>VETYN</th>\n",
       "      <th>weeks_worked</th>\n",
       "      <th>year</th>\n",
       "    </tr>\n",
       "  </thead>\n",
       "  <tbody>\n",
       "    <tr>\n",
       "      <td>count</td>\n",
       "      <td>199523.000000</td>\n",
       "      <td>199523.000000</td>\n",
       "      <td>199523.000000</td>\n",
       "      <td>199523.000000</td>\n",
       "      <td>199523.00000</td>\n",
       "      <td>199523.000000</td>\n",
       "      <td>199523.000000</td>\n",
       "      <td>199523.000000</td>\n",
       "      <td>199523.000000</td>\n",
       "      <td>199523.000000</td>\n",
       "      <td>199523.000000</td>\n",
       "      <td>199523.000000</td>\n",
       "      <td>199523.000000</td>\n",
       "    </tr>\n",
       "    <tr>\n",
       "      <td>mean</td>\n",
       "      <td>34.494199</td>\n",
       "      <td>15.352320</td>\n",
       "      <td>11.306556</td>\n",
       "      <td>55.426908</td>\n",
       "      <td>434.71899</td>\n",
       "      <td>37.313788</td>\n",
       "      <td>197.529533</td>\n",
       "      <td>1740.380269</td>\n",
       "      <td>1.956180</td>\n",
       "      <td>0.175438</td>\n",
       "      <td>1.514833</td>\n",
       "      <td>23.174897</td>\n",
       "      <td>94.499672</td>\n",
       "    </tr>\n",
       "    <tr>\n",
       "      <td>std</td>\n",
       "      <td>22.310895</td>\n",
       "      <td>18.067129</td>\n",
       "      <td>14.454204</td>\n",
       "      <td>274.896454</td>\n",
       "      <td>4697.53128</td>\n",
       "      <td>271.896428</td>\n",
       "      <td>1984.163658</td>\n",
       "      <td>993.768156</td>\n",
       "      <td>2.365126</td>\n",
       "      <td>0.553694</td>\n",
       "      <td>0.851473</td>\n",
       "      <td>24.411488</td>\n",
       "      <td>0.500001</td>\n",
       "    </tr>\n",
       "    <tr>\n",
       "      <td>min</td>\n",
       "      <td>0.000000</td>\n",
       "      <td>0.000000</td>\n",
       "      <td>0.000000</td>\n",
       "      <td>0.000000</td>\n",
       "      <td>0.00000</td>\n",
       "      <td>0.000000</td>\n",
       "      <td>0.000000</td>\n",
       "      <td>37.870000</td>\n",
       "      <td>0.000000</td>\n",
       "      <td>0.000000</td>\n",
       "      <td>0.000000</td>\n",
       "      <td>0.000000</td>\n",
       "      <td>94.000000</td>\n",
       "    </tr>\n",
       "    <tr>\n",
       "      <td>25%</td>\n",
       "      <td>15.000000</td>\n",
       "      <td>0.000000</td>\n",
       "      <td>0.000000</td>\n",
       "      <td>0.000000</td>\n",
       "      <td>0.00000</td>\n",
       "      <td>0.000000</td>\n",
       "      <td>0.000000</td>\n",
       "      <td>1061.615000</td>\n",
       "      <td>0.000000</td>\n",
       "      <td>0.000000</td>\n",
       "      <td>2.000000</td>\n",
       "      <td>0.000000</td>\n",
       "      <td>94.000000</td>\n",
       "    </tr>\n",
       "    <tr>\n",
       "      <td>50%</td>\n",
       "      <td>33.000000</td>\n",
       "      <td>0.000000</td>\n",
       "      <td>0.000000</td>\n",
       "      <td>0.000000</td>\n",
       "      <td>0.00000</td>\n",
       "      <td>0.000000</td>\n",
       "      <td>0.000000</td>\n",
       "      <td>1618.310000</td>\n",
       "      <td>1.000000</td>\n",
       "      <td>0.000000</td>\n",
       "      <td>2.000000</td>\n",
       "      <td>8.000000</td>\n",
       "      <td>94.000000</td>\n",
       "    </tr>\n",
       "    <tr>\n",
       "      <td>75%</td>\n",
       "      <td>50.000000</td>\n",
       "      <td>33.000000</td>\n",
       "      <td>26.000000</td>\n",
       "      <td>0.000000</td>\n",
       "      <td>0.00000</td>\n",
       "      <td>0.000000</td>\n",
       "      <td>0.000000</td>\n",
       "      <td>2188.610000</td>\n",
       "      <td>4.000000</td>\n",
       "      <td>0.000000</td>\n",
       "      <td>2.000000</td>\n",
       "      <td>52.000000</td>\n",
       "      <td>95.000000</td>\n",
       "    </tr>\n",
       "    <tr>\n",
       "      <td>max</td>\n",
       "      <td>90.000000</td>\n",
       "      <td>51.000000</td>\n",
       "      <td>46.000000</td>\n",
       "      <td>9999.000000</td>\n",
       "      <td>99999.00000</td>\n",
       "      <td>4608.000000</td>\n",
       "      <td>99999.000000</td>\n",
       "      <td>18656.300000</td>\n",
       "      <td>6.000000</td>\n",
       "      <td>2.000000</td>\n",
       "      <td>2.000000</td>\n",
       "      <td>52.000000</td>\n",
       "      <td>95.000000</td>\n",
       "    </tr>\n",
       "  </tbody>\n",
       "</table>\n",
       "</div>"
      ],
      "text/plain": [
       "                 age       industry     occupation           wage  capital_gains  capital_losses  dividends_from_stocks  instance_weight  num_employers          SEOTR          VETYN   weeks_worked           year\n",
       "count  199523.000000  199523.000000  199523.000000  199523.000000   199523.00000   199523.000000          199523.000000    199523.000000  199523.000000  199523.000000  199523.000000  199523.000000  199523.000000\n",
       "mean       34.494199      15.352320      11.306556      55.426908      434.71899       37.313788             197.529533      1740.380269       1.956180       0.175438       1.514833      23.174897      94.499672\n",
       "std        22.310895      18.067129      14.454204     274.896454     4697.53128      271.896428            1984.163658       993.768156       2.365126       0.553694       0.851473      24.411488       0.500001\n",
       "min         0.000000       0.000000       0.000000       0.000000        0.00000        0.000000               0.000000        37.870000       0.000000       0.000000       0.000000       0.000000      94.000000\n",
       "25%        15.000000       0.000000       0.000000       0.000000        0.00000        0.000000               0.000000      1061.615000       0.000000       0.000000       2.000000       0.000000      94.000000\n",
       "50%        33.000000       0.000000       0.000000       0.000000        0.00000        0.000000               0.000000      1618.310000       1.000000       0.000000       2.000000       8.000000      94.000000\n",
       "75%        50.000000      33.000000      26.000000       0.000000        0.00000        0.000000               0.000000      2188.610000       4.000000       0.000000       2.000000      52.000000      95.000000\n",
       "max        90.000000      51.000000      46.000000    9999.000000    99999.00000     4608.000000           99999.000000     18656.300000       6.000000       2.000000       2.000000      52.000000      95.000000"
      ]
     },
     "execution_count": 8,
     "metadata": {},
     "output_type": "execute_result"
    },
    {
     "data": {
      "application/javascript": [
       "\n",
       "            setTimeout(function() {\n",
       "                var nbb_cell_id = 8;\n",
       "                var nbb_unformatted_code = \"train_data.describe()\";\n",
       "                var nbb_formatted_code = \"train_data.describe()\";\n",
       "                var nbb_cells = Jupyter.notebook.get_cells();\n",
       "                for (var i = 0; i < nbb_cells.length; ++i) {\n",
       "                    if (nbb_cells[i].input_prompt_number == nbb_cell_id) {\n",
       "                        if (nbb_cells[i].get_text() == nbb_unformatted_code) {\n",
       "                             nbb_cells[i].set_text(nbb_formatted_code);\n",
       "                        }\n",
       "                        break;\n",
       "                    }\n",
       "                }\n",
       "            }, 500);\n",
       "            "
      ],
      "text/plain": [
       "<IPython.core.display.Javascript object>"
      ]
     },
     "metadata": {},
     "output_type": "display_data"
    }
   ],
   "source": [
    "train_data.describe()"
   ]
  },
  {
   "cell_type": "code",
   "execution_count": 9,
   "metadata": {},
   "outputs": [
    {
     "data": {
      "text/html": [
       "<div>\n",
       "<style scoped>\n",
       "    .dataframe tbody tr th:only-of-type {\n",
       "        vertical-align: middle;\n",
       "    }\n",
       "\n",
       "    .dataframe tbody tr th {\n",
       "        vertical-align: top;\n",
       "    }\n",
       "\n",
       "    .dataframe thead th {\n",
       "        text-align: right;\n",
       "    }\n",
       "</style>\n",
       "<table border=\"1\" class=\"dataframe\">\n",
       "  <thead>\n",
       "    <tr style=\"text-align: right;\">\n",
       "      <th></th>\n",
       "      <th>workclass</th>\n",
       "      <th>education</th>\n",
       "      <th>enroll_edu</th>\n",
       "      <th>relationship</th>\n",
       "      <th>major_industry_code</th>\n",
       "      <th>major_occupation</th>\n",
       "      <th>race</th>\n",
       "      <th>hispanic_orgin</th>\n",
       "      <th>sex</th>\n",
       "      <th>member_labor_union</th>\n",
       "      <th>reason_for_unemployment</th>\n",
       "      <th>full_or_part_time_unemployment_stat</th>\n",
       "      <th>tax_filer_stat</th>\n",
       "      <th>region_prev_res</th>\n",
       "      <th>state_prev_res</th>\n",
       "      <th>detail_household_and_family_stat</th>\n",
       "      <th>detailed_household_summary_in_household</th>\n",
       "      <th>change_in_msa</th>\n",
       "      <th>change_in_reg</th>\n",
       "      <th>move_within_reg</th>\n",
       "      <th>house_1yr</th>\n",
       "      <th>mig_sunbelt</th>\n",
       "      <th>family_members_under_18</th>\n",
       "      <th>dad_country</th>\n",
       "      <th>mom_country</th>\n",
       "      <th>self_country</th>\n",
       "      <th>citzenship</th>\n",
       "      <th>VETQVA</th>\n",
       "      <th>income</th>\n",
       "    </tr>\n",
       "  </thead>\n",
       "  <tbody>\n",
       "    <tr>\n",
       "      <td>count</td>\n",
       "      <td>199523</td>\n",
       "      <td>199523</td>\n",
       "      <td>199523</td>\n",
       "      <td>199523</td>\n",
       "      <td>199523</td>\n",
       "      <td>199523</td>\n",
       "      <td>199523</td>\n",
       "      <td>199523</td>\n",
       "      <td>199523</td>\n",
       "      <td>199523</td>\n",
       "      <td>199523</td>\n",
       "      <td>199523</td>\n",
       "      <td>199523</td>\n",
       "      <td>199523</td>\n",
       "      <td>199523</td>\n",
       "      <td>199523</td>\n",
       "      <td>199523</td>\n",
       "      <td>199523</td>\n",
       "      <td>199523</td>\n",
       "      <td>199523</td>\n",
       "      <td>199523</td>\n",
       "      <td>199523</td>\n",
       "      <td>199523</td>\n",
       "      <td>199523</td>\n",
       "      <td>199523</td>\n",
       "      <td>199523</td>\n",
       "      <td>199523</td>\n",
       "      <td>199523</td>\n",
       "      <td>199523</td>\n",
       "    </tr>\n",
       "    <tr>\n",
       "      <td>unique</td>\n",
       "      <td>9</td>\n",
       "      <td>17</td>\n",
       "      <td>3</td>\n",
       "      <td>7</td>\n",
       "      <td>24</td>\n",
       "      <td>15</td>\n",
       "      <td>5</td>\n",
       "      <td>10</td>\n",
       "      <td>2</td>\n",
       "      <td>3</td>\n",
       "      <td>6</td>\n",
       "      <td>8</td>\n",
       "      <td>6</td>\n",
       "      <td>6</td>\n",
       "      <td>51</td>\n",
       "      <td>38</td>\n",
       "      <td>8</td>\n",
       "      <td>10</td>\n",
       "      <td>9</td>\n",
       "      <td>10</td>\n",
       "      <td>3</td>\n",
       "      <td>4</td>\n",
       "      <td>5</td>\n",
       "      <td>43</td>\n",
       "      <td>43</td>\n",
       "      <td>43</td>\n",
       "      <td>5</td>\n",
       "      <td>3</td>\n",
       "      <td>2</td>\n",
       "    </tr>\n",
       "    <tr>\n",
       "      <td>top</td>\n",
       "      <td>Not in universe</td>\n",
       "      <td>High school graduate</td>\n",
       "      <td>Not in universe</td>\n",
       "      <td>Never married</td>\n",
       "      <td>Not in universe or children</td>\n",
       "      <td>Not in universe</td>\n",
       "      <td>White</td>\n",
       "      <td>All other</td>\n",
       "      <td>Female</td>\n",
       "      <td>Not in universe</td>\n",
       "      <td>Not in universe</td>\n",
       "      <td>Children or Armed Forces</td>\n",
       "      <td>Nonfiler</td>\n",
       "      <td>Not in universe</td>\n",
       "      <td>Not in universe</td>\n",
       "      <td>Householder</td>\n",
       "      <td>Householder</td>\n",
       "      <td>?</td>\n",
       "      <td>?</td>\n",
       "      <td>?</td>\n",
       "      <td>Not in universe under 1 year old</td>\n",
       "      <td>?</td>\n",
       "      <td>Not in universe</td>\n",
       "      <td>United-States</td>\n",
       "      <td>United-States</td>\n",
       "      <td>United-States</td>\n",
       "      <td>Native- Born in the United States</td>\n",
       "      <td>Not in universe</td>\n",
       "      <td>-50000</td>\n",
       "    </tr>\n",
       "    <tr>\n",
       "      <td>freq</td>\n",
       "      <td>100245</td>\n",
       "      <td>48407</td>\n",
       "      <td>186943</td>\n",
       "      <td>86485</td>\n",
       "      <td>100684</td>\n",
       "      <td>100684</td>\n",
       "      <td>167365</td>\n",
       "      <td>171907</td>\n",
       "      <td>103984</td>\n",
       "      <td>180459</td>\n",
       "      <td>193453</td>\n",
       "      <td>123769</td>\n",
       "      <td>75094</td>\n",
       "      <td>183750</td>\n",
       "      <td>183750</td>\n",
       "      <td>53248</td>\n",
       "      <td>75475</td>\n",
       "      <td>99696</td>\n",
       "      <td>99696</td>\n",
       "      <td>99696</td>\n",
       "      <td>101212</td>\n",
       "      <td>99696</td>\n",
       "      <td>144232</td>\n",
       "      <td>159163</td>\n",
       "      <td>160479</td>\n",
       "      <td>176989</td>\n",
       "      <td>176992</td>\n",
       "      <td>197539</td>\n",
       "      <td>187141</td>\n",
       "    </tr>\n",
       "  </tbody>\n",
       "</table>\n",
       "</div>"
      ],
      "text/plain": [
       "               workclass              education        enroll_edu    relationship           major_industry_code  major_occupation    race hispanic_orgin      sex member_labor_union reason_for_unemployment full_or_part_time_unemployment_stat tax_filer_stat   region_prev_res    state_prev_res detail_household_and_family_stat detailed_household_summary_in_household change_in_msa change_in_reg move_within_reg                          house_1yr mig_sunbelt family_members_under_18     dad_country     mom_country    self_country                          citzenship            VETQVA  income\n",
       "count             199523                 199523            199523          199523                        199523            199523  199523         199523   199523             199523                  199523                              199523         199523            199523            199523                           199523                                  199523        199523        199523          199523                             199523      199523                  199523          199523          199523          199523                              199523            199523  199523\n",
       "unique                 9                     17                 3               7                            24                15       5             10        2                  3                       6                                   8              6                 6                51                               38                                       8            10             9              10                                  3           4                       5              43              43              43                                   5                 3       2\n",
       "top      Not in universe   High school graduate   Not in universe   Never married   Not in universe or children   Not in universe   White      All other   Female    Not in universe         Not in universe            Children or Armed Forces       Nonfiler   Not in universe   Not in universe                      Householder                             Householder             ?             ?               ?   Not in universe under 1 year old           ?         Not in universe   United-States   United-States   United-States   Native- Born in the United States   Not in universe  -50000\n",
       "freq              100245                  48407            186943           86485                        100684            100684  167365         171907   103984             180459                  193453                              123769          75094            183750            183750                            53248                                   75475         99696         99696           99696                             101212       99696                  144232          159163          160479          176989                              176992            197539  187141"
      ]
     },
     "execution_count": 9,
     "metadata": {},
     "output_type": "execute_result"
    },
    {
     "data": {
      "application/javascript": [
       "\n",
       "            setTimeout(function() {\n",
       "                var nbb_cell_id = 9;\n",
       "                var nbb_unformatted_code = \"# Descriptive statistics for just text-based variables\\ntrain_data.describe(include=[\\\"O\\\"])\";\n",
       "                var nbb_formatted_code = \"# Descriptive statistics for just text-based variables\\ntrain_data.describe(include=[\\\"O\\\"])\";\n",
       "                var nbb_cells = Jupyter.notebook.get_cells();\n",
       "                for (var i = 0; i < nbb_cells.length; ++i) {\n",
       "                    if (nbb_cells[i].input_prompt_number == nbb_cell_id) {\n",
       "                        if (nbb_cells[i].get_text() == nbb_unformatted_code) {\n",
       "                             nbb_cells[i].set_text(nbb_formatted_code);\n",
       "                        }\n",
       "                        break;\n",
       "                    }\n",
       "                }\n",
       "            }, 500);\n",
       "            "
      ],
      "text/plain": [
       "<IPython.core.display.Javascript object>"
      ]
     },
     "metadata": {},
     "output_type": "display_data"
    }
   ],
   "source": [
    "# Descriptive statistics for just text-based variables\n",
    "train_data.describe(include=[\"O\"])"
   ]
  },
  {
   "cell_type": "markdown",
   "metadata": {},
   "source": [
    "# Data Cleaning Process"
   ]
  },
  {
   "cell_type": "code",
   "execution_count": 10,
   "metadata": {},
   "outputs": [
    {
     "data": {
      "application/javascript": [
       "\n",
       "            setTimeout(function() {\n",
       "                var nbb_cell_id = 10;\n",
       "                var nbb_unformatted_code = \"# Getting rid of unnecessary spaces\\ntrain_data = train_data.replace(\\\" \\\", \\\"\\\", regex=True)\\ntest_data = test_data.replace(\\\" \\\", \\\"\\\", regex=True)\";\n",
       "                var nbb_formatted_code = \"# Getting rid of unnecessary spaces\\ntrain_data = train_data.replace(\\\" \\\", \\\"\\\", regex=True)\\ntest_data = test_data.replace(\\\" \\\", \\\"\\\", regex=True)\";\n",
       "                var nbb_cells = Jupyter.notebook.get_cells();\n",
       "                for (var i = 0; i < nbb_cells.length; ++i) {\n",
       "                    if (nbb_cells[i].input_prompt_number == nbb_cell_id) {\n",
       "                        if (nbb_cells[i].get_text() == nbb_unformatted_code) {\n",
       "                             nbb_cells[i].set_text(nbb_formatted_code);\n",
       "                        }\n",
       "                        break;\n",
       "                    }\n",
       "                }\n",
       "            }, 500);\n",
       "            "
      ],
      "text/plain": [
       "<IPython.core.display.Javascript object>"
      ]
     },
     "metadata": {},
     "output_type": "display_data"
    }
   ],
   "source": [
    "# Getting rid of unnecessary spaces\n",
    "train_data = train_data.replace(\" \", \"\", regex=True)\n",
    "test_data = test_data.replace(\" \", \"\", regex=True)"
   ]
  },
  {
   "cell_type": "code",
   "execution_count": 11,
   "metadata": {},
   "outputs": [
    {
     "data": {
      "application/javascript": [
       "\n",
       "            setTimeout(function() {\n",
       "                var nbb_cell_id = 11;\n",
       "                var nbb_unformatted_code = \"# replacing notinuniverse and making nan values\\ntrain_data = train_data.replace([\\\"Notinuniverse\\\", \\\"Notinuniverseorchildren\\\"], np.nan)\\ntest_data = test_data.replace([\\\"Notinuniverse\\\", \\\"Notinuniverseorchildren\\\"], np.nan)\\n# replacing question mark with unknown\\ntrain_data = train_data.replace([\\\"?\\\"], np.nan)\\ntest_data = test_data.replace([\\\"?\\\"], np.nan)\";\n",
       "                var nbb_formatted_code = \"# replacing notinuniverse and making nan values\\ntrain_data = train_data.replace([\\\"Notinuniverse\\\", \\\"Notinuniverseorchildren\\\"], np.nan)\\ntest_data = test_data.replace([\\\"Notinuniverse\\\", \\\"Notinuniverseorchildren\\\"], np.nan)\\n# replacing question mark with unknown\\ntrain_data = train_data.replace([\\\"?\\\"], np.nan)\\ntest_data = test_data.replace([\\\"?\\\"], np.nan)\";\n",
       "                var nbb_cells = Jupyter.notebook.get_cells();\n",
       "                for (var i = 0; i < nbb_cells.length; ++i) {\n",
       "                    if (nbb_cells[i].input_prompt_number == nbb_cell_id) {\n",
       "                        if (nbb_cells[i].get_text() == nbb_unformatted_code) {\n",
       "                             nbb_cells[i].set_text(nbb_formatted_code);\n",
       "                        }\n",
       "                        break;\n",
       "                    }\n",
       "                }\n",
       "            }, 500);\n",
       "            "
      ],
      "text/plain": [
       "<IPython.core.display.Javascript object>"
      ]
     },
     "metadata": {},
     "output_type": "display_data"
    }
   ],
   "source": [
    "# replacing notinuniverse and making nan values\n",
    "train_data = train_data.replace([\"Notinuniverse\", \"Notinuniverseorchildren\"], np.nan)\n",
    "test_data = test_data.replace([\"Notinuniverse\", \"Notinuniverseorchildren\"], np.nan)\n",
    "# replacing question mark with unknown\n",
    "train_data = train_data.replace([\"?\"], np.nan)\n",
    "test_data = test_data.replace([\"?\"], np.nan)"
   ]
  },
  {
   "cell_type": "code",
   "execution_count": 12,
   "metadata": {},
   "outputs": [
    {
     "data": {
      "text/plain": [
       "age                                         0.000000\n",
       "workclass                                  50.242328\n",
       "industry                                    0.000000\n",
       "occupation                                  0.000000\n",
       "education                                   0.000000\n",
       "wage                                        0.000000\n",
       "enroll_edu                                 93.694962\n",
       "relationship                                0.000000\n",
       "major_industry_code                        50.462353\n",
       "major_occupation                           50.462353\n",
       "race                                        0.000000\n",
       "hispanic_orgin                              0.000000\n",
       "sex                                         0.000000\n",
       "member_labor_union                         90.445212\n",
       "reason_for_unemployment                    96.957744\n",
       "full_or_part_time_unemployment_stat         0.000000\n",
       "capital_gains                               0.000000\n",
       "capital_losses                              0.000000\n",
       "dividends_from_stocks                       0.000000\n",
       "tax_filer_stat                              0.000000\n",
       "region_prev_res                            92.094646\n",
       "state_prev_res                             92.449492\n",
       "detail_household_and_family_stat            0.000000\n",
       "detailed_household_summary_in_household     0.000000\n",
       "instance_weight                             0.000000\n",
       "change_in_msa                              50.726984\n",
       "change_in_reg                              50.726984\n",
       "move_within_reg                            50.726984\n",
       "house_1yr                                   0.000000\n",
       "mig_sunbelt                                92.094646\n",
       "num_employers                               0.000000\n",
       "family_members_under_18                    72.288408\n",
       "dad_country                                 3.364524\n",
       "mom_country                                 3.066814\n",
       "self_country                                1.700556\n",
       "citzenship                                  0.000000\n",
       "SEOTR                                       0.000000\n",
       "VETQVA                                     99.005628\n",
       "VETYN                                       0.000000\n",
       "weeks_worked                                0.000000\n",
       "year                                        0.000000\n",
       "income                                      0.000000\n",
       "dtype: float64"
      ]
     },
     "execution_count": 12,
     "metadata": {},
     "output_type": "execute_result"
    },
    {
     "data": {
      "application/javascript": [
       "\n",
       "            setTimeout(function() {\n",
       "                var nbb_cell_id = 12;\n",
       "                var nbb_unformatted_code = \"# Looking at the percentage of null values in each column\\ntrain_data.isnull().sum() * 100 / train_data.isnull().count()\";\n",
       "                var nbb_formatted_code = \"# Looking at the percentage of null values in each column\\ntrain_data.isnull().sum() * 100 / train_data.isnull().count()\";\n",
       "                var nbb_cells = Jupyter.notebook.get_cells();\n",
       "                for (var i = 0; i < nbb_cells.length; ++i) {\n",
       "                    if (nbb_cells[i].input_prompt_number == nbb_cell_id) {\n",
       "                        if (nbb_cells[i].get_text() == nbb_unformatted_code) {\n",
       "                             nbb_cells[i].set_text(nbb_formatted_code);\n",
       "                        }\n",
       "                        break;\n",
       "                    }\n",
       "                }\n",
       "            }, 500);\n",
       "            "
      ],
      "text/plain": [
       "<IPython.core.display.Javascript object>"
      ]
     },
     "metadata": {},
     "output_type": "display_data"
    }
   ],
   "source": [
    "# Looking at the percentage of null values in each column\n",
    "train_data.isnull().sum() * 100 / train_data.isnull().count()"
   ]
  },
  {
   "cell_type": "code",
   "execution_count": 13,
   "metadata": {},
   "outputs": [
    {
     "data": {
      "application/javascript": [
       "\n",
       "            setTimeout(function() {\n",
       "                var nbb_cell_id = 13;\n",
       "                var nbb_unformatted_code = \"# dropping columns with huge amount of null values and useless instance_weight and year columns\\ntrain_data.drop(\\n    [\\n        \\\"enroll_edu\\\",\\n        \\\"member_labor_union\\\",\\n        \\\"reason_for_unemployment\\\",\\n        \\\"region_prev_res\\\",\\n        \\\"state_prev_res\\\",\\n        \\\"mig_sunbelt\\\",\\n        \\\"family_members_under_18\\\",\\n        \\\"instance_weight\\\",\\n        \\\"VETQVA\\\",\\n        \\\"year\\\",\\n        \\\"major_industry_code\\\",\\n        \\\"major_occupation\\\",\\n        \\\"workclass\\\",\\n    ],\\n    axis=1,\\n    inplace=True,\\n)\\n\\n# repeating the process for test data too\\ntest_data.drop(\\n    [\\n        \\\"enroll_edu\\\",\\n        \\\"member_labor_union\\\",\\n        \\\"reason_for_unemployment\\\",\\n        \\\"region_prev_res\\\",\\n        \\\"state_prev_res\\\",\\n        \\\"mig_sunbelt\\\",\\n        \\\"family_members_under_18\\\",\\n        \\\"instance_weight\\\",\\n        \\\"VETQVA\\\",\\n        \\\"year\\\",\\n        \\\"major_industry_code\\\",\\n        \\\"major_occupation\\\",\\n        \\\"workclass\\\",\\n    ],\\n    axis=1,\\n    inplace=True,\\n)\";\n",
       "                var nbb_formatted_code = \"# dropping columns with huge amount of null values and useless instance_weight and year columns\\ntrain_data.drop(\\n    [\\n        \\\"enroll_edu\\\",\\n        \\\"member_labor_union\\\",\\n        \\\"reason_for_unemployment\\\",\\n        \\\"region_prev_res\\\",\\n        \\\"state_prev_res\\\",\\n        \\\"mig_sunbelt\\\",\\n        \\\"family_members_under_18\\\",\\n        \\\"instance_weight\\\",\\n        \\\"VETQVA\\\",\\n        \\\"year\\\",\\n        \\\"major_industry_code\\\",\\n        \\\"major_occupation\\\",\\n        \\\"workclass\\\",\\n    ],\\n    axis=1,\\n    inplace=True,\\n)\\n\\n# repeating the process for test data too\\ntest_data.drop(\\n    [\\n        \\\"enroll_edu\\\",\\n        \\\"member_labor_union\\\",\\n        \\\"reason_for_unemployment\\\",\\n        \\\"region_prev_res\\\",\\n        \\\"state_prev_res\\\",\\n        \\\"mig_sunbelt\\\",\\n        \\\"family_members_under_18\\\",\\n        \\\"instance_weight\\\",\\n        \\\"VETQVA\\\",\\n        \\\"year\\\",\\n        \\\"major_industry_code\\\",\\n        \\\"major_occupation\\\",\\n        \\\"workclass\\\",\\n    ],\\n    axis=1,\\n    inplace=True,\\n)\";\n",
       "                var nbb_cells = Jupyter.notebook.get_cells();\n",
       "                for (var i = 0; i < nbb_cells.length; ++i) {\n",
       "                    if (nbb_cells[i].input_prompt_number == nbb_cell_id) {\n",
       "                        if (nbb_cells[i].get_text() == nbb_unformatted_code) {\n",
       "                             nbb_cells[i].set_text(nbb_formatted_code);\n",
       "                        }\n",
       "                        break;\n",
       "                    }\n",
       "                }\n",
       "            }, 500);\n",
       "            "
      ],
      "text/plain": [
       "<IPython.core.display.Javascript object>"
      ]
     },
     "metadata": {},
     "output_type": "display_data"
    }
   ],
   "source": [
    "# dropping columns with huge amount of null values and useless instance_weight and year columns\n",
    "train_data.drop(\n",
    "    [\n",
    "        \"enroll_edu\",\n",
    "        \"member_labor_union\",\n",
    "        \"reason_for_unemployment\",\n",
    "        \"region_prev_res\",\n",
    "        \"state_prev_res\",\n",
    "        \"mig_sunbelt\",\n",
    "        \"family_members_under_18\",\n",
    "        \"instance_weight\",\n",
    "        \"VETQVA\",\n",
    "        \"year\",\n",
    "        \"major_industry_code\",\n",
    "        \"major_occupation\",\n",
    "        \"workclass\",\n",
    "    ],\n",
    "    axis=1,\n",
    "    inplace=True,\n",
    ")\n",
    "\n",
    "# repeating the process for test data too\n",
    "test_data.drop(\n",
    "    [\n",
    "        \"enroll_edu\",\n",
    "        \"member_labor_union\",\n",
    "        \"reason_for_unemployment\",\n",
    "        \"region_prev_res\",\n",
    "        \"state_prev_res\",\n",
    "        \"mig_sunbelt\",\n",
    "        \"family_members_under_18\",\n",
    "        \"instance_weight\",\n",
    "        \"VETQVA\",\n",
    "        \"year\",\n",
    "        \"major_industry_code\",\n",
    "        \"major_occupation\",\n",
    "        \"workclass\",\n",
    "    ],\n",
    "    axis=1,\n",
    "    inplace=True,\n",
    ")"
   ]
  },
  {
   "cell_type": "code",
   "execution_count": 14,
   "metadata": {},
   "outputs": [
    {
     "name": "stdout",
     "output_type": "stream",
     "text": [
      "<class 'pandas.core.frame.DataFrame'>\n",
      "RangeIndex: 199523 entries, 0 to 199522\n",
      "Data columns (total 29 columns):\n",
      "age                                        199523 non-null int64\n",
      "industry                                   199523 non-null int64\n",
      "occupation                                 199523 non-null int64\n",
      "education                                  199523 non-null object\n",
      "wage                                       199523 non-null int64\n",
      "relationship                               199523 non-null object\n",
      "race                                       199523 non-null object\n",
      "hispanic_orgin                             199523 non-null object\n",
      "sex                                        199523 non-null object\n",
      "full_or_part_time_unemployment_stat        199523 non-null object\n",
      "capital_gains                              199523 non-null int64\n",
      "capital_losses                             199523 non-null int64\n",
      "dividends_from_stocks                      199523 non-null int64\n",
      "tax_filer_stat                             199523 non-null object\n",
      "detail_household_and_family_stat           199523 non-null object\n",
      "detailed_household_summary_in_household    199523 non-null object\n",
      "change_in_msa                              98311 non-null object\n",
      "change_in_reg                              98311 non-null object\n",
      "move_within_reg                            98311 non-null object\n",
      "house_1yr                                  199523 non-null object\n",
      "num_employers                              199523 non-null int64\n",
      "dad_country                                192810 non-null object\n",
      "mom_country                                193404 non-null object\n",
      "self_country                               196130 non-null object\n",
      "citzenship                                 199523 non-null object\n",
      "SEOTR                                      199523 non-null int64\n",
      "VETYN                                      199523 non-null int64\n",
      "weeks_worked                               199523 non-null int64\n",
      "income                                     199523 non-null object\n",
      "dtypes: int64(11), object(18)\n",
      "memory usage: 44.1+ MB\n"
     ]
    },
    {
     "data": {
      "application/javascript": [
       "\n",
       "            setTimeout(function() {\n",
       "                var nbb_cell_id = 14;\n",
       "                var nbb_unformatted_code = \"train_data.info()\";\n",
       "                var nbb_formatted_code = \"train_data.info()\";\n",
       "                var nbb_cells = Jupyter.notebook.get_cells();\n",
       "                for (var i = 0; i < nbb_cells.length; ++i) {\n",
       "                    if (nbb_cells[i].input_prompt_number == nbb_cell_id) {\n",
       "                        if (nbb_cells[i].get_text() == nbb_unformatted_code) {\n",
       "                             nbb_cells[i].set_text(nbb_formatted_code);\n",
       "                        }\n",
       "                        break;\n",
       "                    }\n",
       "                }\n",
       "            }, 500);\n",
       "            "
      ],
      "text/plain": [
       "<IPython.core.display.Javascript object>"
      ]
     },
     "metadata": {},
     "output_type": "display_data"
    }
   ],
   "source": [
    "train_data.info()"
   ]
  },
  {
   "cell_type": "code",
   "execution_count": 15,
   "metadata": {},
   "outputs": [
    {
     "data": {
      "application/javascript": [
       "\n",
       "            setTimeout(function() {\n",
       "                var nbb_cell_id = 15;\n",
       "                var nbb_unformatted_code = \"# Separate categorical and numberical columns\\ncat_col = train_data.dtypes[train_data.dtypes == \\\"object\\\"]\\nnum_col = train_data.dtypes[train_data.dtypes != \\\"object\\\"]\";\n",
       "                var nbb_formatted_code = \"# Separate categorical and numberical columns\\ncat_col = train_data.dtypes[train_data.dtypes == \\\"object\\\"]\\nnum_col = train_data.dtypes[train_data.dtypes != \\\"object\\\"]\";\n",
       "                var nbb_cells = Jupyter.notebook.get_cells();\n",
       "                for (var i = 0; i < nbb_cells.length; ++i) {\n",
       "                    if (nbb_cells[i].input_prompt_number == nbb_cell_id) {\n",
       "                        if (nbb_cells[i].get_text() == nbb_unformatted_code) {\n",
       "                             nbb_cells[i].set_text(nbb_formatted_code);\n",
       "                        }\n",
       "                        break;\n",
       "                    }\n",
       "                }\n",
       "            }, 500);\n",
       "            "
      ],
      "text/plain": [
       "<IPython.core.display.Javascript object>"
      ]
     },
     "metadata": {},
     "output_type": "display_data"
    }
   ],
   "source": [
    "# Separate categorical and numberical columns\n",
    "cat_col = train_data.dtypes[train_data.dtypes == \"object\"]\n",
    "num_col = train_data.dtypes[train_data.dtypes != \"object\"]"
   ]
  },
  {
   "cell_type": "code",
   "execution_count": 16,
   "metadata": {},
   "outputs": [
    {
     "name": "stdout",
     "output_type": "stream",
     "text": [
      "--------------------Education-------------------------\n",
      "                                   total   percent\n",
      "Highschoolgraduate                 48407  0.242614\n",
      "Children                           47422  0.237677\n",
      "Somecollegebutnodegree             27820  0.139433\n",
      "Bachelorsdegree(BAABBS)            19865  0.099562\n",
      "7thand8thgrade                      8007  0.040131\n",
      "10thgrade                           7557  0.037875\n",
      "11thgrade                           6876  0.034462\n",
      "Mastersdegree(MAMSMEngMEdMSWMBA)    6541  0.032783\n",
      "9thgrade                            6230  0.031224\n",
      "Associatesdegree-occup/vocational   5358  0.026854\n",
      "Associatesdegree-academicprogram    4363  0.021867\n",
      "5thor6thgrade                       3277  0.016424\n",
      "12thgradenodiploma                  2126  0.010655\n",
      "1st2nd3rdor4thgrade                 1799  0.009017\n",
      "Profschooldegree(MDDDSDVMLLBJD)     1793  0.008986\n",
      "Doctoratedegree(PhDEdD)             1263  0.006330\n",
      "Lessthan1stgrade                     819  0.004105\n",
      "\n",
      "\n",
      "--------------------Relationship-------------------------\n",
      "                               total   percent\n",
      "Nevermarried                   86485  0.433459\n",
      "Married-civilianspousepresent  84222  0.422117\n",
      "Divorced                       12710  0.063702\n",
      "Widowed                        10463  0.052440\n",
      "Separated                       3460  0.017341\n",
      "Married-spouseabsent            1518  0.007608\n",
      "Married-AFspousepresent          665  0.003333\n",
      "\n",
      "\n",
      "--------------------Race-------------------------\n",
      "                          total   percent\n",
      "White                    167365  0.838826\n",
      "Black                     20415  0.102319\n",
      "AsianorPacificIslander     5835  0.029245\n",
      "Other                      3657  0.018329\n",
      "AmerIndianAleutorEskimo    2251  0.011282\n",
      "\n",
      "\n",
      "--------------------Hispanic_Orgin-------------------------\n",
      "                         total   percent\n",
      "Allother                171907  0.861590\n",
      "Mexican-American          8079  0.040492\n",
      "Mexican(Mexicano)         7234  0.036256\n",
      "CentralorSouthAmerican    3895  0.019522\n",
      "PuertoRican               3313  0.016605\n",
      "OtherSpanish              2485  0.012455\n",
      "Cuban                     1126  0.005643\n",
      "NA                         874  0.004380\n",
      "Donotknow                  306  0.001534\n",
      "Chicano                    304  0.001524\n",
      "\n",
      "\n",
      "--------------------Sex-------------------------\n",
      "         total   percent\n",
      "Female  103984  0.521163\n",
      "Male     95539  0.478837\n",
      "\n",
      "\n",
      "--------------------Full_Or_Part_Time_Unemployment_Stat-------------------------\n",
      "                                total   percent\n",
      "ChildrenorArmedForces          123769  0.620324\n",
      "Full-timeschedules              40736  0.204167\n",
      "Notinlaborforce                 26808  0.134360\n",
      "PTfornon-econreasonsusuallyFT    3322  0.016650\n",
      "Unemployedfull-time              2311  0.011583\n",
      "PTforeconreasonsusuallyPT        1209  0.006059\n",
      "Unemployedpart-time               843  0.004225\n",
      "PTforeconreasonsusuallyFT         525  0.002631\n",
      "\n",
      "\n",
      "--------------------Tax_Filer_Stat-------------------------\n",
      "                        total   percent\n",
      "Nonfiler                75094  0.376368\n",
      "Jointbothunder65        67383  0.337720\n",
      "Single                  37421  0.187552\n",
      "Jointboth65+             8332  0.041760\n",
      "Headofhousehold          7426  0.037219\n",
      "Jointoneunder65&one65+   3867  0.019381\n",
      "\n",
      "\n",
      "--------------------Detail_Household_And_Family_Stat-------------------------\n",
      "                                          total   percent\n",
      "Householder                               53248  0.266877\n",
      "Child<18nevermarrnotinsubfamily           50326  0.252232\n",
      "Spouseofhouseholder                       41695  0.208973\n",
      "Nonfamilyhouseholder                      22213  0.111331\n",
      "Child18+nevermarrNotinasubfamily          12030  0.060294\n",
      "Secondaryindividual                        6122  0.030683\n",
      "OtherRel18+evermarrnotinsubfamily          1956  0.009803\n",
      "Grandchild<18nevermarrchildofsubfamilyRP   1868  0.009362\n",
      "OtherRel18+nevermarrnotinsubfamily         1728  0.008661\n",
      "Grandchild<18nevermarrnotinsubfamily       1066  0.005343\n",
      "Child18+evermarrNotinasubfamily            1013  0.005077\n",
      "Childunder18ofRPofunrelsubfamily            732  0.003669\n",
      "RPofunrelatedsubfamily                      685  0.003433\n",
      "Child18+evermarrRPofsubfamily               671  0.003363\n",
      "OtherRel<18nevermarrchildofsubfamilyRP      656  0.003288\n",
      "OtherRel18+evermarrRPofsubfamily            656  0.003288\n",
      "OtherRel18+spouseofsubfamilyRP              638  0.003198\n",
      "Child18+nevermarrRPofsubfamily              589  0.002952\n",
      "OtherRel<18nevermarrnotinsubfamily          584  0.002927\n",
      "Grandchild18+nevermarrnotinsubfamily        375  0.001879\n",
      "Ingroupquarters                             196  0.000982\n",
      "Child18+spouseofsubfamilyRP                 126  0.000632\n",
      "OtherRel18+nevermarrRPofsubfamily            94  0.000471\n",
      "Child<18nevermarrRPofsubfamily               80  0.000401\n",
      "SpouseofRPofunrelatedsubfamily               52  0.000261\n",
      "Child<18evermarrnotinsubfamily               36  0.000180\n",
      "Grandchild18+evermarrnotinsubfamily          34  0.000170\n",
      "Grandchild18+spouseofsubfamilyRP             10  0.000050\n",
      "Child<18evermarrRPofsubfamily                 9  0.000045\n",
      "Grandchild18+evermarrRPofsubfamily            9  0.000045\n",
      "OtherRel<18evermarrRPofsubfamily              6  0.000030\n",
      "Grandchild18+nevermarrRPofsubfamily           6  0.000030\n",
      "OtherRel<18nevermarriedRPofsubfamily          4  0.000020\n",
      "OtherRel<18spouseofsubfamilyRP                3  0.000015\n",
      "Child<18spouseofsubfamilyRP                   2  0.000010\n",
      "Grandchild<18evermarrnotinsubfamily           2  0.000010\n",
      "Grandchild<18nevermarrRPofsubfamily           2  0.000010\n",
      "OtherRel<18evermarrnotinsubfamily             1  0.000005\n",
      "\n",
      "\n",
      "--------------------Detailed_Household_Summary_In_Household-------------------------\n",
      "                                   total   percent\n",
      "Householder                        75475  0.378277\n",
      "Childunder18nevermarried           50426  0.252733\n",
      "Spouseofhouseholder                41709  0.209044\n",
      "Child18orolder                     14430  0.072322\n",
      "Otherrelativeofhouseholder          9703  0.048631\n",
      "Nonrelativeofhouseholder            7601  0.038096\n",
      "GroupQuarters-Secondaryindividual    132  0.000662\n",
      "Childunder18evermarried               47  0.000236\n",
      "\n",
      "\n",
      "--------------------Change_In_Msa-------------------------\n",
      "                 total   percent\n",
      "Nonmover         82538  0.413677\n",
      "MSAtoMSA         10601  0.053132\n",
      "NonMSAtononMSA    2811  0.014089\n",
      "MSAtononMSA        790  0.003959\n",
      "NonMSAtoMSA        615  0.003082\n",
      "AbroadtoMSA        453  0.002270\n",
      "Notidentifiable    430  0.002155\n",
      "AbroadtononMSA      73  0.000366\n",
      "\n",
      "\n",
      "--------------------Change_In_Reg-------------------------\n",
      "                             total   percent\n",
      "Nonmover                     82538  0.413677\n",
      "Samecounty                    9812  0.049177\n",
      "Differentcountysamestate      2797  0.014018\n",
      "Differentregion               1178  0.005904\n",
      "Differentstatesamedivision     991  0.004967\n",
      "Abroad                         530  0.002656\n",
      "Differentdivisionsameregion    465  0.002331\n",
      "\n",
      "\n",
      "--------------------Move_Within_Reg-------------------------\n",
      "                           total   percent\n",
      "Nonmover                   82538  0.413677\n",
      "Samecounty                  9812  0.049177\n",
      "Differentcountysamestate    2797  0.014018\n",
      "DifferentstateinSouth        973  0.004877\n",
      "DifferentstateinWest         679  0.003403\n",
      "DifferentstateinMidwest      551  0.002762\n",
      "Abroad                       530  0.002656\n",
      "DifferentstateinNortheast    431  0.002160\n",
      "\n",
      "\n",
      "--------------------House_1Yr-------------------------\n",
      "                             total   percent\n",
      "Notinuniverseunder1yearold  101212  0.507270\n",
      "Yes                          82538  0.413677\n",
      "No                           15773  0.079054\n",
      "\n",
      "\n",
      "--------------------Dad_Country-------------------------\n",
      "                           total   percent\n",
      "United-States             159163  0.797718\n",
      "Mexico                     10008  0.050160\n",
      "Puerto-Rico                 2680  0.013432\n",
      "Italy                       2212  0.011086\n",
      "Canada                      1380  0.006916\n",
      "Germany                     1356  0.006796\n",
      "Dominican-Republic          1290  0.006465\n",
      "Poland                      1212  0.006074\n",
      "Philippines                 1154  0.005784\n",
      "Cuba                        1125  0.005638\n",
      "El-Salvador                  982  0.004922\n",
      "China                        856  0.004290\n",
      "England                      793  0.003974\n",
      "Columbia                     614  0.003077\n",
      "India                        580  0.002907\n",
      "SouthKorea                   530  0.002656\n",
      "Ireland                      508  0.002546\n",
      "Jamaica                      463  0.002321\n",
      "Vietnam                      457  0.002290\n",
      "Guatemala                    445  0.002230\n",
      "Japan                        392  0.001965\n",
      "Portugal                     388  0.001945\n",
      "Ecuador                      379  0.001900\n",
      "Haiti                        351  0.001759\n",
      "Greece                       344  0.001724\n",
      "Peru                         335  0.001679\n",
      "Nicaragua                    315  0.001579\n",
      "Hungary                      306  0.001534\n",
      "Scotland                     247  0.001238\n",
      "Iran                         233  0.001168\n",
      "Yugoslavia                   217  0.001088\n",
      "Taiwan                       199  0.000997\n",
      "Cambodia                     196  0.000982\n",
      "Honduras                     194  0.000972\n",
      "France                       191  0.000957\n",
      "Outlying-US(GuamUSVIetc)     159  0.000797\n",
      "Laos                         154  0.000772\n",
      "Trinadad&Tobago              113  0.000566\n",
      "Thailand                     107  0.000536\n",
      "HongKong                     106  0.000531\n",
      "Holand-Netherlands            51  0.000256\n",
      "Panama                        25  0.000125\n",
      "\n",
      "\n",
      "--------------------Mom_Country-------------------------\n"
     ]
    },
    {
     "name": "stdout",
     "output_type": "stream",
     "text": [
      "                           total   percent\n",
      "United-States             160479  0.804313\n",
      "Mexico                      9781  0.049022\n",
      "Puerto-Rico                 2473  0.012395\n",
      "Italy                       1844  0.009242\n",
      "Canada                      1451  0.007272\n",
      "Germany                     1382  0.006927\n",
      "Philippines                 1231  0.006170\n",
      "Poland                      1110  0.005563\n",
      "El-Salvador                 1108  0.005553\n",
      "Cuba                        1108  0.005553\n",
      "Dominican-Republic          1103  0.005528\n",
      "England                      903  0.004526\n",
      "China                        760  0.003809\n",
      "Columbia                     612  0.003067\n",
      "SouthKorea                   609  0.003052\n",
      "Ireland                      599  0.003002\n",
      "India                        581  0.002912\n",
      "Vietnam                      473  0.002371\n",
      "Japan                        469  0.002351\n",
      "Jamaica                      453  0.002270\n",
      "Guatemala                    444  0.002225\n",
      "Ecuador                      375  0.001879\n",
      "Peru                         355  0.001779\n",
      "Haiti                        353  0.001769\n",
      "Portugal                     342  0.001714\n",
      "Nicaragua                    301  0.001509\n",
      "Hungary                      297  0.001489\n",
      "Greece                       261  0.001308\n",
      "Scotland                     241  0.001208\n",
      "Taiwan                       222  0.001113\n",
      "Honduras                     218  0.001093\n",
      "France                       212  0.001063\n",
      "Iran                         198  0.000992\n",
      "Yugoslavia                   177  0.000887\n",
      "Cambodia                     157  0.000787\n",
      "Outlying-US(GuamUSVIetc)     157  0.000787\n",
      "Laos                         155  0.000777\n",
      "Thailand                     123  0.000616\n",
      "HongKong                     107  0.000536\n",
      "Trinadad&Tobago               99  0.000496\n",
      "Holand-Netherlands            49  0.000246\n",
      "Panama                        32  0.000160\n",
      "\n",
      "\n",
      "--------------------Self_Country-------------------------\n",
      "                           total   percent\n",
      "United-States             176989  0.887061\n",
      "Mexico                      5767  0.028904\n",
      "Puerto-Rico                 1400  0.007017\n",
      "Germany                      851  0.004265\n",
      "Philippines                  845  0.004235\n",
      "Cuba                         837  0.004195\n",
      "Canada                       700  0.003508\n",
      "Dominican-Republic           690  0.003458\n",
      "El-Salvador                  689  0.003453\n",
      "China                        478  0.002396\n",
      "SouthKorea                   471  0.002361\n",
      "England                      457  0.002290\n",
      "Columbia                     434  0.002175\n",
      "Italy                        419  0.002100\n",
      "India                        408  0.002045\n",
      "Vietnam                      391  0.001960\n",
      "Poland                       381  0.001910\n",
      "Guatemala                    344  0.001724\n",
      "Japan                        339  0.001699\n",
      "Jamaica                      320  0.001604\n",
      "Peru                         268  0.001343\n",
      "Ecuador                      258  0.001293\n",
      "Haiti                        228  0.001143\n",
      "Nicaragua                    218  0.001093\n",
      "Taiwan                       201  0.001007\n",
      "Portugal                     174  0.000872\n",
      "Iran                         157  0.000787\n",
      "Greece                       147  0.000737\n",
      "Honduras                     144  0.000722\n",
      "Ireland                      135  0.000677\n",
      "France                       121  0.000606\n",
      "Outlying-US(GuamUSVIetc)     119  0.000596\n",
      "Thailand                     113  0.000566\n",
      "Laos                         105  0.000526\n",
      "HongKong                     100  0.000501\n",
      "Cambodia                      95  0.000476\n",
      "Hungary                       79  0.000396\n",
      "Scotland                      75  0.000376\n",
      "Yugoslavia                    66  0.000331\n",
      "Trinadad&Tobago               66  0.000331\n",
      "Panama                        28  0.000140\n",
      "Holand-Netherlands            23  0.000115\n",
      "\n",
      "\n",
      "--------------------Citzenship-------------------------\n",
      "                                        total   percent\n",
      "Native-BornintheUnitedStates           176992  0.887076\n",
      "Foreignborn-NotacitizenofUS             13401  0.067165\n",
      "Foreignborn-UScitizenbynaturalization    5855  0.029345\n",
      "Native-BornabroadofAmericanParent(s)     1756  0.008801\n",
      "Native-BorninPuertoRicoorUSOutlying      1519  0.007613\n",
      "\n",
      "\n",
      "--------------------Income-------------------------\n",
      "          total   percent\n",
      "-50000   187141  0.937942\n",
      "50000+.   12382  0.062058\n",
      "\n",
      "\n"
     ]
    },
    {
     "data": {
      "application/javascript": [
       "\n",
       "            setTimeout(function() {\n",
       "                var nbb_cell_id = 16;\n",
       "                var nbb_unformatted_code = \"for col in list(cat_col.index):\\n    print(f\\\"--------------------{col.title()}-------------------------\\\")\\n    total = train_data[col].value_counts()\\n    percent = train_data[col].value_counts() / train_data.shape[0]\\n    df = pd.concat([total, percent], keys=[\\\"total\\\", \\\"percent\\\"], axis=1)\\n    print(df)\\n    print(\\\"\\\\n\\\")\";\n",
       "                var nbb_formatted_code = \"for col in list(cat_col.index):\\n    print(f\\\"--------------------{col.title()}-------------------------\\\")\\n    total = train_data[col].value_counts()\\n    percent = train_data[col].value_counts() / train_data.shape[0]\\n    df = pd.concat([total, percent], keys=[\\\"total\\\", \\\"percent\\\"], axis=1)\\n    print(df)\\n    print(\\\"\\\\n\\\")\";\n",
       "                var nbb_cells = Jupyter.notebook.get_cells();\n",
       "                for (var i = 0; i < nbb_cells.length; ++i) {\n",
       "                    if (nbb_cells[i].input_prompt_number == nbb_cell_id) {\n",
       "                        if (nbb_cells[i].get_text() == nbb_unformatted_code) {\n",
       "                             nbb_cells[i].set_text(nbb_formatted_code);\n",
       "                        }\n",
       "                        break;\n",
       "                    }\n",
       "                }\n",
       "            }, 500);\n",
       "            "
      ],
      "text/plain": [
       "<IPython.core.display.Javascript object>"
      ]
     },
     "metadata": {},
     "output_type": "display_data"
    }
   ],
   "source": [
    "for col in list(cat_col.index):\n",
    "    print(f\"--------------------{col.title()}-------------------------\")\n",
    "    total = train_data[col].value_counts()\n",
    "    percent = train_data[col].value_counts() / train_data.shape[0]\n",
    "    df = pd.concat([total, percent], keys=[\"total\", \"percent\"], axis=1)\n",
    "    print(df)\n",
    "    print(\"\\n\")"
   ]
  },
  {
   "cell_type": "code",
   "execution_count": 17,
   "metadata": {},
   "outputs": [
    {
     "data": {
      "application/javascript": [
       "\n",
       "            setTimeout(function() {\n",
       "                var nbb_cell_id = 17;\n",
       "                var nbb_unformatted_code = \"# Dropping additional columns that upon review are not useful\\ntrain_data.drop(\\n    [\\n        \\\"change_in_msa\\\",\\n        \\\"change_in_reg\\\",\\n        \\\"move_within_reg\\\",\\n        \\\"hispanic_orgin\\\",\\n        \\\"detail_household_and_family_stat\\\",\\n        \\\"dad_country\\\",\\n        \\\"mom_country\\\",\\n        \\\"self_country\\\",\\n    ],\\n    axis=1,\\n    inplace=True,\\n)\\n\\ntest_data.drop(\\n    [\\n        \\\"change_in_msa\\\",\\n        \\\"change_in_reg\\\",\\n        \\\"move_within_reg\\\",\\n        \\\"hispanic_orgin\\\",\\n        \\\"detail_household_and_family_stat\\\",\\n        \\\"dad_country\\\",\\n        \\\"mom_country\\\",\\n        \\\"self_country\\\",\\n    ],\\n    axis=1,\\n    inplace=True,\\n)\";\n",
       "                var nbb_formatted_code = \"# Dropping additional columns that upon review are not useful\\ntrain_data.drop(\\n    [\\n        \\\"change_in_msa\\\",\\n        \\\"change_in_reg\\\",\\n        \\\"move_within_reg\\\",\\n        \\\"hispanic_orgin\\\",\\n        \\\"detail_household_and_family_stat\\\",\\n        \\\"dad_country\\\",\\n        \\\"mom_country\\\",\\n        \\\"self_country\\\",\\n    ],\\n    axis=1,\\n    inplace=True,\\n)\\n\\ntest_data.drop(\\n    [\\n        \\\"change_in_msa\\\",\\n        \\\"change_in_reg\\\",\\n        \\\"move_within_reg\\\",\\n        \\\"hispanic_orgin\\\",\\n        \\\"detail_household_and_family_stat\\\",\\n        \\\"dad_country\\\",\\n        \\\"mom_country\\\",\\n        \\\"self_country\\\",\\n    ],\\n    axis=1,\\n    inplace=True,\\n)\";\n",
       "                var nbb_cells = Jupyter.notebook.get_cells();\n",
       "                for (var i = 0; i < nbb_cells.length; ++i) {\n",
       "                    if (nbb_cells[i].input_prompt_number == nbb_cell_id) {\n",
       "                        if (nbb_cells[i].get_text() == nbb_unformatted_code) {\n",
       "                             nbb_cells[i].set_text(nbb_formatted_code);\n",
       "                        }\n",
       "                        break;\n",
       "                    }\n",
       "                }\n",
       "            }, 500);\n",
       "            "
      ],
      "text/plain": [
       "<IPython.core.display.Javascript object>"
      ]
     },
     "metadata": {},
     "output_type": "display_data"
    }
   ],
   "source": [
    "# Dropping additional columns that upon review are not useful\n",
    "train_data.drop(\n",
    "    [\n",
    "        \"change_in_msa\",\n",
    "        \"change_in_reg\",\n",
    "        \"move_within_reg\",\n",
    "        \"hispanic_orgin\",\n",
    "        \"detail_household_and_family_stat\",\n",
    "        \"dad_country\",\n",
    "        \"mom_country\",\n",
    "        \"self_country\",\n",
    "    ],\n",
    "    axis=1,\n",
    "    inplace=True,\n",
    ")\n",
    "\n",
    "test_data.drop(\n",
    "    [\n",
    "        \"change_in_msa\",\n",
    "        \"change_in_reg\",\n",
    "        \"move_within_reg\",\n",
    "        \"hispanic_orgin\",\n",
    "        \"detail_household_and_family_stat\",\n",
    "        \"dad_country\",\n",
    "        \"mom_country\",\n",
    "        \"self_country\",\n",
    "    ],\n",
    "    axis=1,\n",
    "    inplace=True,\n",
    ")\n"
   ]
  },
  {
   "cell_type": "code",
   "execution_count": 18,
   "metadata": {},
   "outputs": [
    {
     "name": "stdout",
     "output_type": "stream",
     "text": [
      "<class 'pandas.core.frame.DataFrame'>\n",
      "RangeIndex: 99762 entries, 0 to 99761\n",
      "Data columns (total 21 columns):\n",
      "age                                        99762 non-null int64\n",
      "industry                                   99762 non-null int64\n",
      "occupation                                 99762 non-null int64\n",
      "education                                  99762 non-null object\n",
      "wage                                       99762 non-null int64\n",
      "relationship                               99762 non-null object\n",
      "race                                       99762 non-null object\n",
      "sex                                        99762 non-null object\n",
      "full_or_part_time_unemployment_stat        99762 non-null object\n",
      "capital_gains                              99762 non-null int64\n",
      "capital_losses                             99762 non-null int64\n",
      "dividends_from_stocks                      99762 non-null int64\n",
      "tax_filer_stat                             99762 non-null object\n",
      "detailed_household_summary_in_household    99762 non-null object\n",
      "house_1yr                                  99762 non-null object\n",
      "num_employers                              99762 non-null int64\n",
      "citzenship                                 99762 non-null object\n",
      "SEOTR                                      99762 non-null int64\n",
      "VETYN                                      99762 non-null int64\n",
      "weeks_worked                               99762 non-null int64\n",
      "income                                     99762 non-null object\n",
      "dtypes: int64(11), object(10)\n",
      "memory usage: 16.0+ MB\n"
     ]
    },
    {
     "data": {
      "application/javascript": [
       "\n",
       "            setTimeout(function() {\n",
       "                var nbb_cell_id = 18;\n",
       "                var nbb_unformatted_code = \"test_data.info()\";\n",
       "                var nbb_formatted_code = \"test_data.info()\";\n",
       "                var nbb_cells = Jupyter.notebook.get_cells();\n",
       "                for (var i = 0; i < nbb_cells.length; ++i) {\n",
       "                    if (nbb_cells[i].input_prompt_number == nbb_cell_id) {\n",
       "                        if (nbb_cells[i].get_text() == nbb_unformatted_code) {\n",
       "                             nbb_cells[i].set_text(nbb_formatted_code);\n",
       "                        }\n",
       "                        break;\n",
       "                    }\n",
       "                }\n",
       "            }, 500);\n",
       "            "
      ],
      "text/plain": [
       "<IPython.core.display.Javascript object>"
      ]
     },
     "metadata": {},
     "output_type": "display_data"
    }
   ],
   "source": [
    "test_data.info()"
   ]
  },
  {
   "cell_type": "code",
   "execution_count": 19,
   "metadata": {},
   "outputs": [
    {
     "name": "stdout",
     "output_type": "stream",
     "text": [
      "<class 'pandas.core.frame.DataFrame'>\n",
      "RangeIndex: 199523 entries, 0 to 199522\n",
      "Data columns (total 21 columns):\n",
      "age                                        199523 non-null int64\n",
      "industry                                   199523 non-null int64\n",
      "occupation                                 199523 non-null int64\n",
      "education                                  199523 non-null object\n",
      "wage                                       199523 non-null int64\n",
      "relationship                               199523 non-null object\n",
      "race                                       199523 non-null object\n",
      "sex                                        199523 non-null object\n",
      "full_or_part_time_unemployment_stat        199523 non-null object\n",
      "capital_gains                              199523 non-null int64\n",
      "capital_losses                             199523 non-null int64\n",
      "dividends_from_stocks                      199523 non-null int64\n",
      "tax_filer_stat                             199523 non-null object\n",
      "detailed_household_summary_in_household    199523 non-null object\n",
      "house_1yr                                  199523 non-null object\n",
      "num_employers                              199523 non-null int64\n",
      "citzenship                                 199523 non-null object\n",
      "SEOTR                                      199523 non-null int64\n",
      "VETYN                                      199523 non-null int64\n",
      "weeks_worked                               199523 non-null int64\n",
      "income                                     199523 non-null object\n",
      "dtypes: int64(11), object(10)\n",
      "memory usage: 32.0+ MB\n"
     ]
    },
    {
     "data": {
      "application/javascript": [
       "\n",
       "            setTimeout(function() {\n",
       "                var nbb_cell_id = 19;\n",
       "                var nbb_unformatted_code = \"train_data.info()\";\n",
       "                var nbb_formatted_code = \"train_data.info()\";\n",
       "                var nbb_cells = Jupyter.notebook.get_cells();\n",
       "                for (var i = 0; i < nbb_cells.length; ++i) {\n",
       "                    if (nbb_cells[i].input_prompt_number == nbb_cell_id) {\n",
       "                        if (nbb_cells[i].get_text() == nbb_unformatted_code) {\n",
       "                             nbb_cells[i].set_text(nbb_formatted_code);\n",
       "                        }\n",
       "                        break;\n",
       "                    }\n",
       "                }\n",
       "            }, 500);\n",
       "            "
      ],
      "text/plain": [
       "<IPython.core.display.Javascript object>"
      ]
     },
     "metadata": {},
     "output_type": "display_data"
    }
   ],
   "source": [
    "train_data.info()"
   ]
  },
  {
   "cell_type": "code",
   "execution_count": 20,
   "metadata": {},
   "outputs": [
    {
     "data": {
      "application/javascript": [
       "\n",
       "            setTimeout(function() {\n",
       "                var nbb_cell_id = 20;\n",
       "                var nbb_unformatted_code = \"# encoding target column\\ntrain_data.loc[train_data[\\\"income\\\"] == \\\"-50000\\\", \\\"income\\\"] = 0\\ntrain_data.loc[train_data[\\\"income\\\"] == \\\"50000+.\\\", \\\"income\\\"] = 1\\n\\n# encoding target column\\ntest_data.loc[test_data[\\\"income\\\"] == \\\"-50000\\\", \\\"income\\\"] = 0\\ntest_data.loc[test_data[\\\"income\\\"] == \\\"50000+.\\\", \\\"income\\\"] = 1\";\n",
       "                var nbb_formatted_code = \"# encoding target column\\ntrain_data.loc[train_data[\\\"income\\\"] == \\\"-50000\\\", \\\"income\\\"] = 0\\ntrain_data.loc[train_data[\\\"income\\\"] == \\\"50000+.\\\", \\\"income\\\"] = 1\\n\\n# encoding target column\\ntest_data.loc[test_data[\\\"income\\\"] == \\\"-50000\\\", \\\"income\\\"] = 0\\ntest_data.loc[test_data[\\\"income\\\"] == \\\"50000+.\\\", \\\"income\\\"] = 1\";\n",
       "                var nbb_cells = Jupyter.notebook.get_cells();\n",
       "                for (var i = 0; i < nbb_cells.length; ++i) {\n",
       "                    if (nbb_cells[i].input_prompt_number == nbb_cell_id) {\n",
       "                        if (nbb_cells[i].get_text() == nbb_unformatted_code) {\n",
       "                             nbb_cells[i].set_text(nbb_formatted_code);\n",
       "                        }\n",
       "                        break;\n",
       "                    }\n",
       "                }\n",
       "            }, 500);\n",
       "            "
      ],
      "text/plain": [
       "<IPython.core.display.Javascript object>"
      ]
     },
     "metadata": {},
     "output_type": "display_data"
    }
   ],
   "source": [
    "# encoding target column\n",
    "train_data.loc[train_data[\"income\"] == \"-50000\", \"income\"] = 0\n",
    "train_data.loc[train_data[\"income\"] == \"50000+.\", \"income\"] = 1\n",
    "\n",
    "# encoding target column\n",
    "test_data.loc[test_data[\"income\"] == \"-50000\", \"income\"] = 0\n",
    "test_data.loc[test_data[\"income\"] == \"50000+.\", \"income\"] = 1"
   ]
  },
  {
   "cell_type": "markdown",
   "metadata": {},
   "source": [
    "# Numerical Columns"
   ]
  },
  {
   "cell_type": "markdown",
   "metadata": {},
   "source": [
    "## Age"
   ]
  },
  {
   "cell_type": "code",
   "execution_count": 21,
   "metadata": {},
   "outputs": [
    {
     "data": {
      "text/plain": [
       "<matplotlib.axes._subplots.AxesSubplot at 0x254eefa1348>"
      ]
     },
     "execution_count": 21,
     "metadata": {},
     "output_type": "execute_result"
    },
    {
     "data": {
      "image/png": "[encoded data removed]",
      "text/plain": [
       "<Figure size 432x288 with 1 Axes>"
      ]
     },
     "metadata": {
      "needs_background": "light"
     },
     "output_type": "display_data"
    },
    {
     "data": {
      "application/javascript": [
       "\n",
       "            setTimeout(function() {\n",
       "                var nbb_cell_id = 21;\n",
       "                var nbb_unformatted_code = \"train_data.age.hist()\";\n",
       "                var nbb_formatted_code = \"train_data.age.hist()\";\n",
       "                var nbb_cells = Jupyter.notebook.get_cells();\n",
       "                for (var i = 0; i < nbb_cells.length; ++i) {\n",
       "                    if (nbb_cells[i].input_prompt_number == nbb_cell_id) {\n",
       "                        if (nbb_cells[i].get_text() == nbb_unformatted_code) {\n",
       "                             nbb_cells[i].set_text(nbb_formatted_code);\n",
       "                        }\n",
       "                        break;\n",
       "                    }\n",
       "                }\n",
       "            }, 500);\n",
       "            "
      ],
      "text/plain": [
       "<IPython.core.display.Javascript object>"
      ]
     },
     "metadata": {},
     "output_type": "display_data"
    }
   ],
   "source": [
    "train_data.age.hist()"
   ]
  },
  {
   "cell_type": "code",
   "execution_count": 22,
   "metadata": {},
   "outputs": [
    {
     "data": {
      "image/png": "[encoded data removed]",
      "text/plain": [
       "<Figure size 720x720 with 1 Axes>"
      ]
     },
     "metadata": {
      "needs_background": "light"
     },
     "output_type": "display_data"
    },
    {
     "data": {
      "application/javascript": [
       "\n",
       "            setTimeout(function() {\n",
       "                var nbb_cell_id = 22;\n",
       "                var nbb_unformatted_code = \"fig = plt.figure(figsize=(10, 10))\\nsns.boxplot(x=\\\"income\\\", y=\\\"age\\\", data=train_data)\\nplt.show()\";\n",
       "                var nbb_formatted_code = \"fig = plt.figure(figsize=(10, 10))\\nsns.boxplot(x=\\\"income\\\", y=\\\"age\\\", data=train_data)\\nplt.show()\";\n",
       "                var nbb_cells = Jupyter.notebook.get_cells();\n",
       "                for (var i = 0; i < nbb_cells.length; ++i) {\n",
       "                    if (nbb_cells[i].input_prompt_number == nbb_cell_id) {\n",
       "                        if (nbb_cells[i].get_text() == nbb_unformatted_code) {\n",
       "                             nbb_cells[i].set_text(nbb_formatted_code);\n",
       "                        }\n",
       "                        break;\n",
       "                    }\n",
       "                }\n",
       "            }, 500);\n",
       "            "
      ],
      "text/plain": [
       "<IPython.core.display.Javascript object>"
      ]
     },
     "metadata": {},
     "output_type": "display_data"
    }
   ],
   "source": [
    "fig = plt.figure(figsize=(10, 10))\n",
    "sns.boxplot(x=\"income\", y=\"age\", data=train_data)\n",
    "plt.show()"
   ]
  },
  {
   "cell_type": "markdown",
   "metadata": {},
   "source": [
    "Box plots show that the age definitely has an impact on income."
   ]
  },
  {
   "cell_type": "code",
   "execution_count": 23,
   "metadata": {},
   "outputs": [
    {
     "name": "stdout",
     "output_type": "stream",
     "text": [
      "age_group\n",
      "1    58476\n",
      "2    49679\n",
      "3    70072\n",
      "4    21296\n",
      "Name: income, dtype: int64\n"
     ]
    },
    {
     "data": {
      "application/javascript": [
       "\n",
       "            setTimeout(function() {\n",
       "                var nbb_cell_id = 23;\n",
       "                var nbb_unformatted_code = \"# Breaking the ages into bins is more suitable\\ndef age_adjuster(age):\\n    if age <= 18:\\n        return 1\\n    elif age >= 19 and age <= 35:\\n        return 2\\n    elif age >= 36 and age <= 66:\\n        return 3\\n    else:\\n        return 4\\n\\n\\n# Use the pandas `apply()` method by calling the function above\\ntrain_data[\\\"age_group\\\"] = train_data[\\\"age\\\"].apply(age_adjuster)\\ntest_data[\\\"age_group\\\"] = test_data[\\\"age\\\"].apply(age_adjuster)\\n\\n# Examine how many observations you have in each group\\nprint(train_data.groupby(\\\"age_group\\\")[\\\"income\\\"].count())\";\n",
       "                var nbb_formatted_code = \"# Breaking the ages into bins is more suitable\\ndef age_adjuster(age):\\n    if age <= 18:\\n        return 1\\n    elif age >= 19 and age <= 35:\\n        return 2\\n    elif age >= 36 and age <= 66:\\n        return 3\\n    else:\\n        return 4\\n\\n\\n# Use the pandas `apply()` method by calling the function above\\ntrain_data[\\\"age_group\\\"] = train_data[\\\"age\\\"].apply(age_adjuster)\\ntest_data[\\\"age_group\\\"] = test_data[\\\"age\\\"].apply(age_adjuster)\\n\\n# Examine how many observations you have in each group\\nprint(train_data.groupby(\\\"age_group\\\")[\\\"income\\\"].count())\";\n",
       "                var nbb_cells = Jupyter.notebook.get_cells();\n",
       "                for (var i = 0; i < nbb_cells.length; ++i) {\n",
       "                    if (nbb_cells[i].input_prompt_number == nbb_cell_id) {\n",
       "                        if (nbb_cells[i].get_text() == nbb_unformatted_code) {\n",
       "                             nbb_cells[i].set_text(nbb_formatted_code);\n",
       "                        }\n",
       "                        break;\n",
       "                    }\n",
       "                }\n",
       "            }, 500);\n",
       "            "
      ],
      "text/plain": [
       "<IPython.core.display.Javascript object>"
      ]
     },
     "metadata": {},
     "output_type": "display_data"
    }
   ],
   "source": [
    "# Breaking the ages into bins is more suitable\n",
    "def age_adjuster(age):\n",
    "    if age <= 18:\n",
    "        return 1\n",
    "    elif age >= 19 and age <= 35:\n",
    "        return 2\n",
    "    elif age >= 36 and age <= 66:\n",
    "        return 3\n",
    "    else:\n",
    "        return 4\n",
    "\n",
    "\n",
    "# Use the pandas `apply()` method by calling the function above\n",
    "train_data[\"age_group\"] = train_data[\"age\"].apply(age_adjuster)\n",
    "test_data[\"age_group\"] = test_data[\"age\"].apply(age_adjuster)\n",
    "\n",
    "# Examine how many observations you have in each group\n",
    "print(train_data.groupby(\"age_group\")[\"income\"].count())"
   ]
  },
  {
   "cell_type": "code",
   "execution_count": 24,
   "metadata": {},
   "outputs": [
    {
     "data": {
      "image/png": "[encoded data removed]",
      "text/plain": [
       "<Figure size 720x360 with 1 Axes>"
      ]
     },
     "metadata": {
      "needs_background": "light"
     },
     "output_type": "display_data"
    },
    {
     "data": {
      "application/javascript": [
       "\n",
       "            setTimeout(function() {\n",
       "                var nbb_cell_id = 24;\n",
       "                var nbb_unformatted_code = \"# Plot counts for each combination of levels.\\nfig = plt.figure(figsize=(10, 5))\\nsns.countplot(\\\"age_group\\\", hue=\\\"income\\\", data=train_data, palette=\\\"pastel\\\")\\nplt.tight_layout\\nplt.show()\";\n",
       "                var nbb_formatted_code = \"# Plot counts for each combination of levels.\\nfig = plt.figure(figsize=(10, 5))\\nsns.countplot(\\\"age_group\\\", hue=\\\"income\\\", data=train_data, palette=\\\"pastel\\\")\\nplt.tight_layout\\nplt.show()\";\n",
       "                var nbb_cells = Jupyter.notebook.get_cells();\n",
       "                for (var i = 0; i < nbb_cells.length; ++i) {\n",
       "                    if (nbb_cells[i].input_prompt_number == nbb_cell_id) {\n",
       "                        if (nbb_cells[i].get_text() == nbb_unformatted_code) {\n",
       "                             nbb_cells[i].set_text(nbb_formatted_code);\n",
       "                        }\n",
       "                        break;\n",
       "                    }\n",
       "                }\n",
       "            }, 500);\n",
       "            "
      ],
      "text/plain": [
       "<IPython.core.display.Javascript object>"
      ]
     },
     "metadata": {},
     "output_type": "display_data"
    }
   ],
   "source": [
    "# Plot counts for each combination of levels.\n",
    "fig = plt.figure(figsize=(10, 5))\n",
    "sns.countplot(\"age_group\", hue=\"income\", data=train_data, palette=\"pastel\")\n",
    "plt.tight_layout\n",
    "plt.show()"
   ]
  },
  {
   "cell_type": "code",
   "execution_count": 25,
   "metadata": {},
   "outputs": [
    {
     "data": {
      "application/javascript": [
       "\n",
       "            setTimeout(function() {\n",
       "                var nbb_cell_id = 25;\n",
       "                var nbb_unformatted_code = \"# dropping age column\\ntrain_data.drop(\\n    [\\\"age\\\"], axis=1, inplace=True,\\n)\\n\\ntest_data.drop(\\n    [\\\"age\\\"], axis=1, inplace=True,\\n)\";\n",
       "                var nbb_formatted_code = \"# dropping age column\\ntrain_data.drop(\\n    [\\\"age\\\"], axis=1, inplace=True,\\n)\\n\\ntest_data.drop(\\n    [\\\"age\\\"], axis=1, inplace=True,\\n)\";\n",
       "                var nbb_cells = Jupyter.notebook.get_cells();\n",
       "                for (var i = 0; i < nbb_cells.length; ++i) {\n",
       "                    if (nbb_cells[i].input_prompt_number == nbb_cell_id) {\n",
       "                        if (nbb_cells[i].get_text() == nbb_unformatted_code) {\n",
       "                             nbb_cells[i].set_text(nbb_formatted_code);\n",
       "                        }\n",
       "                        break;\n",
       "                    }\n",
       "                }\n",
       "            }, 500);\n",
       "            "
      ],
      "text/plain": [
       "<IPython.core.display.Javascript object>"
      ]
     },
     "metadata": {},
     "output_type": "display_data"
    }
   ],
   "source": [
    "# dropping age column\n",
    "train_data.drop(\n",
    "    [\"age\"], axis=1, inplace=True,\n",
    ")\n",
    "\n",
    "test_data.drop(\n",
    "    [\"age\"], axis=1, inplace=True,\n",
    ")"
   ]
  },
  {
   "cell_type": "markdown",
   "metadata": {},
   "source": [
    "## dividends_from_stocks"
   ]
  },
  {
   "cell_type": "code",
   "execution_count": 26,
   "metadata": {
    "scrolled": true
   },
   "outputs": [
    {
     "data": {
      "text/plain": [
       "<matplotlib.axes._subplots.AxesSubplot at 0x254eeaa4a88>"
      ]
     },
     "execution_count": 26,
     "metadata": {},
     "output_type": "execute_result"
    },
    {
     "data": {
      "image/png": "[encoded data removed]",
      "text/plain": [
       "<Figure size 432x288 with 1 Axes>"
      ]
     },
     "metadata": {
      "needs_background": "light"
     },
     "output_type": "display_data"
    },
    {
     "data": {
      "application/javascript": [
       "\n",
       "            setTimeout(function() {\n",
       "                var nbb_cell_id = 26;\n",
       "                var nbb_unformatted_code = \"train_data.dividends_from_stocks.hist()\";\n",
       "                var nbb_formatted_code = \"train_data.dividends_from_stocks.hist()\";\n",
       "                var nbb_cells = Jupyter.notebook.get_cells();\n",
       "                for (var i = 0; i < nbb_cells.length; ++i) {\n",
       "                    if (nbb_cells[i].input_prompt_number == nbb_cell_id) {\n",
       "                        if (nbb_cells[i].get_text() == nbb_unformatted_code) {\n",
       "                             nbb_cells[i].set_text(nbb_formatted_code);\n",
       "                        }\n",
       "                        break;\n",
       "                    }\n",
       "                }\n",
       "            }, 500);\n",
       "            "
      ],
      "text/plain": [
       "<IPython.core.display.Javascript object>"
      ]
     },
     "metadata": {},
     "output_type": "display_data"
    }
   ],
   "source": [
    "train_data.dividends_from_stocks.hist()"
   ]
  },
  {
   "cell_type": "code",
   "execution_count": 27,
   "metadata": {},
   "outputs": [
    {
     "data": {
      "text/plain": [
       "count    199523.000000\n",
       "mean        197.529533\n",
       "std        1984.163658\n",
       "min           0.000000\n",
       "25%           0.000000\n",
       "50%           0.000000\n",
       "75%           0.000000\n",
       "max       99999.000000\n",
       "Name: dividends_from_stocks, dtype: float64"
      ]
     },
     "execution_count": 27,
     "metadata": {},
     "output_type": "execute_result"
    },
    {
     "data": {
      "application/javascript": [
       "\n",
       "            setTimeout(function() {\n",
       "                var nbb_cell_id = 27;\n",
       "                var nbb_unformatted_code = \"train_data.dividends_from_stocks.describe()\";\n",
       "                var nbb_formatted_code = \"train_data.dividends_from_stocks.describe()\";\n",
       "                var nbb_cells = Jupyter.notebook.get_cells();\n",
       "                for (var i = 0; i < nbb_cells.length; ++i) {\n",
       "                    if (nbb_cells[i].input_prompt_number == nbb_cell_id) {\n",
       "                        if (nbb_cells[i].get_text() == nbb_unformatted_code) {\n",
       "                             nbb_cells[i].set_text(nbb_formatted_code);\n",
       "                        }\n",
       "                        break;\n",
       "                    }\n",
       "                }\n",
       "            }, 500);\n",
       "            "
      ],
      "text/plain": [
       "<IPython.core.display.Javascript object>"
      ]
     },
     "metadata": {},
     "output_type": "display_data"
    }
   ],
   "source": [
    "train_data.dividends_from_stocks.describe()"
   ]
  },
  {
   "cell_type": "code",
   "execution_count": 28,
   "metadata": {},
   "outputs": [
    {
     "name": "stdout",
     "output_type": "stream",
     "text": [
      "dividends_group\n",
      "0    178382\n",
      "1     21141\n",
      "Name: income, dtype: int64\n"
     ]
    },
    {
     "data": {
      "application/javascript": [
       "\n",
       "            setTimeout(function() {\n",
       "                var nbb_cell_id = 28;\n",
       "                var nbb_unformatted_code = \"# Breaking the ages into bins is more suitable\\ndef dividends_adjuster(dividends):\\n    if dividends == 0:\\n        return 0\\n    else:\\n        return 1\\n\\n\\n# Use the pandas `apply()` method by calling the function above\\ntrain_data[\\\"dividends_group\\\"] = train_data[\\\"dividends_from_stocks\\\"].apply(\\n    dividends_adjuster\\n)\\ntest_data[\\\"dividends_group\\\"] = test_data[\\\"dividends_from_stocks\\\"].apply(\\n    dividends_adjuster\\n)\\n\\n# Examine how many observations you have in each group\\nprint(train_data.groupby(\\\"dividends_group\\\")[\\\"income\\\"].count())\";\n",
       "                var nbb_formatted_code = \"# Breaking the ages into bins is more suitable\\ndef dividends_adjuster(dividends):\\n    if dividends == 0:\\n        return 0\\n    else:\\n        return 1\\n\\n\\n# Use the pandas `apply()` method by calling the function above\\ntrain_data[\\\"dividends_group\\\"] = train_data[\\\"dividends_from_stocks\\\"].apply(\\n    dividends_adjuster\\n)\\ntest_data[\\\"dividends_group\\\"] = test_data[\\\"dividends_from_stocks\\\"].apply(\\n    dividends_adjuster\\n)\\n\\n# Examine how many observations you have in each group\\nprint(train_data.groupby(\\\"dividends_group\\\")[\\\"income\\\"].count())\";\n",
       "                var nbb_cells = Jupyter.notebook.get_cells();\n",
       "                for (var i = 0; i < nbb_cells.length; ++i) {\n",
       "                    if (nbb_cells[i].input_prompt_number == nbb_cell_id) {\n",
       "                        if (nbb_cells[i].get_text() == nbb_unformatted_code) {\n",
       "                             nbb_cells[i].set_text(nbb_formatted_code);\n",
       "                        }\n",
       "                        break;\n",
       "                    }\n",
       "                }\n",
       "            }, 500);\n",
       "            "
      ],
      "text/plain": [
       "<IPython.core.display.Javascript object>"
      ]
     },
     "metadata": {},
     "output_type": "display_data"
    }
   ],
   "source": [
    "# Breaking the ages into bins is more suitable\n",
    "def dividends_adjuster(dividends):\n",
    "    if dividends == 0:\n",
    "        return 0\n",
    "    else:\n",
    "        return 1\n",
    "\n",
    "\n",
    "# Use the pandas `apply()` method by calling the function above\n",
    "train_data[\"dividends_group\"] = train_data[\"dividends_from_stocks\"].apply(\n",
    "    dividends_adjuster\n",
    ")\n",
    "test_data[\"dividends_group\"] = test_data[\"dividends_from_stocks\"].apply(\n",
    "    dividends_adjuster\n",
    ")\n",
    "\n",
    "# Examine how many observations you have in each group\n",
    "print(train_data.groupby(\"dividends_group\")[\"income\"].count())"
   ]
  },
  {
   "cell_type": "markdown",
   "metadata": {},
   "source": [
    "Most people are not collecting any divends from stocks. So it would make sense to just make this a binary column instead dealing with continuous. "
   ]
  },
  {
   "cell_type": "code",
   "execution_count": 29,
   "metadata": {},
   "outputs": [
    {
     "data": {
      "application/javascript": [
       "\n",
       "            setTimeout(function() {\n",
       "                var nbb_cell_id = 29;\n",
       "                var nbb_unformatted_code = \"# dropping age column\\ntrain_data.drop(\\n    [\\\"dividends_from_stocks\\\"], axis=1, inplace=True,\\n)\\n\\ntest_data.drop(\\n    [\\\"dividends_from_stocks\\\"], axis=1, inplace=True,\\n)\";\n",
       "                var nbb_formatted_code = \"# dropping age column\\ntrain_data.drop(\\n    [\\\"dividends_from_stocks\\\"], axis=1, inplace=True,\\n)\\n\\ntest_data.drop(\\n    [\\\"dividends_from_stocks\\\"], axis=1, inplace=True,\\n)\";\n",
       "                var nbb_cells = Jupyter.notebook.get_cells();\n",
       "                for (var i = 0; i < nbb_cells.length; ++i) {\n",
       "                    if (nbb_cells[i].input_prompt_number == nbb_cell_id) {\n",
       "                        if (nbb_cells[i].get_text() == nbb_unformatted_code) {\n",
       "                             nbb_cells[i].set_text(nbb_formatted_code);\n",
       "                        }\n",
       "                        break;\n",
       "                    }\n",
       "                }\n",
       "            }, 500);\n",
       "            "
      ],
      "text/plain": [
       "<IPython.core.display.Javascript object>"
      ]
     },
     "metadata": {},
     "output_type": "display_data"
    }
   ],
   "source": [
    "# dropping age column\n",
    "train_data.drop(\n",
    "    [\"dividends_from_stocks\"], axis=1, inplace=True,\n",
    ")\n",
    "\n",
    "test_data.drop(\n",
    "    [\"dividends_from_stocks\"], axis=1, inplace=True,\n",
    ")"
   ]
  },
  {
   "cell_type": "markdown",
   "metadata": {},
   "source": [
    "## Capital_gains and Capital_losses"
   ]
  },
  {
   "cell_type": "code",
   "execution_count": 30,
   "metadata": {},
   "outputs": [
    {
     "data": {
      "text/plain": [
       "<matplotlib.axes._subplots.AxesSubplot at 0x254edb4b4c8>"
      ]
     },
     "execution_count": 30,
     "metadata": {},
     "output_type": "execute_result"
    },
    {
     "data": {
      "image/png": "[encoded data removed]",
      "text/plain": [
       "<Figure size 432x288 with 1 Axes>"
      ]
     },
     "metadata": {
      "needs_background": "light"
     },
     "output_type": "display_data"
    },
    {
     "data": {
      "application/javascript": [
       "\n",
       "            setTimeout(function() {\n",
       "                var nbb_cell_id = 30;\n",
       "                var nbb_unformatted_code = \"train_data.capital_gains.hist()\";\n",
       "                var nbb_formatted_code = \"train_data.capital_gains.hist()\";\n",
       "                var nbb_cells = Jupyter.notebook.get_cells();\n",
       "                for (var i = 0; i < nbb_cells.length; ++i) {\n",
       "                    if (nbb_cells[i].input_prompt_number == nbb_cell_id) {\n",
       "                        if (nbb_cells[i].get_text() == nbb_unformatted_code) {\n",
       "                             nbb_cells[i].set_text(nbb_formatted_code);\n",
       "                        }\n",
       "                        break;\n",
       "                    }\n",
       "                }\n",
       "            }, 500);\n",
       "            "
      ],
      "text/plain": [
       "<IPython.core.display.Javascript object>"
      ]
     },
     "metadata": {},
     "output_type": "display_data"
    }
   ],
   "source": [
    "train_data.capital_gains.hist()"
   ]
  },
  {
   "cell_type": "code",
   "execution_count": 31,
   "metadata": {},
   "outputs": [
    {
     "data": {
      "text/plain": [
       "count    199523.00000\n",
       "mean        434.71899\n",
       "std        4697.53128\n",
       "min           0.00000\n",
       "25%           0.00000\n",
       "50%           0.00000\n",
       "75%           0.00000\n",
       "max       99999.00000\n",
       "Name: capital_gains, dtype: float64"
      ]
     },
     "execution_count": 31,
     "metadata": {},
     "output_type": "execute_result"
    },
    {
     "data": {
      "application/javascript": [
       "\n",
       "            setTimeout(function() {\n",
       "                var nbb_cell_id = 31;\n",
       "                var nbb_unformatted_code = \"train_data.capital_gains.describe()\";\n",
       "                var nbb_formatted_code = \"train_data.capital_gains.describe()\";\n",
       "                var nbb_cells = Jupyter.notebook.get_cells();\n",
       "                for (var i = 0; i < nbb_cells.length; ++i) {\n",
       "                    if (nbb_cells[i].input_prompt_number == nbb_cell_id) {\n",
       "                        if (nbb_cells[i].get_text() == nbb_unformatted_code) {\n",
       "                             nbb_cells[i].set_text(nbb_formatted_code);\n",
       "                        }\n",
       "                        break;\n",
       "                    }\n",
       "                }\n",
       "            }, 500);\n",
       "            "
      ],
      "text/plain": [
       "<IPython.core.display.Javascript object>"
      ]
     },
     "metadata": {},
     "output_type": "display_data"
    }
   ],
   "source": [
    "train_data.capital_gains.describe()"
   ]
  },
  {
   "cell_type": "code",
   "execution_count": 32,
   "metadata": {},
   "outputs": [
    {
     "data": {
      "text/plain": [
       "<matplotlib.axes._subplots.AxesSubplot at 0x254edb81cc8>"
      ]
     },
     "execution_count": 32,
     "metadata": {},
     "output_type": "execute_result"
    },
    {
     "data": {
      "image/png": "[encoded data removed]",
      "text/plain": [
       "<Figure size 432x288 with 1 Axes>"
      ]
     },
     "metadata": {
      "needs_background": "light"
     },
     "output_type": "display_data"
    },
    {
     "data": {
      "application/javascript": [
       "\n",
       "            setTimeout(function() {\n",
       "                var nbb_cell_id = 32;\n",
       "                var nbb_unformatted_code = \"train_data.capital_losses.hist()\";\n",
       "                var nbb_formatted_code = \"train_data.capital_losses.hist()\";\n",
       "                var nbb_cells = Jupyter.notebook.get_cells();\n",
       "                for (var i = 0; i < nbb_cells.length; ++i) {\n",
       "                    if (nbb_cells[i].input_prompt_number == nbb_cell_id) {\n",
       "                        if (nbb_cells[i].get_text() == nbb_unformatted_code) {\n",
       "                             nbb_cells[i].set_text(nbb_formatted_code);\n",
       "                        }\n",
       "                        break;\n",
       "                    }\n",
       "                }\n",
       "            }, 500);\n",
       "            "
      ],
      "text/plain": [
       "<IPython.core.display.Javascript object>"
      ]
     },
     "metadata": {},
     "output_type": "display_data"
    }
   ],
   "source": [
    "train_data.capital_losses.hist()"
   ]
  },
  {
   "cell_type": "code",
   "execution_count": 33,
   "metadata": {},
   "outputs": [
    {
     "data": {
      "text/plain": [
       "count    199523.000000\n",
       "mean         37.313788\n",
       "std         271.896428\n",
       "min           0.000000\n",
       "25%           0.000000\n",
       "50%           0.000000\n",
       "75%           0.000000\n",
       "max        4608.000000\n",
       "Name: capital_losses, dtype: float64"
      ]
     },
     "execution_count": 33,
     "metadata": {},
     "output_type": "execute_result"
    },
    {
     "data": {
      "application/javascript": [
       "\n",
       "            setTimeout(function() {\n",
       "                var nbb_cell_id = 33;\n",
       "                var nbb_unformatted_code = \"train_data.capital_losses.describe()\";\n",
       "                var nbb_formatted_code = \"train_data.capital_losses.describe()\";\n",
       "                var nbb_cells = Jupyter.notebook.get_cells();\n",
       "                for (var i = 0; i < nbb_cells.length; ++i) {\n",
       "                    if (nbb_cells[i].input_prompt_number == nbb_cell_id) {\n",
       "                        if (nbb_cells[i].get_text() == nbb_unformatted_code) {\n",
       "                             nbb_cells[i].set_text(nbb_formatted_code);\n",
       "                        }\n",
       "                        break;\n",
       "                    }\n",
       "                }\n",
       "            }, 500);\n",
       "            "
      ],
      "text/plain": [
       "<IPython.core.display.Javascript object>"
      ]
     },
     "metadata": {},
     "output_type": "display_data"
    }
   ],
   "source": [
    "train_data.capital_losses.describe()"
   ]
  },
  {
   "cell_type": "code",
   "execution_count": 34,
   "metadata": {},
   "outputs": [
    {
     "data": {
      "application/javascript": [
       "\n",
       "            setTimeout(function() {\n",
       "                var nbb_cell_id = 34;\n",
       "                var nbb_unformatted_code = \"train_data[\\\"cap_profit\\\"] = train_data[\\\"capital_gains\\\"] - train_data[\\\"capital_losses\\\"]\\ntest_data[\\\"cap_profit\\\"] = test_data[\\\"capital_gains\\\"] - test_data[\\\"capital_losses\\\"]\";\n",
       "                var nbb_formatted_code = \"train_data[\\\"cap_profit\\\"] = train_data[\\\"capital_gains\\\"] - train_data[\\\"capital_losses\\\"]\\ntest_data[\\\"cap_profit\\\"] = test_data[\\\"capital_gains\\\"] - test_data[\\\"capital_losses\\\"]\";\n",
       "                var nbb_cells = Jupyter.notebook.get_cells();\n",
       "                for (var i = 0; i < nbb_cells.length; ++i) {\n",
       "                    if (nbb_cells[i].input_prompt_number == nbb_cell_id) {\n",
       "                        if (nbb_cells[i].get_text() == nbb_unformatted_code) {\n",
       "                             nbb_cells[i].set_text(nbb_formatted_code);\n",
       "                        }\n",
       "                        break;\n",
       "                    }\n",
       "                }\n",
       "            }, 500);\n",
       "            "
      ],
      "text/plain": [
       "<IPython.core.display.Javascript object>"
      ]
     },
     "metadata": {},
     "output_type": "display_data"
    }
   ],
   "source": [
    "train_data[\"cap_profit\"] = train_data[\"capital_gains\"] - train_data[\"capital_losses\"]\n",
    "test_data[\"cap_profit\"] = test_data[\"capital_gains\"] - test_data[\"capital_losses\"]"
   ]
  },
  {
   "cell_type": "code",
   "execution_count": 35,
   "metadata": {},
   "outputs": [
    {
     "data": {
      "text/plain": [
       "count    199523.000000\n",
       "mean        397.405201\n",
       "std        4708.839558\n",
       "min       -4608.000000\n",
       "25%           0.000000\n",
       "50%           0.000000\n",
       "75%           0.000000\n",
       "max       99999.000000\n",
       "Name: cap_profit, dtype: float64"
      ]
     },
     "execution_count": 35,
     "metadata": {},
     "output_type": "execute_result"
    },
    {
     "data": {
      "application/javascript": [
       "\n",
       "            setTimeout(function() {\n",
       "                var nbb_cell_id = 35;\n",
       "                var nbb_unformatted_code = \"train_data.cap_profit.describe()\";\n",
       "                var nbb_formatted_code = \"train_data.cap_profit.describe()\";\n",
       "                var nbb_cells = Jupyter.notebook.get_cells();\n",
       "                for (var i = 0; i < nbb_cells.length; ++i) {\n",
       "                    if (nbb_cells[i].input_prompt_number == nbb_cell_id) {\n",
       "                        if (nbb_cells[i].get_text() == nbb_unformatted_code) {\n",
       "                             nbb_cells[i].set_text(nbb_formatted_code);\n",
       "                        }\n",
       "                        break;\n",
       "                    }\n",
       "                }\n",
       "            }, 500);\n",
       "            "
      ],
      "text/plain": [
       "<IPython.core.display.Javascript object>"
      ]
     },
     "metadata": {},
     "output_type": "display_data"
    }
   ],
   "source": [
    "train_data.cap_profit.describe()"
   ]
  },
  {
   "cell_type": "code",
   "execution_count": 36,
   "metadata": {},
   "outputs": [
    {
     "name": "stdout",
     "output_type": "stream",
     "text": [
      "cap_group\n",
      "0      3906\n",
      "1    188238\n",
      "2      7379\n",
      "Name: income, dtype: int64\n"
     ]
    },
    {
     "data": {
      "application/javascript": [
       "\n",
       "            setTimeout(function() {\n",
       "                var nbb_cell_id = 36;\n",
       "                var nbb_unformatted_code = \"# Breaking the ages into bins is more suitable\\ndef cap_adjuster(cap):\\n    if cap < 0:\\n        return 0\\n    elif cap == 0:\\n        return 1\\n    else:\\n        return 2\\n\\n\\n# Use the pandas `apply()` method by calling the function above\\ntrain_data[\\\"cap_group\\\"] = train_data[\\\"cap_profit\\\"].apply(cap_adjuster)\\ntest_data[\\\"cap_group\\\"] = test_data[\\\"cap_profit\\\"].apply(cap_adjuster)\\n\\n# Examine how many observations you have in each group\\nprint(train_data.groupby(\\\"cap_group\\\")[\\\"income\\\"].count())\";\n",
       "                var nbb_formatted_code = \"# Breaking the ages into bins is more suitable\\ndef cap_adjuster(cap):\\n    if cap < 0:\\n        return 0\\n    elif cap == 0:\\n        return 1\\n    else:\\n        return 2\\n\\n\\n# Use the pandas `apply()` method by calling the function above\\ntrain_data[\\\"cap_group\\\"] = train_data[\\\"cap_profit\\\"].apply(cap_adjuster)\\ntest_data[\\\"cap_group\\\"] = test_data[\\\"cap_profit\\\"].apply(cap_adjuster)\\n\\n# Examine how many observations you have in each group\\nprint(train_data.groupby(\\\"cap_group\\\")[\\\"income\\\"].count())\";\n",
       "                var nbb_cells = Jupyter.notebook.get_cells();\n",
       "                for (var i = 0; i < nbb_cells.length; ++i) {\n",
       "                    if (nbb_cells[i].input_prompt_number == nbb_cell_id) {\n",
       "                        if (nbb_cells[i].get_text() == nbb_unformatted_code) {\n",
       "                             nbb_cells[i].set_text(nbb_formatted_code);\n",
       "                        }\n",
       "                        break;\n",
       "                    }\n",
       "                }\n",
       "            }, 500);\n",
       "            "
      ],
      "text/plain": [
       "<IPython.core.display.Javascript object>"
      ]
     },
     "metadata": {},
     "output_type": "display_data"
    }
   ],
   "source": [
    "# Breaking the ages into bins is more suitable\n",
    "def cap_adjuster(cap):\n",
    "    if cap < 0:\n",
    "        return 0\n",
    "    elif cap == 0:\n",
    "        return 1\n",
    "    else:\n",
    "        return 2\n",
    "\n",
    "\n",
    "# Use the pandas `apply()` method by calling the function above\n",
    "train_data[\"cap_group\"] = train_data[\"cap_profit\"].apply(cap_adjuster)\n",
    "test_data[\"cap_group\"] = test_data[\"cap_profit\"].apply(cap_adjuster)\n",
    "\n",
    "# Examine how many observations you have in each group\n",
    "print(train_data.groupby(\"cap_group\")[\"income\"].count())"
   ]
  },
  {
   "cell_type": "code",
   "execution_count": 37,
   "metadata": {},
   "outputs": [
    {
     "data": {
      "application/javascript": [
       "\n",
       "            setTimeout(function() {\n",
       "                var nbb_cell_id = 37;\n",
       "                var nbb_unformatted_code = \"# dropping cap columns\\ntrain_data.drop(\\n    [\\\"capital_gains\\\", \\\"capital_losses\\\"], axis=1, inplace=True,\\n)\\n\\ntest_data.drop(\\n    [\\\"capital_gains\\\", \\\"capital_losses\\\"], axis=1, inplace=True,\\n)\";\n",
       "                var nbb_formatted_code = \"# dropping cap columns\\ntrain_data.drop(\\n    [\\\"capital_gains\\\", \\\"capital_losses\\\"], axis=1, inplace=True,\\n)\\n\\ntest_data.drop(\\n    [\\\"capital_gains\\\", \\\"capital_losses\\\"], axis=1, inplace=True,\\n)\";\n",
       "                var nbb_cells = Jupyter.notebook.get_cells();\n",
       "                for (var i = 0; i < nbb_cells.length; ++i) {\n",
       "                    if (nbb_cells[i].input_prompt_number == nbb_cell_id) {\n",
       "                        if (nbb_cells[i].get_text() == nbb_unformatted_code) {\n",
       "                             nbb_cells[i].set_text(nbb_formatted_code);\n",
       "                        }\n",
       "                        break;\n",
       "                    }\n",
       "                }\n",
       "            }, 500);\n",
       "            "
      ],
      "text/plain": [
       "<IPython.core.display.Javascript object>"
      ]
     },
     "metadata": {},
     "output_type": "display_data"
    }
   ],
   "source": [
    "# dropping cap columns\n",
    "train_data.drop(\n",
    "    [\"capital_gains\", \"capital_losses\"], axis=1, inplace=True,\n",
    ")\n",
    "\n",
    "test_data.drop(\n",
    "    [\"capital_gains\", \"capital_losses\"], axis=1, inplace=True,\n",
    ")"
   ]
  },
  {
   "cell_type": "markdown",
   "metadata": {},
   "source": [
    "## Wages"
   ]
  },
  {
   "cell_type": "code",
   "execution_count": 38,
   "metadata": {},
   "outputs": [
    {
     "data": {
      "text/plain": [
       "<matplotlib.axes._subplots.AxesSubplot at 0x254eda9f408>"
      ]
     },
     "execution_count": 38,
     "metadata": {},
     "output_type": "execute_result"
    },
    {
     "data": {
      "image/png": "[encoded data removed]",
      "text/plain": [
       "<Figure size 432x288 with 1 Axes>"
      ]
     },
     "metadata": {
      "needs_background": "light"
     },
     "output_type": "display_data"
    },
    {
     "data": {
      "application/javascript": [
       "\n",
       "            setTimeout(function() {\n",
       "                var nbb_cell_id = 38;\n",
       "                var nbb_unformatted_code = \"train_data.wage.hist()\";\n",
       "                var nbb_formatted_code = \"train_data.wage.hist()\";\n",
       "                var nbb_cells = Jupyter.notebook.get_cells();\n",
       "                for (var i = 0; i < nbb_cells.length; ++i) {\n",
       "                    if (nbb_cells[i].input_prompt_number == nbb_cell_id) {\n",
       "                        if (nbb_cells[i].get_text() == nbb_unformatted_code) {\n",
       "                             nbb_cells[i].set_text(nbb_formatted_code);\n",
       "                        }\n",
       "                        break;\n",
       "                    }\n",
       "                }\n",
       "            }, 500);\n",
       "            "
      ],
      "text/plain": [
       "<IPython.core.display.Javascript object>"
      ]
     },
     "metadata": {},
     "output_type": "display_data"
    }
   ],
   "source": [
    "train_data.wage.hist()"
   ]
  },
  {
   "cell_type": "code",
   "execution_count": 39,
   "metadata": {},
   "outputs": [
    {
     "data": {
      "image/png": "[encoded data removed]",
      "text/plain": [
       "<Figure size 1440x288 with 1 Axes>"
      ]
     },
     "metadata": {
      "needs_background": "light"
     },
     "output_type": "display_data"
    },
    {
     "data": {
      "application/javascript": [
       "\n",
       "            setTimeout(function() {\n",
       "                var nbb_cell_id = 39;\n",
       "                var nbb_unformatted_code = \"# Distribution of prices from $0 to $1000\\nplt.figure(figsize=(20, 4))\\ntrain_data.wage.hist(bins=20, range=(0, 100))\\nplt.margins(x=0)\\nplt.axvline(200, color=\\\"orange\\\", linestyle=\\\"--\\\")\\nplt.title(\\\"Airbnb advertised nightly prices in Capetown up to $1000\\\", fontsize=16)\\nplt.xlabel(\\\"Price (USD$)\\\")\\nplt.ylabel(\\\"Number of listings\\\")\\nplt.show()\";\n",
       "                var nbb_formatted_code = \"# Distribution of prices from $0 to $1000\\nplt.figure(figsize=(20, 4))\\ntrain_data.wage.hist(bins=20, range=(0, 100))\\nplt.margins(x=0)\\nplt.axvline(200, color=\\\"orange\\\", linestyle=\\\"--\\\")\\nplt.title(\\\"Airbnb advertised nightly prices in Capetown up to $1000\\\", fontsize=16)\\nplt.xlabel(\\\"Price (USD$)\\\")\\nplt.ylabel(\\\"Number of listings\\\")\\nplt.show()\";\n",
       "                var nbb_cells = Jupyter.notebook.get_cells();\n",
       "                for (var i = 0; i < nbb_cells.length; ++i) {\n",
       "                    if (nbb_cells[i].input_prompt_number == nbb_cell_id) {\n",
       "                        if (nbb_cells[i].get_text() == nbb_unformatted_code) {\n",
       "                             nbb_cells[i].set_text(nbb_formatted_code);\n",
       "                        }\n",
       "                        break;\n",
       "                    }\n",
       "                }\n",
       "            }, 500);\n",
       "            "
      ],
      "text/plain": [
       "<IPython.core.display.Javascript object>"
      ]
     },
     "metadata": {},
     "output_type": "display_data"
    }
   ],
   "source": [
    "# Distribution of prices from $0 to $1000\n",
    "plt.figure(figsize=(20, 4))\n",
    "train_data.wage.hist(bins=20, range=(0, 100))\n",
    "plt.margins(x=0)\n",
    "plt.axvline(200, color=\"orange\", linestyle=\"--\")\n",
    "plt.title(\"Airbnb advertised nightly prices in Capetown up to $1000\", fontsize=16)\n",
    "plt.xlabel(\"Price (USD$)\")\n",
    "plt.ylabel(\"Number of listings\")\n",
    "plt.show()"
   ]
  },
  {
   "cell_type": "code",
   "execution_count": 40,
   "metadata": {},
   "outputs": [
    {
     "data": {
      "text/plain": [
       "1240"
      ]
     },
     "execution_count": 40,
     "metadata": {},
     "output_type": "execute_result"
    },
    {
     "data": {
      "application/javascript": [
       "\n",
       "            setTimeout(function() {\n",
       "                var nbb_cell_id = 40;\n",
       "                var nbb_unformatted_code = \"train_data.wage.nunique()\";\n",
       "                var nbb_formatted_code = \"train_data.wage.nunique()\";\n",
       "                var nbb_cells = Jupyter.notebook.get_cells();\n",
       "                for (var i = 0; i < nbb_cells.length; ++i) {\n",
       "                    if (nbb_cells[i].input_prompt_number == nbb_cell_id) {\n",
       "                        if (nbb_cells[i].get_text() == nbb_unformatted_code) {\n",
       "                             nbb_cells[i].set_text(nbb_formatted_code);\n",
       "                        }\n",
       "                        break;\n",
       "                    }\n",
       "                }\n",
       "            }, 500);\n",
       "            "
      ],
      "text/plain": [
       "<IPython.core.display.Javascript object>"
      ]
     },
     "metadata": {},
     "output_type": "display_data"
    }
   ],
   "source": [
    "train_data.wage.nunique()"
   ]
  },
  {
   "cell_type": "code",
   "execution_count": 41,
   "metadata": {},
   "outputs": [
    {
     "name": "stdout",
     "output_type": "stream",
     "text": [
      "wage_group\n",
      "0    188219\n",
      "1     11264\n",
      "2        40\n",
      "Name: income, dtype: int64\n"
     ]
    },
    {
     "data": {
      "application/javascript": [
       "\n",
       "            setTimeout(function() {\n",
       "                var nbb_cell_id = 41;\n",
       "                var nbb_unformatted_code = \"# Breaking the ages into bins is more suitable\\ndef wage_adjuster(wage):\\n    if wage == 0:\\n        return 0\\n    elif wage <= 5000:\\n        return 1\\n    else:\\n        return 2\\n\\n\\n# Use the pandas `apply()` method by calling the function above\\ntrain_data[\\\"wage_group\\\"] = train_data[\\\"wage\\\"].apply(wage_adjuster)\\ntest_data[\\\"wage_group\\\"] = test_data[\\\"wage\\\"].apply(wage_adjuster)\\n\\n# Examine how many observations you have in each group\\nprint(train_data.groupby(\\\"wage_group\\\")[\\\"income\\\"].count())\";\n",
       "                var nbb_formatted_code = \"# Breaking the ages into bins is more suitable\\ndef wage_adjuster(wage):\\n    if wage == 0:\\n        return 0\\n    elif wage <= 5000:\\n        return 1\\n    else:\\n        return 2\\n\\n\\n# Use the pandas `apply()` method by calling the function above\\ntrain_data[\\\"wage_group\\\"] = train_data[\\\"wage\\\"].apply(wage_adjuster)\\ntest_data[\\\"wage_group\\\"] = test_data[\\\"wage\\\"].apply(wage_adjuster)\\n\\n# Examine how many observations you have in each group\\nprint(train_data.groupby(\\\"wage_group\\\")[\\\"income\\\"].count())\";\n",
       "                var nbb_cells = Jupyter.notebook.get_cells();\n",
       "                for (var i = 0; i < nbb_cells.length; ++i) {\n",
       "                    if (nbb_cells[i].input_prompt_number == nbb_cell_id) {\n",
       "                        if (nbb_cells[i].get_text() == nbb_unformatted_code) {\n",
       "                             nbb_cells[i].set_text(nbb_formatted_code);\n",
       "                        }\n",
       "                        break;\n",
       "                    }\n",
       "                }\n",
       "            }, 500);\n",
       "            "
      ],
      "text/plain": [
       "<IPython.core.display.Javascript object>"
      ]
     },
     "metadata": {},
     "output_type": "display_data"
    }
   ],
   "source": [
    "# Breaking the ages into bins is more suitable\n",
    "def wage_adjuster(wage):\n",
    "    if wage == 0:\n",
    "        return 0\n",
    "    elif wage <= 5000:\n",
    "        return 1\n",
    "    else:\n",
    "        return 2\n",
    "\n",
    "\n",
    "# Use the pandas `apply()` method by calling the function above\n",
    "train_data[\"wage_group\"] = train_data[\"wage\"].apply(wage_adjuster)\n",
    "test_data[\"wage_group\"] = test_data[\"wage\"].apply(wage_adjuster)\n",
    "\n",
    "# Examine how many observations you have in each group\n",
    "print(train_data.groupby(\"wage_group\")[\"income\"].count())"
   ]
  },
  {
   "cell_type": "code",
   "execution_count": 42,
   "metadata": {},
   "outputs": [
    {
     "data": {
      "image/png": "[encoded data removed]",
      "text/plain": [
       "<Figure size 720x360 with 1 Axes>"
      ]
     },
     "metadata": {
      "needs_background": "light"
     },
     "output_type": "display_data"
    },
    {
     "data": {
      "application/javascript": [
       "\n",
       "            setTimeout(function() {\n",
       "                var nbb_cell_id = 42;\n",
       "                var nbb_unformatted_code = \"# Plot counts for each combination of levels.\\nfig = plt.figure(figsize=(10, 5))\\nsns.countplot(\\\"wage_group\\\", hue=\\\"income\\\", data=train_data, palette=\\\"pastel\\\")\\nplt.tight_layout\\nplt.show()\";\n",
       "                var nbb_formatted_code = \"# Plot counts for each combination of levels.\\nfig = plt.figure(figsize=(10, 5))\\nsns.countplot(\\\"wage_group\\\", hue=\\\"income\\\", data=train_data, palette=\\\"pastel\\\")\\nplt.tight_layout\\nplt.show()\";\n",
       "                var nbb_cells = Jupyter.notebook.get_cells();\n",
       "                for (var i = 0; i < nbb_cells.length; ++i) {\n",
       "                    if (nbb_cells[i].input_prompt_number == nbb_cell_id) {\n",
       "                        if (nbb_cells[i].get_text() == nbb_unformatted_code) {\n",
       "                             nbb_cells[i].set_text(nbb_formatted_code);\n",
       "                        }\n",
       "                        break;\n",
       "                    }\n",
       "                }\n",
       "            }, 500);\n",
       "            "
      ],
      "text/plain": [
       "<IPython.core.display.Javascript object>"
      ]
     },
     "metadata": {},
     "output_type": "display_data"
    }
   ],
   "source": [
    "# Plot counts for each combination of levels.\n",
    "fig = plt.figure(figsize=(10, 5))\n",
    "sns.countplot(\"wage_group\", hue=\"income\", data=train_data, palette=\"pastel\")\n",
    "plt.tight_layout\n",
    "plt.show()"
   ]
  },
  {
   "cell_type": "markdown",
   "metadata": {},
   "source": [
    "Seems like alot of people are not reporting their incomes per hour because if you make 0 dollars and hour you shouldnt be making over a 50000 grand so the column will be dropped. "
   ]
  },
  {
   "cell_type": "code",
   "execution_count": 43,
   "metadata": {},
   "outputs": [
    {
     "data": {
      "text/html": [
       "<div>\n",
       "<style scoped>\n",
       "    .dataframe tbody tr th:only-of-type {\n",
       "        vertical-align: middle;\n",
       "    }\n",
       "\n",
       "    .dataframe tbody tr th {\n",
       "        vertical-align: top;\n",
       "    }\n",
       "\n",
       "    .dataframe thead th {\n",
       "        text-align: right;\n",
       "    }\n",
       "</style>\n",
       "<table border=\"1\" class=\"dataframe\">\n",
       "  <thead>\n",
       "    <tr style=\"text-align: right;\">\n",
       "      <th></th>\n",
       "      <th>industry</th>\n",
       "      <th>occupation</th>\n",
       "      <th>education</th>\n",
       "      <th>wage</th>\n",
       "      <th>relationship</th>\n",
       "      <th>race</th>\n",
       "      <th>sex</th>\n",
       "      <th>full_or_part_time_unemployment_stat</th>\n",
       "      <th>tax_filer_stat</th>\n",
       "      <th>detailed_household_summary_in_household</th>\n",
       "      <th>house_1yr</th>\n",
       "      <th>num_employers</th>\n",
       "      <th>citzenship</th>\n",
       "      <th>SEOTR</th>\n",
       "      <th>VETYN</th>\n",
       "      <th>weeks_worked</th>\n",
       "      <th>income</th>\n",
       "      <th>age_group</th>\n",
       "      <th>dividends_group</th>\n",
       "      <th>cap_profit</th>\n",
       "      <th>cap_group</th>\n",
       "      <th>wage_group</th>\n",
       "    </tr>\n",
       "  </thead>\n",
       "  <tbody>\n",
       "    <tr>\n",
       "      <td>190936</td>\n",
       "      <td>45</td>\n",
       "      <td>11</td>\n",
       "      <td>Doctoratedegree(PhDEdD)</td>\n",
       "      <td>9999</td>\n",
       "      <td>Nevermarried</td>\n",
       "      <td>White</td>\n",
       "      <td>Male</td>\n",
       "      <td>ChildrenorArmedForces</td>\n",
       "      <td>Single</td>\n",
       "      <td>Householder</td>\n",
       "      <td>Yes</td>\n",
       "      <td>3</td>\n",
       "      <td>Native-BornintheUnitedStates</td>\n",
       "      <td>0</td>\n",
       "      <td>2</td>\n",
       "      <td>52</td>\n",
       "      <td>1</td>\n",
       "      <td>3</td>\n",
       "      <td>0</td>\n",
       "      <td>0</td>\n",
       "      <td>1</td>\n",
       "      <td>2</td>\n",
       "    </tr>\n",
       "    <tr>\n",
       "      <td>25572</td>\n",
       "      <td>43</td>\n",
       "      <td>26</td>\n",
       "      <td>Associatesdegree-occup/vocational</td>\n",
       "      <td>9916</td>\n",
       "      <td>Married-civilianspousepresent</td>\n",
       "      <td>White</td>\n",
       "      <td>Female</td>\n",
       "      <td>ChildrenorArmedForces</td>\n",
       "      <td>Jointbothunder65</td>\n",
       "      <td>Spouseofhouseholder</td>\n",
       "      <td>Yes</td>\n",
       "      <td>5</td>\n",
       "      <td>Foreignborn-UScitizenbynaturalization</td>\n",
       "      <td>0</td>\n",
       "      <td>2</td>\n",
       "      <td>52</td>\n",
       "      <td>0</td>\n",
       "      <td>3</td>\n",
       "      <td>0</td>\n",
       "      <td>0</td>\n",
       "      <td>1</td>\n",
       "      <td>2</td>\n",
       "    </tr>\n",
       "    <tr>\n",
       "      <td>173067</td>\n",
       "      <td>42</td>\n",
       "      <td>31</td>\n",
       "      <td>9thgrade</td>\n",
       "      <td>9800</td>\n",
       "      <td>Married-civilianspousepresent</td>\n",
       "      <td>Other</td>\n",
       "      <td>Female</td>\n",
       "      <td>Full-timeschedules</td>\n",
       "      <td>Jointbothunder65</td>\n",
       "      <td>Otherrelativeofhouseholder</td>\n",
       "      <td>Notinuniverseunder1yearold</td>\n",
       "      <td>3</td>\n",
       "      <td>Native-BorninPuertoRicoorUSOutlying</td>\n",
       "      <td>0</td>\n",
       "      <td>2</td>\n",
       "      <td>52</td>\n",
       "      <td>0</td>\n",
       "      <td>3</td>\n",
       "      <td>1</td>\n",
       "      <td>0</td>\n",
       "      <td>1</td>\n",
       "      <td>2</td>\n",
       "    </tr>\n",
       "    <tr>\n",
       "      <td>97356</td>\n",
       "      <td>37</td>\n",
       "      <td>31</td>\n",
       "      <td>7thand8thgrade</td>\n",
       "      <td>9800</td>\n",
       "      <td>Separated</td>\n",
       "      <td>White</td>\n",
       "      <td>Female</td>\n",
       "      <td>ChildrenorArmedForces</td>\n",
       "      <td>Single</td>\n",
       "      <td>Householder</td>\n",
       "      <td>Yes</td>\n",
       "      <td>4</td>\n",
       "      <td>Foreignborn-UScitizenbynaturalization</td>\n",
       "      <td>0</td>\n",
       "      <td>2</td>\n",
       "      <td>52</td>\n",
       "      <td>0</td>\n",
       "      <td>3</td>\n",
       "      <td>0</td>\n",
       "      <td>0</td>\n",
       "      <td>1</td>\n",
       "      <td>2</td>\n",
       "    </tr>\n",
       "    <tr>\n",
       "      <td>84033</td>\n",
       "      <td>41</td>\n",
       "      <td>30</td>\n",
       "      <td>Highschoolgraduate</td>\n",
       "      <td>9400</td>\n",
       "      <td>Married-civilianspousepresent</td>\n",
       "      <td>White</td>\n",
       "      <td>Female</td>\n",
       "      <td>Full-timeschedules</td>\n",
       "      <td>Jointoneunder65&amp;one65+</td>\n",
       "      <td>Spouseofhouseholder</td>\n",
       "      <td>Notinuniverseunder1yearold</td>\n",
       "      <td>4</td>\n",
       "      <td>Foreignborn-UScitizenbynaturalization</td>\n",
       "      <td>0</td>\n",
       "      <td>2</td>\n",
       "      <td>52</td>\n",
       "      <td>0</td>\n",
       "      <td>3</td>\n",
       "      <td>0</td>\n",
       "      <td>0</td>\n",
       "      <td>1</td>\n",
       "      <td>2</td>\n",
       "    </tr>\n",
       "    <tr>\n",
       "      <td>...</td>\n",
       "      <td>...</td>\n",
       "      <td>...</td>\n",
       "      <td>...</td>\n",
       "      <td>...</td>\n",
       "      <td>...</td>\n",
       "      <td>...</td>\n",
       "      <td>...</td>\n",
       "      <td>...</td>\n",
       "      <td>...</td>\n",
       "      <td>...</td>\n",
       "      <td>...</td>\n",
       "      <td>...</td>\n",
       "      <td>...</td>\n",
       "      <td>...</td>\n",
       "      <td>...</td>\n",
       "      <td>...</td>\n",
       "      <td>...</td>\n",
       "      <td>...</td>\n",
       "      <td>...</td>\n",
       "      <td>...</td>\n",
       "      <td>...</td>\n",
       "      <td>...</td>\n",
       "    </tr>\n",
       "    <tr>\n",
       "      <td>68457</td>\n",
       "      <td>44</td>\n",
       "      <td>12</td>\n",
       "      <td>Bachelorsdegree(BAABBS)</td>\n",
       "      <td>0</td>\n",
       "      <td>Married-civilianspousepresent</td>\n",
       "      <td>White</td>\n",
       "      <td>Female</td>\n",
       "      <td>ChildrenorArmedForces</td>\n",
       "      <td>Jointbothunder65</td>\n",
       "      <td>Spouseofhouseholder</td>\n",
       "      <td>Yes</td>\n",
       "      <td>5</td>\n",
       "      <td>Native-BornintheUnitedStates</td>\n",
       "      <td>2</td>\n",
       "      <td>2</td>\n",
       "      <td>52</td>\n",
       "      <td>0</td>\n",
       "      <td>2</td>\n",
       "      <td>0</td>\n",
       "      <td>0</td>\n",
       "      <td>1</td>\n",
       "      <td>0</td>\n",
       "    </tr>\n",
       "    <tr>\n",
       "      <td>68458</td>\n",
       "      <td>0</td>\n",
       "      <td>0</td>\n",
       "      <td>Children</td>\n",
       "      <td>0</td>\n",
       "      <td>Nevermarried</td>\n",
       "      <td>White</td>\n",
       "      <td>Male</td>\n",
       "      <td>ChildrenorArmedForces</td>\n",
       "      <td>Nonfiler</td>\n",
       "      <td>Childunder18nevermarried</td>\n",
       "      <td>No</td>\n",
       "      <td>0</td>\n",
       "      <td>Native-BornintheUnitedStates</td>\n",
       "      <td>0</td>\n",
       "      <td>0</td>\n",
       "      <td>0</td>\n",
       "      <td>0</td>\n",
       "      <td>1</td>\n",
       "      <td>0</td>\n",
       "      <td>0</td>\n",
       "      <td>1</td>\n",
       "      <td>0</td>\n",
       "    </tr>\n",
       "    <tr>\n",
       "      <td>68459</td>\n",
       "      <td>29</td>\n",
       "      <td>38</td>\n",
       "      <td>Highschoolgraduate</td>\n",
       "      <td>0</td>\n",
       "      <td>Nevermarried</td>\n",
       "      <td>Black</td>\n",
       "      <td>Male</td>\n",
       "      <td>ChildrenorArmedForces</td>\n",
       "      <td>Single</td>\n",
       "      <td>Householder</td>\n",
       "      <td>Yes</td>\n",
       "      <td>1</td>\n",
       "      <td>Native-BornintheUnitedStates</td>\n",
       "      <td>2</td>\n",
       "      <td>2</td>\n",
       "      <td>24</td>\n",
       "      <td>0</td>\n",
       "      <td>3</td>\n",
       "      <td>0</td>\n",
       "      <td>0</td>\n",
       "      <td>1</td>\n",
       "      <td>0</td>\n",
       "    </tr>\n",
       "    <tr>\n",
       "      <td>68460</td>\n",
       "      <td>13</td>\n",
       "      <td>33</td>\n",
       "      <td>Somecollegebutnodegree</td>\n",
       "      <td>0</td>\n",
       "      <td>Married-civilianspousepresent</td>\n",
       "      <td>White</td>\n",
       "      <td>Male</td>\n",
       "      <td>ChildrenorArmedForces</td>\n",
       "      <td>Jointbothunder65</td>\n",
       "      <td>Householder</td>\n",
       "      <td>No</td>\n",
       "      <td>4</td>\n",
       "      <td>Native-BornintheUnitedStates</td>\n",
       "      <td>0</td>\n",
       "      <td>2</td>\n",
       "      <td>52</td>\n",
       "      <td>0</td>\n",
       "      <td>3</td>\n",
       "      <td>0</td>\n",
       "      <td>0</td>\n",
       "      <td>1</td>\n",
       "      <td>0</td>\n",
       "    </tr>\n",
       "    <tr>\n",
       "      <td>199522</td>\n",
       "      <td>42</td>\n",
       "      <td>30</td>\n",
       "      <td>Highschoolgraduate</td>\n",
       "      <td>0</td>\n",
       "      <td>Nevermarried</td>\n",
       "      <td>Black</td>\n",
       "      <td>Female</td>\n",
       "      <td>ChildrenorArmedForces</td>\n",
       "      <td>Single</td>\n",
       "      <td>Householder</td>\n",
       "      <td>Yes</td>\n",
       "      <td>6</td>\n",
       "      <td>Foreignborn-NotacitizenofUS</td>\n",
       "      <td>0</td>\n",
       "      <td>2</td>\n",
       "      <td>52</td>\n",
       "      <td>0</td>\n",
       "      <td>2</td>\n",
       "      <td>0</td>\n",
       "      <td>0</td>\n",
       "      <td>1</td>\n",
       "      <td>0</td>\n",
       "    </tr>\n",
       "  </tbody>\n",
       "</table>\n",
       "<p>199523 rows × 22 columns</p>\n",
       "</div>"
      ],
      "text/plain": [
       "        industry  occupation                          education  wage                   relationship   race     sex full_or_part_time_unemployment_stat          tax_filer_stat detailed_household_summary_in_household                   house_1yr  num_employers                             citzenship  SEOTR  VETYN  weeks_worked  income  age_group  dividends_group  cap_profit  cap_group  wage_group\n",
       "190936        45          11            Doctoratedegree(PhDEdD)  9999                   Nevermarried  White    Male               ChildrenorArmedForces                  Single                             Householder                         Yes              3           Native-BornintheUnitedStates      0      2            52       1          3                0           0          1           2\n",
       "25572         43          26  Associatesdegree-occup/vocational  9916  Married-civilianspousepresent  White  Female               ChildrenorArmedForces        Jointbothunder65                     Spouseofhouseholder                         Yes              5  Foreignborn-UScitizenbynaturalization      0      2            52       0          3                0           0          1           2\n",
       "173067        42          31                           9thgrade  9800  Married-civilianspousepresent  Other  Female                  Full-timeschedules        Jointbothunder65              Otherrelativeofhouseholder  Notinuniverseunder1yearold              3    Native-BorninPuertoRicoorUSOutlying      0      2            52       0          3                1           0          1           2\n",
       "97356         37          31                     7thand8thgrade  9800                      Separated  White  Female               ChildrenorArmedForces                  Single                             Householder                         Yes              4  Foreignborn-UScitizenbynaturalization      0      2            52       0          3                0           0          1           2\n",
       "84033         41          30                 Highschoolgraduate  9400  Married-civilianspousepresent  White  Female                  Full-timeschedules  Jointoneunder65&one65+                     Spouseofhouseholder  Notinuniverseunder1yearold              4  Foreignborn-UScitizenbynaturalization      0      2            52       0          3                0           0          1           2\n",
       "...          ...         ...                                ...   ...                            ...    ...     ...                                 ...                     ...                                     ...                         ...            ...                                    ...    ...    ...           ...     ...        ...              ...         ...        ...         ...\n",
       "68457         44          12            Bachelorsdegree(BAABBS)     0  Married-civilianspousepresent  White  Female               ChildrenorArmedForces        Jointbothunder65                     Spouseofhouseholder                         Yes              5           Native-BornintheUnitedStates      2      2            52       0          2                0           0          1           0\n",
       "68458          0           0                           Children     0                   Nevermarried  White    Male               ChildrenorArmedForces                Nonfiler                Childunder18nevermarried                          No              0           Native-BornintheUnitedStates      0      0             0       0          1                0           0          1           0\n",
       "68459         29          38                 Highschoolgraduate     0                   Nevermarried  Black    Male               ChildrenorArmedForces                  Single                             Householder                         Yes              1           Native-BornintheUnitedStates      2      2            24       0          3                0           0          1           0\n",
       "68460         13          33             Somecollegebutnodegree     0  Married-civilianspousepresent  White    Male               ChildrenorArmedForces        Jointbothunder65                             Householder                          No              4           Native-BornintheUnitedStates      0      2            52       0          3                0           0          1           0\n",
       "199522        42          30                 Highschoolgraduate     0                   Nevermarried  Black  Female               ChildrenorArmedForces                  Single                             Householder                         Yes              6            Foreignborn-NotacitizenofUS      0      2            52       0          2                0           0          1           0\n",
       "\n",
       "[199523 rows x 22 columns]"
      ]
     },
     "execution_count": 43,
     "metadata": {},
     "output_type": "execute_result"
    },
    {
     "data": {
      "application/javascript": [
       "\n",
       "            setTimeout(function() {\n",
       "                var nbb_cell_id = 43;\n",
       "                var nbb_unformatted_code = \"train_data.sort_values(by=[\\\"wage\\\"], ascending=False)\";\n",
       "                var nbb_formatted_code = \"train_data.sort_values(by=[\\\"wage\\\"], ascending=False)\";\n",
       "                var nbb_cells = Jupyter.notebook.get_cells();\n",
       "                for (var i = 0; i < nbb_cells.length; ++i) {\n",
       "                    if (nbb_cells[i].input_prompt_number == nbb_cell_id) {\n",
       "                        if (nbb_cells[i].get_text() == nbb_unformatted_code) {\n",
       "                             nbb_cells[i].set_text(nbb_formatted_code);\n",
       "                        }\n",
       "                        break;\n",
       "                    }\n",
       "                }\n",
       "            }, 500);\n",
       "            "
      ],
      "text/plain": [
       "<IPython.core.display.Javascript object>"
      ]
     },
     "metadata": {},
     "output_type": "display_data"
    }
   ],
   "source": [
    "train_data.sort_values(by=[\"wage\"], ascending=False)"
   ]
  },
  {
   "cell_type": "code",
   "execution_count": 44,
   "metadata": {},
   "outputs": [
    {
     "data": {
      "application/javascript": [
       "\n",
       "            setTimeout(function() {\n",
       "                var nbb_cell_id = 44;\n",
       "                var nbb_unformatted_code = \"# dropping wage columns\\ntrain_data.drop(\\n    [\\\"wage\\\", \\\"wage_group\\\"], axis=1, inplace=True,\\n)\\n\\ntest_data.drop(\\n    [\\\"wage\\\", \\\"wage_group\\\"], axis=1, inplace=True,\\n)\";\n",
       "                var nbb_formatted_code = \"# dropping wage columns\\ntrain_data.drop(\\n    [\\\"wage\\\", \\\"wage_group\\\"], axis=1, inplace=True,\\n)\\n\\ntest_data.drop(\\n    [\\\"wage\\\", \\\"wage_group\\\"], axis=1, inplace=True,\\n)\";\n",
       "                var nbb_cells = Jupyter.notebook.get_cells();\n",
       "                for (var i = 0; i < nbb_cells.length; ++i) {\n",
       "                    if (nbb_cells[i].input_prompt_number == nbb_cell_id) {\n",
       "                        if (nbb_cells[i].get_text() == nbb_unformatted_code) {\n",
       "                             nbb_cells[i].set_text(nbb_formatted_code);\n",
       "                        }\n",
       "                        break;\n",
       "                    }\n",
       "                }\n",
       "            }, 500);\n",
       "            "
      ],
      "text/plain": [
       "<IPython.core.display.Javascript object>"
      ]
     },
     "metadata": {},
     "output_type": "display_data"
    }
   ],
   "source": [
    "# dropping wage columns\n",
    "train_data.drop(\n",
    "    [\"wage\", \"wage_group\"], axis=1, inplace=True,\n",
    ")\n",
    "\n",
    "test_data.drop(\n",
    "    [\"wage\", \"wage_group\"], axis=1, inplace=True,\n",
    ")"
   ]
  },
  {
   "cell_type": "markdown",
   "metadata": {},
   "source": [
    "# Categorical Columns"
   ]
  },
  {
   "cell_type": "markdown",
   "metadata": {},
   "source": [
    "## Industry"
   ]
  },
  {
   "cell_type": "code",
   "execution_count": 45,
   "metadata": {},
   "outputs": [
    {
     "data": {
      "text/plain": [
       "<matplotlib.axes._subplots.AxesSubplot at 0x254eda42f08>"
      ]
     },
     "execution_count": 45,
     "metadata": {},
     "output_type": "execute_result"
    },
    {
     "data": {
      "image/png": "[encoded data removed]",
      "text/plain": [
       "<Figure size 1080x360 with 1 Axes>"
      ]
     },
     "metadata": {
      "needs_background": "light"
     },
     "output_type": "display_data"
    },
    {
     "data": {
      "application/javascript": [
       "\n",
       "            setTimeout(function() {\n",
       "                var nbb_cell_id = 45;\n",
       "                var nbb_unformatted_code = \"train_data.industry.value_counts().plot.bar(figsize=(15, 5), title=\\\"Industry code\\\")\";\n",
       "                var nbb_formatted_code = \"train_data.industry.value_counts().plot.bar(figsize=(15, 5), title=\\\"Industry code\\\")\";\n",
       "                var nbb_cells = Jupyter.notebook.get_cells();\n",
       "                for (var i = 0; i < nbb_cells.length; ++i) {\n",
       "                    if (nbb_cells[i].input_prompt_number == nbb_cell_id) {\n",
       "                        if (nbb_cells[i].get_text() == nbb_unformatted_code) {\n",
       "                             nbb_cells[i].set_text(nbb_formatted_code);\n",
       "                        }\n",
       "                        break;\n",
       "                    }\n",
       "                }\n",
       "            }, 500);\n",
       "            "
      ],
      "text/plain": [
       "<IPython.core.display.Javascript object>"
      ]
     },
     "metadata": {},
     "output_type": "display_data"
    }
   ],
   "source": [
    "train_data.industry.value_counts().plot.bar(figsize=(15, 5), title=\"Industry code\")"
   ]
  },
  {
   "cell_type": "code",
   "execution_count": 46,
   "metadata": {},
   "outputs": [
    {
     "data": {
      "image/png": "[encoded data removed]",
      "text/plain": [
       "<Figure size 720x360 with 1 Axes>"
      ]
     },
     "metadata": {
      "needs_background": "light"
     },
     "output_type": "display_data"
    },
    {
     "data": {
      "application/javascript": [
       "\n",
       "            setTimeout(function() {\n",
       "                var nbb_cell_id = 46;\n",
       "                var nbb_unformatted_code = \"# Plot counts for each combination of levels.\\nfig = plt.figure(figsize=(10, 5))\\nsns.countplot(\\\"industry\\\", hue=\\\"income\\\", data=train_data, palette=\\\"pastel\\\")\\nplt.tight_layout\\nplt.show()\";\n",
       "                var nbb_formatted_code = \"# Plot counts for each combination of levels.\\nfig = plt.figure(figsize=(10, 5))\\nsns.countplot(\\\"industry\\\", hue=\\\"income\\\", data=train_data, palette=\\\"pastel\\\")\\nplt.tight_layout\\nplt.show()\";\n",
       "                var nbb_cells = Jupyter.notebook.get_cells();\n",
       "                for (var i = 0; i < nbb_cells.length; ++i) {\n",
       "                    if (nbb_cells[i].input_prompt_number == nbb_cell_id) {\n",
       "                        if (nbb_cells[i].get_text() == nbb_unformatted_code) {\n",
       "                             nbb_cells[i].set_text(nbb_formatted_code);\n",
       "                        }\n",
       "                        break;\n",
       "                    }\n",
       "                }\n",
       "            }, 500);\n",
       "            "
      ],
      "text/plain": [
       "<IPython.core.display.Javascript object>"
      ]
     },
     "metadata": {},
     "output_type": "display_data"
    }
   ],
   "source": [
    "# Plot counts for each combination of levels.\n",
    "fig = plt.figure(figsize=(10, 5))\n",
    "sns.countplot(\"industry\", hue=\"income\", data=train_data, palette=\"pastel\")\n",
    "plt.tight_layout\n",
    "plt.show()"
   ]
  },
  {
   "cell_type": "markdown",
   "metadata": {},
   "source": [
    "Industry definitely seems to have an effect so will this be one hot encoded. "
   ]
  },
  {
   "cell_type": "markdown",
   "metadata": {},
   "source": [
    "## Education "
   ]
  },
  {
   "cell_type": "markdown",
   "metadata": {},
   "source": [
    "Choosing to adjust the education status a little bit so the data can be consolidated a little. "
   ]
  },
  {
   "cell_type": "code",
   "execution_count": 47,
   "metadata": {},
   "outputs": [
    {
     "data": {
      "text/plain": [
       "Highschoolgraduate        48407\n",
       "Children                  47422\n",
       "Somecollegebutnodegree    27820\n",
       "some_hs                   22789\n",
       "bachdegree                19865\n",
       "elementary_school         13902\n",
       "associates                 9721\n",
       "postgrad                   9597\n",
       "Name: education, dtype: int64"
      ]
     },
     "execution_count": 47,
     "metadata": {},
     "output_type": "execute_result"
    },
    {
     "data": {
      "application/javascript": [
       "\n",
       "            setTimeout(function() {\n",
       "                var nbb_cell_id = 47;\n",
       "                var nbb_unformatted_code = \"# for people that didnt finish high school\\nsome_hs = [\\\"11thgrade\\\", \\\"10thgrade\\\", \\\"9thgrade\\\", \\\"12thgrade\\\", \\\"12thgradenodiploma\\\"]\\n# Choose to count 7th and 8th grade as elementary\\nelementary = [\\n    \\\"1st2nd3rdor4thgrade\\\",\\n    \\\"5thor6thgrade\\\",\\n    \\\"7thand8thgrade\\\",\\n    \\\"Lessthan1stgrade\\\",\\n]\\n# associate degree holders\\nassociates = [\\\"Associatesdegree-occup/vocational\\\", \\\"Associatesdegree-academicprogram\\\"]\\n# higher than bach degree holders\\npost_grad = [\\n    \\\"Mastersdegree(MAMSMEngMEdMSWMBA)\\\",\\n    \\\"Profschooldegree(MDDDSDVMLLBJD)\\\",\\n    \\\"Doctoratedegree(PhDEdD)\\\",\\n]\\n# shortening bach degreee\\nbach_degree = [\\\"Bachelorsdegree(BAABBS)\\\"]\\n\\n# replace elements in list.\\ntrain_data[\\\"education\\\"].replace(to_replace=some_hs, value=\\\"some_hs\\\", inplace=True)\\ntrain_data[\\\"education\\\"].replace(\\n    to_replace=elementary, value=\\\"elementary_school\\\", inplace=True\\n)\\ntrain_data[\\\"education\\\"].replace(to_replace=associates, value=\\\"associates\\\", inplace=True)\\ntrain_data[\\\"education\\\"].replace(to_replace=post_grad, value=\\\"postgrad\\\", inplace=True)\\ntrain_data[\\\"education\\\"].replace(\\n    to_replace=bach_degree, value=\\\"bachdegree\\\", inplace=True\\n)\\n\\ntrain_data.education.value_counts()\";\n",
       "                var nbb_formatted_code = \"# for people that didnt finish high school\\nsome_hs = [\\\"11thgrade\\\", \\\"10thgrade\\\", \\\"9thgrade\\\", \\\"12thgrade\\\", \\\"12thgradenodiploma\\\"]\\n# Choose to count 7th and 8th grade as elementary\\nelementary = [\\n    \\\"1st2nd3rdor4thgrade\\\",\\n    \\\"5thor6thgrade\\\",\\n    \\\"7thand8thgrade\\\",\\n    \\\"Lessthan1stgrade\\\",\\n]\\n# associate degree holders\\nassociates = [\\\"Associatesdegree-occup/vocational\\\", \\\"Associatesdegree-academicprogram\\\"]\\n# higher than bach degree holders\\npost_grad = [\\n    \\\"Mastersdegree(MAMSMEngMEdMSWMBA)\\\",\\n    \\\"Profschooldegree(MDDDSDVMLLBJD)\\\",\\n    \\\"Doctoratedegree(PhDEdD)\\\",\\n]\\n# shortening bach degreee\\nbach_degree = [\\\"Bachelorsdegree(BAABBS)\\\"]\\n\\n# replace elements in list.\\ntrain_data[\\\"education\\\"].replace(to_replace=some_hs, value=\\\"some_hs\\\", inplace=True)\\ntrain_data[\\\"education\\\"].replace(\\n    to_replace=elementary, value=\\\"elementary_school\\\", inplace=True\\n)\\ntrain_data[\\\"education\\\"].replace(to_replace=associates, value=\\\"associates\\\", inplace=True)\\ntrain_data[\\\"education\\\"].replace(to_replace=post_grad, value=\\\"postgrad\\\", inplace=True)\\ntrain_data[\\\"education\\\"].replace(\\n    to_replace=bach_degree, value=\\\"bachdegree\\\", inplace=True\\n)\\n\\ntrain_data.education.value_counts()\";\n",
       "                var nbb_cells = Jupyter.notebook.get_cells();\n",
       "                for (var i = 0; i < nbb_cells.length; ++i) {\n",
       "                    if (nbb_cells[i].input_prompt_number == nbb_cell_id) {\n",
       "                        if (nbb_cells[i].get_text() == nbb_unformatted_code) {\n",
       "                             nbb_cells[i].set_text(nbb_formatted_code);\n",
       "                        }\n",
       "                        break;\n",
       "                    }\n",
       "                }\n",
       "            }, 500);\n",
       "            "
      ],
      "text/plain": [
       "<IPython.core.display.Javascript object>"
      ]
     },
     "metadata": {},
     "output_type": "display_data"
    }
   ],
   "source": [
    "# for people that didnt finish high school\n",
    "some_hs = [\"11thgrade\", \"10thgrade\", \"9thgrade\", \"12thgrade\", \"12thgradenodiploma\"]\n",
    "# Choose to count 7th and 8th grade as elementary\n",
    "elementary = [\n",
    "    \"1st2nd3rdor4thgrade\",\n",
    "    \"5thor6thgrade\",\n",
    "    \"7thand8thgrade\",\n",
    "    \"Lessthan1stgrade\",\n",
    "]\n",
    "# associate degree holders\n",
    "associates = [\"Associatesdegree-occup/vocational\", \"Associatesdegree-academicprogram\"]\n",
    "# higher than bach degree holders\n",
    "post_grad = [\n",
    "    \"Mastersdegree(MAMSMEngMEdMSWMBA)\",\n",
    "    \"Profschooldegree(MDDDSDVMLLBJD)\",\n",
    "    \"Doctoratedegree(PhDEdD)\",\n",
    "]\n",
    "# shortening bach degreee\n",
    "bach_degree = [\"Bachelorsdegree(BAABBS)\"]\n",
    "\n",
    "# replace elements in list.\n",
    "train_data[\"education\"].replace(to_replace=some_hs, value=\"some_hs\", inplace=True)\n",
    "train_data[\"education\"].replace(\n",
    "    to_replace=elementary, value=\"elementary_school\", inplace=True\n",
    ")\n",
    "train_data[\"education\"].replace(to_replace=associates, value=\"associates\", inplace=True)\n",
    "train_data[\"education\"].replace(to_replace=post_grad, value=\"postgrad\", inplace=True)\n",
    "train_data[\"education\"].replace(\n",
    "    to_replace=bach_degree, value=\"bachdegree\", inplace=True\n",
    ")\n",
    "\n",
    "train_data.education.value_counts()"
   ]
  },
  {
   "cell_type": "code",
   "execution_count": 48,
   "metadata": {},
   "outputs": [
    {
     "data": {
      "text/plain": [
       "Highschoolgraduate        24147\n",
       "Children                  23442\n",
       "Somecollegebutnodegree    13954\n",
       "some_hs                   11578\n",
       "bachdegree                 9885\n",
       "elementary_school          7185\n",
       "postgrad                   4802\n",
       "associates                 4769\n",
       "Name: education, dtype: int64"
      ]
     },
     "execution_count": 48,
     "metadata": {},
     "output_type": "execute_result"
    },
    {
     "data": {
      "application/javascript": [
       "\n",
       "            setTimeout(function() {\n",
       "                var nbb_cell_id = 48;\n",
       "                var nbb_unformatted_code = \"# for people that didnt finish high school\\nsome_hs = [\\\"11thgrade\\\", \\\"10thgrade\\\", \\\"9thgrade\\\", \\\"12thgrade\\\", \\\"12thgradenodiploma\\\"]\\n# Choose to count 7th and 8th grade as elementary\\nelementary = [\\n    \\\"1st2nd3rdor4thgrade\\\",\\n    \\\"5thor6thgrade\\\",\\n    \\\"7thand8thgrade\\\",\\n    \\\"Lessthan1stgrade\\\",\\n]\\n# associate degree holders\\nassociates = [\\\"Associatesdegree-occup/vocational\\\", \\\"Associatesdegree-academicprogram\\\"]\\n# higher than bach degree holders\\npost_grad = [\\n    \\\"Mastersdegree(MAMSMEngMEdMSWMBA)\\\",\\n    \\\"Profschooldegree(MDDDSDVMLLBJD)\\\",\\n    \\\"Doctoratedegree(PhDEdD)\\\",\\n]\\n# shortening bach degreee\\nbach_degree = [\\\"Bachelorsdegree(BAABBS)\\\"]\\n\\n# replace elements in list.\\ntest_data[\\\"education\\\"].replace(to_replace=some_hs, value=\\\"some_hs\\\", inplace=True)\\ntest_data[\\\"education\\\"].replace(\\n    to_replace=elementary, value=\\\"elementary_school\\\", inplace=True\\n)\\ntest_data[\\\"education\\\"].replace(to_replace=associates, value=\\\"associates\\\", inplace=True)\\ntest_data[\\\"education\\\"].replace(to_replace=post_grad, value=\\\"postgrad\\\", inplace=True)\\ntest_data[\\\"education\\\"].replace(to_replace=bach_degree, value=\\\"bachdegree\\\", inplace=True)\\n\\ntest_data.education.value_counts()\";\n",
       "                var nbb_formatted_code = \"# for people that didnt finish high school\\nsome_hs = [\\\"11thgrade\\\", \\\"10thgrade\\\", \\\"9thgrade\\\", \\\"12thgrade\\\", \\\"12thgradenodiploma\\\"]\\n# Choose to count 7th and 8th grade as elementary\\nelementary = [\\n    \\\"1st2nd3rdor4thgrade\\\",\\n    \\\"5thor6thgrade\\\",\\n    \\\"7thand8thgrade\\\",\\n    \\\"Lessthan1stgrade\\\",\\n]\\n# associate degree holders\\nassociates = [\\\"Associatesdegree-occup/vocational\\\", \\\"Associatesdegree-academicprogram\\\"]\\n# higher than bach degree holders\\npost_grad = [\\n    \\\"Mastersdegree(MAMSMEngMEdMSWMBA)\\\",\\n    \\\"Profschooldegree(MDDDSDVMLLBJD)\\\",\\n    \\\"Doctoratedegree(PhDEdD)\\\",\\n]\\n# shortening bach degreee\\nbach_degree = [\\\"Bachelorsdegree(BAABBS)\\\"]\\n\\n# replace elements in list.\\ntest_data[\\\"education\\\"].replace(to_replace=some_hs, value=\\\"some_hs\\\", inplace=True)\\ntest_data[\\\"education\\\"].replace(\\n    to_replace=elementary, value=\\\"elementary_school\\\", inplace=True\\n)\\ntest_data[\\\"education\\\"].replace(to_replace=associates, value=\\\"associates\\\", inplace=True)\\ntest_data[\\\"education\\\"].replace(to_replace=post_grad, value=\\\"postgrad\\\", inplace=True)\\ntest_data[\\\"education\\\"].replace(to_replace=bach_degree, value=\\\"bachdegree\\\", inplace=True)\\n\\ntest_data.education.value_counts()\";\n",
       "                var nbb_cells = Jupyter.notebook.get_cells();\n",
       "                for (var i = 0; i < nbb_cells.length; ++i) {\n",
       "                    if (nbb_cells[i].input_prompt_number == nbb_cell_id) {\n",
       "                        if (nbb_cells[i].get_text() == nbb_unformatted_code) {\n",
       "                             nbb_cells[i].set_text(nbb_formatted_code);\n",
       "                        }\n",
       "                        break;\n",
       "                    }\n",
       "                }\n",
       "            }, 500);\n",
       "            "
      ],
      "text/plain": [
       "<IPython.core.display.Javascript object>"
      ]
     },
     "metadata": {},
     "output_type": "display_data"
    }
   ],
   "source": [
    "# for people that didnt finish high school\n",
    "some_hs = [\"11thgrade\", \"10thgrade\", \"9thgrade\", \"12thgrade\", \"12thgradenodiploma\"]\n",
    "# Choose to count 7th and 8th grade as elementary\n",
    "elementary = [\n",
    "    \"1st2nd3rdor4thgrade\",\n",
    "    \"5thor6thgrade\",\n",
    "    \"7thand8thgrade\",\n",
    "    \"Lessthan1stgrade\",\n",
    "]\n",
    "# associate degree holders\n",
    "associates = [\"Associatesdegree-occup/vocational\", \"Associatesdegree-academicprogram\"]\n",
    "# higher than bach degree holders\n",
    "post_grad = [\n",
    "    \"Mastersdegree(MAMSMEngMEdMSWMBA)\",\n",
    "    \"Profschooldegree(MDDDSDVMLLBJD)\",\n",
    "    \"Doctoratedegree(PhDEdD)\",\n",
    "]\n",
    "# shortening bach degreee\n",
    "bach_degree = [\"Bachelorsdegree(BAABBS)\"]\n",
    "\n",
    "# replace elements in list.\n",
    "test_data[\"education\"].replace(to_replace=some_hs, value=\"some_hs\", inplace=True)\n",
    "test_data[\"education\"].replace(\n",
    "    to_replace=elementary, value=\"elementary_school\", inplace=True\n",
    ")\n",
    "test_data[\"education\"].replace(to_replace=associates, value=\"associates\", inplace=True)\n",
    "test_data[\"education\"].replace(to_replace=post_grad, value=\"postgrad\", inplace=True)\n",
    "test_data[\"education\"].replace(to_replace=bach_degree, value=\"bachdegree\", inplace=True)\n",
    "\n",
    "test_data.education.value_counts()"
   ]
  },
  {
   "cell_type": "code",
   "execution_count": 49,
   "metadata": {},
   "outputs": [
    {
     "data": {
      "text/plain": [
       "<matplotlib.axes._subplots.AxesSubplot at 0x254b7ededc8>"
      ]
     },
     "execution_count": 49,
     "metadata": {},
     "output_type": "execute_result"
    },
    {
     "data": {
      "image/png": "[encoded data removed]",
      "text/plain": [
       "<Figure size 1080x360 with 1 Axes>"
      ]
     },
     "metadata": {
      "needs_background": "light"
     },
     "output_type": "display_data"
    },
    {
     "data": {
      "application/javascript": [
       "\n",
       "            setTimeout(function() {\n",
       "                var nbb_cell_id = 49;\n",
       "                var nbb_unformatted_code = \"# data breakdown after recategorizing\\ntrain_data.education.value_counts().plot.bar(figsize=(15, 5), title=\\\"education\\\")\";\n",
       "                var nbb_formatted_code = \"# data breakdown after recategorizing\\ntrain_data.education.value_counts().plot.bar(figsize=(15, 5), title=\\\"education\\\")\";\n",
       "                var nbb_cells = Jupyter.notebook.get_cells();\n",
       "                for (var i = 0; i < nbb_cells.length; ++i) {\n",
       "                    if (nbb_cells[i].input_prompt_number == nbb_cell_id) {\n",
       "                        if (nbb_cells[i].get_text() == nbb_unformatted_code) {\n",
       "                             nbb_cells[i].set_text(nbb_formatted_code);\n",
       "                        }\n",
       "                        break;\n",
       "                    }\n",
       "                }\n",
       "            }, 500);\n",
       "            "
      ],
      "text/plain": [
       "<IPython.core.display.Javascript object>"
      ]
     },
     "metadata": {},
     "output_type": "display_data"
    }
   ],
   "source": [
    "# data breakdown after recategorizing\n",
    "train_data.education.value_counts().plot.bar(figsize=(15, 5), title=\"education\")"
   ]
  },
  {
   "cell_type": "code",
   "execution_count": 50,
   "metadata": {},
   "outputs": [
    {
     "data": {
      "image/png": "[encoded data removed]",
      "text/plain": [
       "<Figure size 720x360 with 1 Axes>"
      ]
     },
     "metadata": {
      "needs_background": "light"
     },
     "output_type": "display_data"
    },
    {
     "data": {
      "application/javascript": [
       "\n",
       "            setTimeout(function() {\n",
       "                var nbb_cell_id = 50;\n",
       "                var nbb_unformatted_code = \"# Plot counts for each combination of levels.\\nfig = plt.figure(figsize=(10, 5))\\nsns.countplot(\\\"education\\\", hue=\\\"income\\\", data=train_data, palette=\\\"pastel\\\")\\nplt.tight_layout\\nplt.show()\";\n",
       "                var nbb_formatted_code = \"# Plot counts for each combination of levels.\\nfig = plt.figure(figsize=(10, 5))\\nsns.countplot(\\\"education\\\", hue=\\\"income\\\", data=train_data, palette=\\\"pastel\\\")\\nplt.tight_layout\\nplt.show()\";\n",
       "                var nbb_cells = Jupyter.notebook.get_cells();\n",
       "                for (var i = 0; i < nbb_cells.length; ++i) {\n",
       "                    if (nbb_cells[i].input_prompt_number == nbb_cell_id) {\n",
       "                        if (nbb_cells[i].get_text() == nbb_unformatted_code) {\n",
       "                             nbb_cells[i].set_text(nbb_formatted_code);\n",
       "                        }\n",
       "                        break;\n",
       "                    }\n",
       "                }\n",
       "            }, 500);\n",
       "            "
      ],
      "text/plain": [
       "<IPython.core.display.Javascript object>"
      ]
     },
     "metadata": {},
     "output_type": "display_data"
    }
   ],
   "source": [
    "# Plot counts for each combination of levels.\n",
    "fig = plt.figure(figsize=(10, 5))\n",
    "sns.countplot(\"education\", hue=\"income\", data=train_data, palette=\"pastel\")\n",
    "plt.tight_layout\n",
    "plt.show()"
   ]
  },
  {
   "cell_type": "code",
   "execution_count": 51,
   "metadata": {},
   "outputs": [
    {
     "data": {
      "image/png": "[encoded data removed]",
      "text/plain": [
       "<Figure size 432x288 with 1 Axes>"
      ]
     },
     "metadata": {
      "needs_background": "light"
     },
     "output_type": "display_data"
    },
    {
     "data": {
      "application/javascript": [
       "\n",
       "            setTimeout(function() {\n",
       "                var nbb_cell_id = 51;\n",
       "                var nbb_unformatted_code = \"# Plot counts for each combination of levels.\\nsns.countplot(y=\\\"income\\\", hue=\\\"education\\\", data=train_data, palette=\\\"pastel\\\")\\nplt.show()\";\n",
       "                var nbb_formatted_code = \"# Plot counts for each combination of levels.\\nsns.countplot(y=\\\"income\\\", hue=\\\"education\\\", data=train_data, palette=\\\"pastel\\\")\\nplt.show()\";\n",
       "                var nbb_cells = Jupyter.notebook.get_cells();\n",
       "                for (var i = 0; i < nbb_cells.length; ++i) {\n",
       "                    if (nbb_cells[i].input_prompt_number == nbb_cell_id) {\n",
       "                        if (nbb_cells[i].get_text() == nbb_unformatted_code) {\n",
       "                             nbb_cells[i].set_text(nbb_formatted_code);\n",
       "                        }\n",
       "                        break;\n",
       "                    }\n",
       "                }\n",
       "            }, 500);\n",
       "            "
      ],
      "text/plain": [
       "<IPython.core.display.Javascript object>"
      ]
     },
     "metadata": {},
     "output_type": "display_data"
    }
   ],
   "source": [
    "# Plot counts for each combination of levels.\n",
    "sns.countplot(y=\"income\", hue=\"education\", data=train_data, palette=\"pastel\")\n",
    "plt.show()"
   ]
  },
  {
   "cell_type": "markdown",
   "metadata": {},
   "source": [
    "## Relationship"
   ]
  },
  {
   "cell_type": "code",
   "execution_count": 52,
   "metadata": {},
   "outputs": [
    {
     "data": {
      "text/plain": [
       "Nevermarried    86485\n",
       "Married         86405\n",
       "Separated       16170\n",
       "Widowed         10463\n",
       "Name: relationship, dtype: int64"
      ]
     },
     "execution_count": 52,
     "metadata": {},
     "output_type": "execute_result"
    },
    {
     "data": {
      "application/javascript": [
       "\n",
       "            setTimeout(function() {\n",
       "                var nbb_cell_id = 52;\n",
       "                var nbb_unformatted_code = \"married = [\\n    \\\"Married-spouseabsent\\\",\\n    \\\"Married-civ-spouse\\\",\\n    \\\"Married-AF-spouse\\\",\\n    \\\"Married-civilianspousepresent\\\",\\n    \\\"Married-AFspousepresent\\\",\\n]\\nseparated = [\\\"Separated\\\", \\\"Divorced\\\"]\\n\\n# replace elements in list.\\ntrain_data[\\\"relationship\\\"].replace(to_replace=married, value=\\\"Married\\\", inplace=True)\\ntrain_data[\\\"relationship\\\"].replace(\\n    to_replace=separated, value=\\\"Separated\\\", inplace=True\\n)\\n\\ntrain_data[\\\"relationship\\\"].value_counts()\";\n",
       "                var nbb_formatted_code = \"married = [\\n    \\\"Married-spouseabsent\\\",\\n    \\\"Married-civ-spouse\\\",\\n    \\\"Married-AF-spouse\\\",\\n    \\\"Married-civilianspousepresent\\\",\\n    \\\"Married-AFspousepresent\\\",\\n]\\nseparated = [\\\"Separated\\\", \\\"Divorced\\\"]\\n\\n# replace elements in list.\\ntrain_data[\\\"relationship\\\"].replace(to_replace=married, value=\\\"Married\\\", inplace=True)\\ntrain_data[\\\"relationship\\\"].replace(\\n    to_replace=separated, value=\\\"Separated\\\", inplace=True\\n)\\n\\ntrain_data[\\\"relationship\\\"].value_counts()\";\n",
       "                var nbb_cells = Jupyter.notebook.get_cells();\n",
       "                for (var i = 0; i < nbb_cells.length; ++i) {\n",
       "                    if (nbb_cells[i].input_prompt_number == nbb_cell_id) {\n",
       "                        if (nbb_cells[i].get_text() == nbb_unformatted_code) {\n",
       "                             nbb_cells[i].set_text(nbb_formatted_code);\n",
       "                        }\n",
       "                        break;\n",
       "                    }\n",
       "                }\n",
       "            }, 500);\n",
       "            "
      ],
      "text/plain": [
       "<IPython.core.display.Javascript object>"
      ]
     },
     "metadata": {},
     "output_type": "display_data"
    }
   ],
   "source": [
    "married = [\n",
    "    \"Married-spouseabsent\",\n",
    "    \"Married-civ-spouse\",\n",
    "    \"Married-AF-spouse\",\n",
    "    \"Married-civilianspousepresent\",\n",
    "    \"Married-AFspousepresent\",\n",
    "]\n",
    "separated = [\"Separated\", \"Divorced\"]\n",
    "\n",
    "# replace elements in list.\n",
    "train_data[\"relationship\"].replace(to_replace=married, value=\"Married\", inplace=True)\n",
    "train_data[\"relationship\"].replace(\n",
    "    to_replace=separated, value=\"Separated\", inplace=True\n",
    ")\n",
    "\n",
    "train_data[\"relationship\"].value_counts()"
   ]
  },
  {
   "cell_type": "code",
   "execution_count": 53,
   "metadata": {},
   "outputs": [
    {
     "data": {
      "text/plain": [
       "Married         43148\n",
       "Nevermarried    43143\n",
       "Separated        8146\n",
       "Widowed          5325\n",
       "Name: relationship, dtype: int64"
      ]
     },
     "execution_count": 53,
     "metadata": {},
     "output_type": "execute_result"
    },
    {
     "data": {
      "application/javascript": [
       "\n",
       "            setTimeout(function() {\n",
       "                var nbb_cell_id = 53;\n",
       "                var nbb_unformatted_code = \"married = [\\n    \\\"Married-spouseabsent\\\",\\n    \\\"Married-civ-spouse\\\",\\n    \\\"Married-AF-spouse\\\",\\n    \\\"Married-civilianspousepresent\\\",\\n    \\\"Married-AFspousepresent\\\",\\n]\\nseparated = [\\\"Separated\\\", \\\"Divorced\\\"]\\n\\n# replace elements in list.\\ntest_data[\\\"relationship\\\"].replace(to_replace=married, value=\\\"Married\\\", inplace=True)\\ntest_data[\\\"relationship\\\"].replace(to_replace=separated, value=\\\"Separated\\\", inplace=True)\\n\\ntest_data[\\\"relationship\\\"].value_counts()\";\n",
       "                var nbb_formatted_code = \"married = [\\n    \\\"Married-spouseabsent\\\",\\n    \\\"Married-civ-spouse\\\",\\n    \\\"Married-AF-spouse\\\",\\n    \\\"Married-civilianspousepresent\\\",\\n    \\\"Married-AFspousepresent\\\",\\n]\\nseparated = [\\\"Separated\\\", \\\"Divorced\\\"]\\n\\n# replace elements in list.\\ntest_data[\\\"relationship\\\"].replace(to_replace=married, value=\\\"Married\\\", inplace=True)\\ntest_data[\\\"relationship\\\"].replace(to_replace=separated, value=\\\"Separated\\\", inplace=True)\\n\\ntest_data[\\\"relationship\\\"].value_counts()\";\n",
       "                var nbb_cells = Jupyter.notebook.get_cells();\n",
       "                for (var i = 0; i < nbb_cells.length; ++i) {\n",
       "                    if (nbb_cells[i].input_prompt_number == nbb_cell_id) {\n",
       "                        if (nbb_cells[i].get_text() == nbb_unformatted_code) {\n",
       "                             nbb_cells[i].set_text(nbb_formatted_code);\n",
       "                        }\n",
       "                        break;\n",
       "                    }\n",
       "                }\n",
       "            }, 500);\n",
       "            "
      ],
      "text/plain": [
       "<IPython.core.display.Javascript object>"
      ]
     },
     "metadata": {},
     "output_type": "display_data"
    }
   ],
   "source": [
    "married = [\n",
    "    \"Married-spouseabsent\",\n",
    "    \"Married-civ-spouse\",\n",
    "    \"Married-AF-spouse\",\n",
    "    \"Married-civilianspousepresent\",\n",
    "    \"Married-AFspousepresent\",\n",
    "]\n",
    "separated = [\"Separated\", \"Divorced\"]\n",
    "\n",
    "# replace elements in list.\n",
    "test_data[\"relationship\"].replace(to_replace=married, value=\"Married\", inplace=True)\n",
    "test_data[\"relationship\"].replace(to_replace=separated, value=\"Separated\", inplace=True)\n",
    "\n",
    "test_data[\"relationship\"].value_counts()"
   ]
  },
  {
   "cell_type": "code",
   "execution_count": 54,
   "metadata": {},
   "outputs": [
    {
     "data": {
      "text/plain": [
       "<matplotlib.axes._subplots.AxesSubplot at 0x254cd5117c8>"
      ]
     },
     "execution_count": 54,
     "metadata": {},
     "output_type": "execute_result"
    },
    {
     "data": {
      "image/png": "[encoded data removed]",
      "text/plain": [
       "<Figure size 1080x360 with 1 Axes>"
      ]
     },
     "metadata": {
      "needs_background": "light"
     },
     "output_type": "display_data"
    },
    {
     "data": {
      "application/javascript": [
       "\n",
       "            setTimeout(function() {\n",
       "                var nbb_cell_id = 54;\n",
       "                var nbb_unformatted_code = \"train_data.relationship.value_counts().plot.bar(figsize=(15, 5), title=\\\"Martial Status\\\")\";\n",
       "                var nbb_formatted_code = \"train_data.relationship.value_counts().plot.bar(figsize=(15, 5), title=\\\"Martial Status\\\")\";\n",
       "                var nbb_cells = Jupyter.notebook.get_cells();\n",
       "                for (var i = 0; i < nbb_cells.length; ++i) {\n",
       "                    if (nbb_cells[i].input_prompt_number == nbb_cell_id) {\n",
       "                        if (nbb_cells[i].get_text() == nbb_unformatted_code) {\n",
       "                             nbb_cells[i].set_text(nbb_formatted_code);\n",
       "                        }\n",
       "                        break;\n",
       "                    }\n",
       "                }\n",
       "            }, 500);\n",
       "            "
      ],
      "text/plain": [
       "<IPython.core.display.Javascript object>"
      ]
     },
     "metadata": {},
     "output_type": "display_data"
    }
   ],
   "source": [
    "train_data.relationship.value_counts().plot.bar(figsize=(15, 5), title=\"Martial Status\")"
   ]
  },
  {
   "cell_type": "code",
   "execution_count": 55,
   "metadata": {},
   "outputs": [
    {
     "data": {
      "image/png": "[encoded data removed]",
      "text/plain": [
       "<Figure size 720x360 with 1 Axes>"
      ]
     },
     "metadata": {
      "needs_background": "light"
     },
     "output_type": "display_data"
    },
    {
     "data": {
      "application/javascript": [
       "\n",
       "            setTimeout(function() {\n",
       "                var nbb_cell_id = 55;\n",
       "                var nbb_unformatted_code = \"# Plot counts for each combination of levels.\\nfig = plt.figure(figsize=(10, 5))\\nsns.countplot(\\\"relationship\\\", hue=\\\"income\\\", data=train_data, palette=\\\"pastel\\\")\\nplt.tight_layout\\nplt.show()\";\n",
       "                var nbb_formatted_code = \"# Plot counts for each combination of levels.\\nfig = plt.figure(figsize=(10, 5))\\nsns.countplot(\\\"relationship\\\", hue=\\\"income\\\", data=train_data, palette=\\\"pastel\\\")\\nplt.tight_layout\\nplt.show()\";\n",
       "                var nbb_cells = Jupyter.notebook.get_cells();\n",
       "                for (var i = 0; i < nbb_cells.length; ++i) {\n",
       "                    if (nbb_cells[i].input_prompt_number == nbb_cell_id) {\n",
       "                        if (nbb_cells[i].get_text() == nbb_unformatted_code) {\n",
       "                             nbb_cells[i].set_text(nbb_formatted_code);\n",
       "                        }\n",
       "                        break;\n",
       "                    }\n",
       "                }\n",
       "            }, 500);\n",
       "            "
      ],
      "text/plain": [
       "<IPython.core.display.Javascript object>"
      ]
     },
     "metadata": {},
     "output_type": "display_data"
    }
   ],
   "source": [
    "# Plot counts for each combination of levels.\n",
    "fig = plt.figure(figsize=(10, 5))\n",
    "sns.countplot(\"relationship\", hue=\"income\", data=train_data, palette=\"pastel\")\n",
    "plt.tight_layout\n",
    "plt.show()"
   ]
  },
  {
   "cell_type": "code",
   "execution_count": 56,
   "metadata": {},
   "outputs": [
    {
     "data": {
      "image/png": "[encoded data removed]",
      "text/plain": [
       "<Figure size 432x288 with 1 Axes>"
      ]
     },
     "metadata": {
      "needs_background": "light"
     },
     "output_type": "display_data"
    },
    {
     "data": {
      "application/javascript": [
       "\n",
       "            setTimeout(function() {\n",
       "                var nbb_cell_id = 56;\n",
       "                var nbb_unformatted_code = \"# Plot counts for each combination of levels.\\nsns.countplot(y=\\\"income\\\", hue=\\\"relationship\\\", data=train_data, palette=\\\"Greens_d\\\")\\nplt.show()\";\n",
       "                var nbb_formatted_code = \"# Plot counts for each combination of levels.\\nsns.countplot(y=\\\"income\\\", hue=\\\"relationship\\\", data=train_data, palette=\\\"Greens_d\\\")\\nplt.show()\";\n",
       "                var nbb_cells = Jupyter.notebook.get_cells();\n",
       "                for (var i = 0; i < nbb_cells.length; ++i) {\n",
       "                    if (nbb_cells[i].input_prompt_number == nbb_cell_id) {\n",
       "                        if (nbb_cells[i].get_text() == nbb_unformatted_code) {\n",
       "                             nbb_cells[i].set_text(nbb_formatted_code);\n",
       "                        }\n",
       "                        break;\n",
       "                    }\n",
       "                }\n",
       "            }, 500);\n",
       "            "
      ],
      "text/plain": [
       "<IPython.core.display.Javascript object>"
      ]
     },
     "metadata": {},
     "output_type": "display_data"
    }
   ],
   "source": [
    "# Plot counts for each combination of levels.\n",
    "sns.countplot(y=\"income\", hue=\"relationship\", data=train_data, palette=\"Greens_d\")\n",
    "plt.show()"
   ]
  },
  {
   "cell_type": "markdown",
   "metadata": {},
   "source": [
    "## Race"
   ]
  },
  {
   "cell_type": "code",
   "execution_count": 57,
   "metadata": {},
   "outputs": [
    {
     "data": {
      "text/plain": [
       "<matplotlib.axes._subplots.AxesSubplot at 0x254cd108e88>"
      ]
     },
     "execution_count": 57,
     "metadata": {},
     "output_type": "execute_result"
    },
    {
     "data": {
      "image/png": "[encoded data removed]",
      "text/plain": [
       "<Figure size 1080x360 with 1 Axes>"
      ]
     },
     "metadata": {
      "needs_background": "light"
     },
     "output_type": "display_data"
    },
    {
     "data": {
      "application/javascript": [
       "\n",
       "            setTimeout(function() {\n",
       "                var nbb_cell_id = 57;\n",
       "                var nbb_unformatted_code = \"train_data.race.value_counts().plot.bar(figsize=(15, 5), title=\\\"Race\\\")\";\n",
       "                var nbb_formatted_code = \"train_data.race.value_counts().plot.bar(figsize=(15, 5), title=\\\"Race\\\")\";\n",
       "                var nbb_cells = Jupyter.notebook.get_cells();\n",
       "                for (var i = 0; i < nbb_cells.length; ++i) {\n",
       "                    if (nbb_cells[i].input_prompt_number == nbb_cell_id) {\n",
       "                        if (nbb_cells[i].get_text() == nbb_unformatted_code) {\n",
       "                             nbb_cells[i].set_text(nbb_formatted_code);\n",
       "                        }\n",
       "                        break;\n",
       "                    }\n",
       "                }\n",
       "            }, 500);\n",
       "            "
      ],
      "text/plain": [
       "<IPython.core.display.Javascript object>"
      ]
     },
     "metadata": {},
     "output_type": "display_data"
    }
   ],
   "source": [
    "train_data.race.value_counts().plot.bar(figsize=(15, 5), title=\"Race\")"
   ]
  },
  {
   "cell_type": "code",
   "execution_count": 58,
   "metadata": {},
   "outputs": [
    {
     "data": {
      "image/png": "[encoded data removed]",
      "text/plain": [
       "<Figure size 720x360 with 1 Axes>"
      ]
     },
     "metadata": {
      "needs_background": "light"
     },
     "output_type": "display_data"
    },
    {
     "data": {
      "application/javascript": [
       "\n",
       "            setTimeout(function() {\n",
       "                var nbb_cell_id = 58;\n",
       "                var nbb_unformatted_code = \"# Plot counts for each combination of levels.\\nfig = plt.figure(figsize=(10, 5))\\nsns.countplot(\\\"race\\\", hue=\\\"income\\\", data=train_data, palette=\\\"pastel\\\")\\nplt.tight_layout\\nplt.show()\";\n",
       "                var nbb_formatted_code = \"# Plot counts for each combination of levels.\\nfig = plt.figure(figsize=(10, 5))\\nsns.countplot(\\\"race\\\", hue=\\\"income\\\", data=train_data, palette=\\\"pastel\\\")\\nplt.tight_layout\\nplt.show()\";\n",
       "                var nbb_cells = Jupyter.notebook.get_cells();\n",
       "                for (var i = 0; i < nbb_cells.length; ++i) {\n",
       "                    if (nbb_cells[i].input_prompt_number == nbb_cell_id) {\n",
       "                        if (nbb_cells[i].get_text() == nbb_unformatted_code) {\n",
       "                             nbb_cells[i].set_text(nbb_formatted_code);\n",
       "                        }\n",
       "                        break;\n",
       "                    }\n",
       "                }\n",
       "            }, 500);\n",
       "            "
      ],
      "text/plain": [
       "<IPython.core.display.Javascript object>"
      ]
     },
     "metadata": {},
     "output_type": "display_data"
    }
   ],
   "source": [
    "# Plot counts for each combination of levels.\n",
    "fig = plt.figure(figsize=(10, 5))\n",
    "sns.countplot(\"race\", hue=\"income\", data=train_data, palette=\"pastel\")\n",
    "plt.tight_layout\n",
    "plt.show()"
   ]
  },
  {
   "cell_type": "code",
   "execution_count": 59,
   "metadata": {},
   "outputs": [
    {
     "data": {
      "image/png": "[encoded data removed]",
      "text/plain": [
       "<Figure size 432x288 with 1 Axes>"
      ]
     },
     "metadata": {
      "needs_background": "light"
     },
     "output_type": "display_data"
    },
    {
     "data": {
      "application/javascript": [
       "\n",
       "            setTimeout(function() {\n",
       "                var nbb_cell_id = 59;\n",
       "                var nbb_unformatted_code = \"# Plot counts for each combination of levels.\\nsns.countplot(y=\\\"income\\\", hue=\\\"race\\\", data=train_data, palette=\\\"Greens_d\\\")\\nplt.show()\";\n",
       "                var nbb_formatted_code = \"# Plot counts for each combination of levels.\\nsns.countplot(y=\\\"income\\\", hue=\\\"race\\\", data=train_data, palette=\\\"Greens_d\\\")\\nplt.show()\";\n",
       "                var nbb_cells = Jupyter.notebook.get_cells();\n",
       "                for (var i = 0; i < nbb_cells.length; ++i) {\n",
       "                    if (nbb_cells[i].input_prompt_number == nbb_cell_id) {\n",
       "                        if (nbb_cells[i].get_text() == nbb_unformatted_code) {\n",
       "                             nbb_cells[i].set_text(nbb_formatted_code);\n",
       "                        }\n",
       "                        break;\n",
       "                    }\n",
       "                }\n",
       "            }, 500);\n",
       "            "
      ],
      "text/plain": [
       "<IPython.core.display.Javascript object>"
      ]
     },
     "metadata": {},
     "output_type": "display_data"
    }
   ],
   "source": [
    "# Plot counts for each combination of levels.\n",
    "sns.countplot(y=\"income\", hue=\"race\", data=train_data, palette=\"Greens_d\")\n",
    "plt.show()"
   ]
  },
  {
   "cell_type": "code",
   "execution_count": 60,
   "metadata": {},
   "outputs": [
    {
     "data": {
      "application/javascript": [
       "\n",
       "            setTimeout(function() {\n",
       "                var nbb_cell_id = 60;\n",
       "                var nbb_unformatted_code = \"# dropping wage columns\\ntrain_data.drop(\\n    [\\\"race\\\"], axis=1, inplace=True,\\n)\\n\\ntest_data.drop(\\n    [\\\"race\\\"], axis=1, inplace=True,\\n)\";\n",
       "                var nbb_formatted_code = \"# dropping wage columns\\ntrain_data.drop(\\n    [\\\"race\\\"], axis=1, inplace=True,\\n)\\n\\ntest_data.drop(\\n    [\\\"race\\\"], axis=1, inplace=True,\\n)\";\n",
       "                var nbb_cells = Jupyter.notebook.get_cells();\n",
       "                for (var i = 0; i < nbb_cells.length; ++i) {\n",
       "                    if (nbb_cells[i].input_prompt_number == nbb_cell_id) {\n",
       "                        if (nbb_cells[i].get_text() == nbb_unformatted_code) {\n",
       "                             nbb_cells[i].set_text(nbb_formatted_code);\n",
       "                        }\n",
       "                        break;\n",
       "                    }\n",
       "                }\n",
       "            }, 500);\n",
       "            "
      ],
      "text/plain": [
       "<IPython.core.display.Javascript object>"
      ]
     },
     "metadata": {},
     "output_type": "display_data"
    }
   ],
   "source": [
    "# dropping wage columns\n",
    "train_data.drop(\n",
    "    [\"race\"], axis=1, inplace=True,\n",
    ")\n",
    "\n",
    "test_data.drop(\n",
    "    [\"race\"], axis=1, inplace=True,\n",
    ")"
   ]
  },
  {
   "cell_type": "markdown",
   "metadata": {},
   "source": [
    "## citzenship"
   ]
  },
  {
   "cell_type": "code",
   "execution_count": 61,
   "metadata": {},
   "outputs": [
    {
     "data": {
      "text/plain": [
       "<matplotlib.axes._subplots.AxesSubplot at 0x254bdb5d808>"
      ]
     },
     "execution_count": 61,
     "metadata": {},
     "output_type": "execute_result"
    },
    {
     "data": {
      "image/png": "[encoded data removed]",
      "text/plain": [
       "<Figure size 1080x360 with 1 Axes>"
      ]
     },
     "metadata": {
      "needs_background": "light"
     },
     "output_type": "display_data"
    },
    {
     "data": {
      "application/javascript": [
       "\n",
       "            setTimeout(function() {\n",
       "                var nbb_cell_id = 61;\n",
       "                var nbb_unformatted_code = \"train_data.citzenship.value_counts().plot.bar(figsize=(15, 5), title=\\\"Citzenship\\\")\";\n",
       "                var nbb_formatted_code = \"train_data.citzenship.value_counts().plot.bar(figsize=(15, 5), title=\\\"Citzenship\\\")\";\n",
       "                var nbb_cells = Jupyter.notebook.get_cells();\n",
       "                for (var i = 0; i < nbb_cells.length; ++i) {\n",
       "                    if (nbb_cells[i].input_prompt_number == nbb_cell_id) {\n",
       "                        if (nbb_cells[i].get_text() == nbb_unformatted_code) {\n",
       "                             nbb_cells[i].set_text(nbb_formatted_code);\n",
       "                        }\n",
       "                        break;\n",
       "                    }\n",
       "                }\n",
       "            }, 500);\n",
       "            "
      ],
      "text/plain": [
       "<IPython.core.display.Javascript object>"
      ]
     },
     "metadata": {},
     "output_type": "display_data"
    }
   ],
   "source": [
    "train_data.citzenship.value_counts().plot.bar(figsize=(15, 5), title=\"Citzenship\")"
   ]
  },
  {
   "cell_type": "code",
   "execution_count": 62,
   "metadata": {},
   "outputs": [
    {
     "data": {
      "image/png": "[encoded data removed]",
      "text/plain": [
       "<Figure size 720x360 with 1 Axes>"
      ]
     },
     "metadata": {
      "needs_background": "light"
     },
     "output_type": "display_data"
    },
    {
     "data": {
      "application/javascript": [
       "\n",
       "            setTimeout(function() {\n",
       "                var nbb_cell_id = 62;\n",
       "                var nbb_unformatted_code = \"# Plot counts for each combination of levels.\\nfig = plt.figure(figsize=(10, 5))\\nsns.countplot(\\\"citzenship\\\", hue=\\\"income\\\", data=train_data, palette=\\\"pastel\\\")\\nplt.tight_layout\\nplt.show()\";\n",
       "                var nbb_formatted_code = \"# Plot counts for each combination of levels.\\nfig = plt.figure(figsize=(10, 5))\\nsns.countplot(\\\"citzenship\\\", hue=\\\"income\\\", data=train_data, palette=\\\"pastel\\\")\\nplt.tight_layout\\nplt.show()\";\n",
       "                var nbb_cells = Jupyter.notebook.get_cells();\n",
       "                for (var i = 0; i < nbb_cells.length; ++i) {\n",
       "                    if (nbb_cells[i].input_prompt_number == nbb_cell_id) {\n",
       "                        if (nbb_cells[i].get_text() == nbb_unformatted_code) {\n",
       "                             nbb_cells[i].set_text(nbb_formatted_code);\n",
       "                        }\n",
       "                        break;\n",
       "                    }\n",
       "                }\n",
       "            }, 500);\n",
       "            "
      ],
      "text/plain": [
       "<IPython.core.display.Javascript object>"
      ]
     },
     "metadata": {},
     "output_type": "display_data"
    }
   ],
   "source": [
    "# Plot counts for each combination of levels.\n",
    "fig = plt.figure(figsize=(10, 5))\n",
    "sns.countplot(\"citzenship\", hue=\"income\", data=train_data, palette=\"pastel\")\n",
    "plt.tight_layout\n",
    "plt.show()"
   ]
  },
  {
   "cell_type": "code",
   "execution_count": 63,
   "metadata": {},
   "outputs": [
    {
     "data": {
      "image/png": "[encoded data removed]",
      "text/plain": [
       "<Figure size 432x288 with 1 Axes>"
      ]
     },
     "metadata": {
      "needs_background": "light"
     },
     "output_type": "display_data"
    },
    {
     "data": {
      "application/javascript": [
       "\n",
       "            setTimeout(function() {\n",
       "                var nbb_cell_id = 63;\n",
       "                var nbb_unformatted_code = \"# Plot counts for each combination of levels.\\nsns.countplot(y=\\\"income\\\", hue=\\\"citzenship\\\", data=train_data, palette=\\\"Greens_d\\\")\\nplt.show()\";\n",
       "                var nbb_formatted_code = \"# Plot counts for each combination of levels.\\nsns.countplot(y=\\\"income\\\", hue=\\\"citzenship\\\", data=train_data, palette=\\\"Greens_d\\\")\\nplt.show()\";\n",
       "                var nbb_cells = Jupyter.notebook.get_cells();\n",
       "                for (var i = 0; i < nbb_cells.length; ++i) {\n",
       "                    if (nbb_cells[i].input_prompt_number == nbb_cell_id) {\n",
       "                        if (nbb_cells[i].get_text() == nbb_unformatted_code) {\n",
       "                             nbb_cells[i].set_text(nbb_formatted_code);\n",
       "                        }\n",
       "                        break;\n",
       "                    }\n",
       "                }\n",
       "            }, 500);\n",
       "            "
      ],
      "text/plain": [
       "<IPython.core.display.Javascript object>"
      ]
     },
     "metadata": {},
     "output_type": "display_data"
    }
   ],
   "source": [
    "# Plot counts for each combination of levels.\n",
    "sns.countplot(y=\"income\", hue=\"citzenship\", data=train_data, palette=\"Greens_d\")\n",
    "plt.show()"
   ]
  },
  {
   "cell_type": "markdown",
   "metadata": {},
   "source": [
    "## SEOTR(Own-biz or self employed)"
   ]
  },
  {
   "cell_type": "code",
   "execution_count": 64,
   "metadata": {},
   "outputs": [
    {
     "data": {
      "text/plain": [
       "<matplotlib.axes._subplots.AxesSubplot at 0x254bd95e208>"
      ]
     },
     "execution_count": 64,
     "metadata": {},
     "output_type": "execute_result"
    },
    {
     "data": {
      "image/png": "[encoded data removed]",
      "text/plain": [
       "<Figure size 1080x360 with 1 Axes>"
      ]
     },
     "metadata": {
      "needs_background": "light"
     },
     "output_type": "display_data"
    },
    {
     "data": {
      "application/javascript": [
       "\n",
       "            setTimeout(function() {\n",
       "                var nbb_cell_id = 64;\n",
       "                var nbb_unformatted_code = \"train_data.SEOTR.value_counts().plot.bar(figsize=(15, 5), title=\\\"Employment type\\\")\";\n",
       "                var nbb_formatted_code = \"train_data.SEOTR.value_counts().plot.bar(figsize=(15, 5), title=\\\"Employment type\\\")\";\n",
       "                var nbb_cells = Jupyter.notebook.get_cells();\n",
       "                for (var i = 0; i < nbb_cells.length; ++i) {\n",
       "                    if (nbb_cells[i].input_prompt_number == nbb_cell_id) {\n",
       "                        if (nbb_cells[i].get_text() == nbb_unformatted_code) {\n",
       "                             nbb_cells[i].set_text(nbb_formatted_code);\n",
       "                        }\n",
       "                        break;\n",
       "                    }\n",
       "                }\n",
       "            }, 500);\n",
       "            "
      ],
      "text/plain": [
       "<IPython.core.display.Javascript object>"
      ]
     },
     "metadata": {},
     "output_type": "display_data"
    }
   ],
   "source": [
    "train_data.SEOTR.value_counts().plot.bar(figsize=(15, 5), title=\"Employment type\")"
   ]
  },
  {
   "cell_type": "code",
   "execution_count": 65,
   "metadata": {},
   "outputs": [
    {
     "data": {
      "image/png": "[encoded data removed]",
      "text/plain": [
       "<Figure size 432x288 with 1 Axes>"
      ]
     },
     "metadata": {
      "needs_background": "light"
     },
     "output_type": "display_data"
    },
    {
     "data": {
      "application/javascript": [
       "\n",
       "            setTimeout(function() {\n",
       "                var nbb_cell_id = 65;\n",
       "                var nbb_unformatted_code = \"# Plot counts for each combination of levels.\\nsns.countplot(y=\\\"income\\\", hue=\\\"SEOTR\\\", data=train_data, palette=\\\"Greens_d\\\")\\nplt.show()\";\n",
       "                var nbb_formatted_code = \"# Plot counts for each combination of levels.\\nsns.countplot(y=\\\"income\\\", hue=\\\"SEOTR\\\", data=train_data, palette=\\\"Greens_d\\\")\\nplt.show()\";\n",
       "                var nbb_cells = Jupyter.notebook.get_cells();\n",
       "                for (var i = 0; i < nbb_cells.length; ++i) {\n",
       "                    if (nbb_cells[i].input_prompt_number == nbb_cell_id) {\n",
       "                        if (nbb_cells[i].get_text() == nbb_unformatted_code) {\n",
       "                             nbb_cells[i].set_text(nbb_formatted_code);\n",
       "                        }\n",
       "                        break;\n",
       "                    }\n",
       "                }\n",
       "            }, 500);\n",
       "            "
      ],
      "text/plain": [
       "<IPython.core.display.Javascript object>"
      ]
     },
     "metadata": {},
     "output_type": "display_data"
    }
   ],
   "source": [
    "# Plot counts for each combination of levels.\n",
    "sns.countplot(y=\"income\", hue=\"SEOTR\", data=train_data, palette=\"Greens_d\")\n",
    "plt.show()"
   ]
  },
  {
   "cell_type": "markdown",
   "metadata": {},
   "source": [
    "## VETYN"
   ]
  },
  {
   "cell_type": "code",
   "execution_count": 66,
   "metadata": {},
   "outputs": [
    {
     "data": {
      "text/plain": [
       "<matplotlib.axes._subplots.AxesSubplot at 0x254bdb86208>"
      ]
     },
     "execution_count": 66,
     "metadata": {},
     "output_type": "execute_result"
    },
    {
     "data": {
      "image/png": "[encoded data removed]",
      "text/plain": [
       "<Figure size 1080x360 with 1 Axes>"
      ]
     },
     "metadata": {
      "needs_background": "light"
     },
     "output_type": "display_data"
    },
    {
     "data": {
      "application/javascript": [
       "\n",
       "            setTimeout(function() {\n",
       "                var nbb_cell_id = 66;\n",
       "                var nbb_unformatted_code = \"train_data.VETYN.value_counts().plot.bar(\\n    figsize=(15, 5), title=\\\"Overspend or not(no_treatment)\\\"\\n)\";\n",
       "                var nbb_formatted_code = \"train_data.VETYN.value_counts().plot.bar(\\n    figsize=(15, 5), title=\\\"Overspend or not(no_treatment)\\\"\\n)\";\n",
       "                var nbb_cells = Jupyter.notebook.get_cells();\n",
       "                for (var i = 0; i < nbb_cells.length; ++i) {\n",
       "                    if (nbb_cells[i].input_prompt_number == nbb_cell_id) {\n",
       "                        if (nbb_cells[i].get_text() == nbb_unformatted_code) {\n",
       "                             nbb_cells[i].set_text(nbb_formatted_code);\n",
       "                        }\n",
       "                        break;\n",
       "                    }\n",
       "                }\n",
       "            }, 500);\n",
       "            "
      ],
      "text/plain": [
       "<IPython.core.display.Javascript object>"
      ]
     },
     "metadata": {},
     "output_type": "display_data"
    }
   ],
   "source": [
    "train_data.VETYN.value_counts().plot.bar(\n",
    "    figsize=(15, 5), title=\"Overspend or not(no_treatment)\"\n",
    ")"
   ]
  },
  {
   "cell_type": "code",
   "execution_count": 67,
   "metadata": {},
   "outputs": [
    {
     "data": {
      "text/plain": [
       "2    150130\n",
       "0     47409\n",
       "1      1984\n",
       "Name: VETYN, dtype: int64"
      ]
     },
     "execution_count": 67,
     "metadata": {},
     "output_type": "execute_result"
    },
    {
     "data": {
      "application/javascript": [
       "\n",
       "            setTimeout(function() {\n",
       "                var nbb_cell_id = 67;\n",
       "                var nbb_unformatted_code = \"train_data[\\\"VETYN\\\"].value_counts()\";\n",
       "                var nbb_formatted_code = \"train_data[\\\"VETYN\\\"].value_counts()\";\n",
       "                var nbb_cells = Jupyter.notebook.get_cells();\n",
       "                for (var i = 0; i < nbb_cells.length; ++i) {\n",
       "                    if (nbb_cells[i].input_prompt_number == nbb_cell_id) {\n",
       "                        if (nbb_cells[i].get_text() == nbb_unformatted_code) {\n",
       "                             nbb_cells[i].set_text(nbb_formatted_code);\n",
       "                        }\n",
       "                        break;\n",
       "                    }\n",
       "                }\n",
       "            }, 500);\n",
       "            "
      ],
      "text/plain": [
       "<IPython.core.display.Javascript object>"
      ]
     },
     "metadata": {},
     "output_type": "display_data"
    }
   ],
   "source": [
    "train_data[\"VETYN\"].value_counts()"
   ]
  },
  {
   "cell_type": "code",
   "execution_count": 68,
   "metadata": {},
   "outputs": [
    {
     "data": {
      "image/png": "[encoded data removed]",
      "text/plain": [
       "<Figure size 432x288 with 1 Axes>"
      ]
     },
     "metadata": {
      "needs_background": "light"
     },
     "output_type": "display_data"
    },
    {
     "data": {
      "application/javascript": [
       "\n",
       "            setTimeout(function() {\n",
       "                var nbb_cell_id = 68;\n",
       "                var nbb_unformatted_code = \"# Plot counts for each combination of levels.\\nsns.countplot(y=\\\"income\\\", hue=\\\"VETYN\\\", data=train_data, palette=\\\"Greens_d\\\")\\nplt.show()\";\n",
       "                var nbb_formatted_code = \"# Plot counts for each combination of levels.\\nsns.countplot(y=\\\"income\\\", hue=\\\"VETYN\\\", data=train_data, palette=\\\"Greens_d\\\")\\nplt.show()\";\n",
       "                var nbb_cells = Jupyter.notebook.get_cells();\n",
       "                for (var i = 0; i < nbb_cells.length; ++i) {\n",
       "                    if (nbb_cells[i].input_prompt_number == nbb_cell_id) {\n",
       "                        if (nbb_cells[i].get_text() == nbb_unformatted_code) {\n",
       "                             nbb_cells[i].set_text(nbb_formatted_code);\n",
       "                        }\n",
       "                        break;\n",
       "                    }\n",
       "                }\n",
       "            }, 500);\n",
       "            "
      ],
      "text/plain": [
       "<IPython.core.display.Javascript object>"
      ]
     },
     "metadata": {},
     "output_type": "display_data"
    }
   ],
   "source": [
    "# Plot counts for each combination of levels.\n",
    "sns.countplot(y=\"income\", hue=\"VETYN\", data=train_data, palette=\"Greens_d\")\n",
    "plt.show()"
   ]
  },
  {
   "cell_type": "markdown",
   "metadata": {},
   "source": [
    "## sex "
   ]
  },
  {
   "cell_type": "code",
   "execution_count": 69,
   "metadata": {},
   "outputs": [
    {
     "data": {
      "text/plain": [
       "<matplotlib.axes._subplots.AxesSubplot at 0x254cd1b6f88>"
      ]
     },
     "execution_count": 69,
     "metadata": {},
     "output_type": "execute_result"
    },
    {
     "data": {
      "image/png": "[encoded data removed]",
      "text/plain": [
       "<Figure size 1080x360 with 1 Axes>"
      ]
     },
     "metadata": {
      "needs_background": "light"
     },
     "output_type": "display_data"
    },
    {
     "data": {
      "application/javascript": [
       "\n",
       "            setTimeout(function() {\n",
       "                var nbb_cell_id = 69;\n",
       "                var nbb_unformatted_code = \"train_data.sex.value_counts().plot.bar(figsize=(15, 5), title=\\\"Sex\\\")\";\n",
       "                var nbb_formatted_code = \"train_data.sex.value_counts().plot.bar(figsize=(15, 5), title=\\\"Sex\\\")\";\n",
       "                var nbb_cells = Jupyter.notebook.get_cells();\n",
       "                for (var i = 0; i < nbb_cells.length; ++i) {\n",
       "                    if (nbb_cells[i].input_prompt_number == nbb_cell_id) {\n",
       "                        if (nbb_cells[i].get_text() == nbb_unformatted_code) {\n",
       "                             nbb_cells[i].set_text(nbb_formatted_code);\n",
       "                        }\n",
       "                        break;\n",
       "                    }\n",
       "                }\n",
       "            }, 500);\n",
       "            "
      ],
      "text/plain": [
       "<IPython.core.display.Javascript object>"
      ]
     },
     "metadata": {},
     "output_type": "display_data"
    }
   ],
   "source": [
    "train_data.sex.value_counts().plot.bar(figsize=(15, 5), title=\"Sex\")"
   ]
  },
  {
   "cell_type": "code",
   "execution_count": 70,
   "metadata": {},
   "outputs": [
    {
     "data": {
      "text/html": [
       "<div>\n",
       "<style scoped>\n",
       "    .dataframe tbody tr th:only-of-type {\n",
       "        vertical-align: middle;\n",
       "    }\n",
       "\n",
       "    .dataframe tbody tr th {\n",
       "        vertical-align: top;\n",
       "    }\n",
       "\n",
       "    .dataframe thead th {\n",
       "        text-align: right;\n",
       "    }\n",
       "</style>\n",
       "<table border=\"1\" class=\"dataframe\">\n",
       "  <thead>\n",
       "    <tr style=\"text-align: right;\">\n",
       "      <th>income</th>\n",
       "      <th>0</th>\n",
       "      <th>1</th>\n",
       "    </tr>\n",
       "    <tr>\n",
       "      <th>sex</th>\n",
       "      <th></th>\n",
       "      <th></th>\n",
       "    </tr>\n",
       "  </thead>\n",
       "  <tbody>\n",
       "    <tr>\n",
       "      <td>Female</td>\n",
       "      <td>101321</td>\n",
       "      <td>2663</td>\n",
       "    </tr>\n",
       "    <tr>\n",
       "      <td>Male</td>\n",
       "      <td>85820</td>\n",
       "      <td>9719</td>\n",
       "    </tr>\n",
       "  </tbody>\n",
       "</table>\n",
       "</div>"
      ],
      "text/plain": [
       "income       0     1\n",
       "sex                 \n",
       "Female  101321  2663\n",
       "Male     85820  9719"
      ]
     },
     "execution_count": 70,
     "metadata": {},
     "output_type": "execute_result"
    },
    {
     "data": {
      "application/javascript": [
       "\n",
       "            setTimeout(function() {\n",
       "                var nbb_cell_id = 70;\n",
       "                var nbb_unformatted_code = \"# Create crosstab of gender by race/ethnicity\\ncount_table = pd.crosstab(train_data[\\\"sex\\\"], train_data[\\\"income\\\"])\\ncount_table\";\n",
       "                var nbb_formatted_code = \"# Create crosstab of gender by race/ethnicity\\ncount_table = pd.crosstab(train_data[\\\"sex\\\"], train_data[\\\"income\\\"])\\ncount_table\";\n",
       "                var nbb_cells = Jupyter.notebook.get_cells();\n",
       "                for (var i = 0; i < nbb_cells.length; ++i) {\n",
       "                    if (nbb_cells[i].input_prompt_number == nbb_cell_id) {\n",
       "                        if (nbb_cells[i].get_text() == nbb_unformatted_code) {\n",
       "                             nbb_cells[i].set_text(nbb_formatted_code);\n",
       "                        }\n",
       "                        break;\n",
       "                    }\n",
       "                }\n",
       "            }, 500);\n",
       "            "
      ],
      "text/plain": [
       "<IPython.core.display.Javascript object>"
      ]
     },
     "metadata": {},
     "output_type": "display_data"
    }
   ],
   "source": [
    "# Create crosstab of gender by race/ethnicity\n",
    "count_table = pd.crosstab(train_data[\"sex\"], train_data[\"income\"])\n",
    "count_table"
   ]
  },
  {
   "cell_type": "code",
   "execution_count": 71,
   "metadata": {},
   "outputs": [
    {
     "data": {
      "image/png": "[encoded data removed]",
      "text/plain": [
       "<Figure size 432x288 with 1 Axes>"
      ]
     },
     "metadata": {
      "needs_background": "light"
     },
     "output_type": "display_data"
    },
    {
     "data": {
      "application/javascript": [
       "\n",
       "            setTimeout(function() {\n",
       "                var nbb_cell_id = 71;\n",
       "                var nbb_unformatted_code = \"# Plot counts for each combination of levels.\\nsns.countplot(y=\\\"income\\\", hue=\\\"sex\\\", data=train_data, palette=\\\"Greens_d\\\")\\nplt.show()\";\n",
       "                var nbb_formatted_code = \"# Plot counts for each combination of levels.\\nsns.countplot(y=\\\"income\\\", hue=\\\"sex\\\", data=train_data, palette=\\\"Greens_d\\\")\\nplt.show()\";\n",
       "                var nbb_cells = Jupyter.notebook.get_cells();\n",
       "                for (var i = 0; i < nbb_cells.length; ++i) {\n",
       "                    if (nbb_cells[i].input_prompt_number == nbb_cell_id) {\n",
       "                        if (nbb_cells[i].get_text() == nbb_unformatted_code) {\n",
       "                             nbb_cells[i].set_text(nbb_formatted_code);\n",
       "                        }\n",
       "                        break;\n",
       "                    }\n",
       "                }\n",
       "            }, 500);\n",
       "            "
      ],
      "text/plain": [
       "<IPython.core.display.Javascript object>"
      ]
     },
     "metadata": {},
     "output_type": "display_data"
    }
   ],
   "source": [
    "# Plot counts for each combination of levels.\n",
    "sns.countplot(y=\"income\", hue=\"sex\", data=train_data, palette=\"Greens_d\")\n",
    "plt.show()"
   ]
  },
  {
   "cell_type": "markdown",
   "metadata": {},
   "source": [
    "## full or part time unemployment status"
   ]
  },
  {
   "cell_type": "code",
   "execution_count": 72,
   "metadata": {},
   "outputs": [
    {
     "data": {
      "text/plain": [
       "<matplotlib.axes._subplots.AxesSubplot at 0x254be63f5c8>"
      ]
     },
     "execution_count": 72,
     "metadata": {},
     "output_type": "execute_result"
    },
    {
     "data": {
      "image/png": "[encoded data removed]",
      "text/plain": [
       "<Figure size 1080x360 with 1 Axes>"
      ]
     },
     "metadata": {
      "needs_background": "light"
     },
     "output_type": "display_data"
    },
    {
     "data": {
      "application/javascript": [
       "\n",
       "            setTimeout(function() {\n",
       "                var nbb_cell_id = 72;\n",
       "                var nbb_unformatted_code = \"train_data.full_or_part_time_unemployment_stat.value_counts().plot.bar(\\n    figsize=(15, 5), title=\\\"Overspend or not(no_treatment)\\\"\\n)\";\n",
       "                var nbb_formatted_code = \"train_data.full_or_part_time_unemployment_stat.value_counts().plot.bar(\\n    figsize=(15, 5), title=\\\"Overspend or not(no_treatment)\\\"\\n)\";\n",
       "                var nbb_cells = Jupyter.notebook.get_cells();\n",
       "                for (var i = 0; i < nbb_cells.length; ++i) {\n",
       "                    if (nbb_cells[i].input_prompt_number == nbb_cell_id) {\n",
       "                        if (nbb_cells[i].get_text() == nbb_unformatted_code) {\n",
       "                             nbb_cells[i].set_text(nbb_formatted_code);\n",
       "                        }\n",
       "                        break;\n",
       "                    }\n",
       "                }\n",
       "            }, 500);\n",
       "            "
      ],
      "text/plain": [
       "<IPython.core.display.Javascript object>"
      ]
     },
     "metadata": {},
     "output_type": "display_data"
    }
   ],
   "source": [
    "train_data.full_or_part_time_unemployment_stat.value_counts().plot.bar(\n",
    "    figsize=(15, 5), title=\"Overspend or not(no_treatment)\"\n",
    ")"
   ]
  },
  {
   "cell_type": "code",
   "execution_count": 73,
   "metadata": {},
   "outputs": [
    {
     "data": {
      "image/png": "[encoded data removed]",
      "text/plain": [
       "<Figure size 432x288 with 1 Axes>"
      ]
     },
     "metadata": {
      "needs_background": "light"
     },
     "output_type": "display_data"
    },
    {
     "data": {
      "application/javascript": [
       "\n",
       "            setTimeout(function() {\n",
       "                var nbb_cell_id = 73;\n",
       "                var nbb_unformatted_code = \"# Plot counts for each combination of levels.\\nsns.countplot(\\n    y=\\\"income\\\",\\n    hue=\\\"full_or_part_time_unemployment_stat\\\",\\n    data=train_data,\\n    palette=\\\"pastel\\\",\\n)\\nplt.show()\";\n",
       "                var nbb_formatted_code = \"# Plot counts for each combination of levels.\\nsns.countplot(\\n    y=\\\"income\\\",\\n    hue=\\\"full_or_part_time_unemployment_stat\\\",\\n    data=train_data,\\n    palette=\\\"pastel\\\",\\n)\\nplt.show()\";\n",
       "                var nbb_cells = Jupyter.notebook.get_cells();\n",
       "                for (var i = 0; i < nbb_cells.length; ++i) {\n",
       "                    if (nbb_cells[i].input_prompt_number == nbb_cell_id) {\n",
       "                        if (nbb_cells[i].get_text() == nbb_unformatted_code) {\n",
       "                             nbb_cells[i].set_text(nbb_formatted_code);\n",
       "                        }\n",
       "                        break;\n",
       "                    }\n",
       "                }\n",
       "            }, 500);\n",
       "            "
      ],
      "text/plain": [
       "<IPython.core.display.Javascript object>"
      ]
     },
     "metadata": {},
     "output_type": "display_data"
    }
   ],
   "source": [
    "# Plot counts for each combination of levels.\n",
    "sns.countplot(\n",
    "    y=\"income\",\n",
    "    hue=\"full_or_part_time_unemployment_stat\",\n",
    "    data=train_data,\n",
    "    palette=\"pastel\",\n",
    ")\n",
    "plt.show()"
   ]
  },
  {
   "cell_type": "code",
   "execution_count": 74,
   "metadata": {},
   "outputs": [
    {
     "data": {
      "application/javascript": [
       "\n",
       "            setTimeout(function() {\n",
       "                var nbb_cell_id = 74;\n",
       "                var nbb_unformatted_code = \"train_data = train_data.drop([\\\"full_or_part_time_unemployment_stat\\\"], axis=1)\\ntest_data = test_data.drop([\\\"full_or_part_time_unemployment_stat\\\"], axis=1)\";\n",
       "                var nbb_formatted_code = \"train_data = train_data.drop([\\\"full_or_part_time_unemployment_stat\\\"], axis=1)\\ntest_data = test_data.drop([\\\"full_or_part_time_unemployment_stat\\\"], axis=1)\";\n",
       "                var nbb_cells = Jupyter.notebook.get_cells();\n",
       "                for (var i = 0; i < nbb_cells.length; ++i) {\n",
       "                    if (nbb_cells[i].input_prompt_number == nbb_cell_id) {\n",
       "                        if (nbb_cells[i].get_text() == nbb_unformatted_code) {\n",
       "                             nbb_cells[i].set_text(nbb_formatted_code);\n",
       "                        }\n",
       "                        break;\n",
       "                    }\n",
       "                }\n",
       "            }, 500);\n",
       "            "
      ],
      "text/plain": [
       "<IPython.core.display.Javascript object>"
      ]
     },
     "metadata": {},
     "output_type": "display_data"
    }
   ],
   "source": [
    "train_data = train_data.drop([\"full_or_part_time_unemployment_stat\"], axis=1)\n",
    "test_data = test_data.drop([\"full_or_part_time_unemployment_stat\"], axis=1)"
   ]
  },
  {
   "cell_type": "markdown",
   "metadata": {},
   "source": [
    "## tax_filer_stat"
   ]
  },
  {
   "cell_type": "code",
   "execution_count": 75,
   "metadata": {},
   "outputs": [
    {
     "data": {
      "text/plain": [
       "<matplotlib.axes._subplots.AxesSubplot at 0x254bd97b648>"
      ]
     },
     "execution_count": 75,
     "metadata": {},
     "output_type": "execute_result"
    },
    {
     "data": {
      "image/png": "[encoded data removed]",
      "text/plain": [
       "<Figure size 1080x360 with 1 Axes>"
      ]
     },
     "metadata": {
      "needs_background": "light"
     },
     "output_type": "display_data"
    },
    {
     "data": {
      "application/javascript": [
       "\n",
       "            setTimeout(function() {\n",
       "                var nbb_cell_id = 75;\n",
       "                var nbb_unformatted_code = \"train_data.tax_filer_stat.value_counts().plot.bar(\\n    figsize=(15, 5), title=\\\"tax_filer_status\\\"\\n)\";\n",
       "                var nbb_formatted_code = \"train_data.tax_filer_stat.value_counts().plot.bar(\\n    figsize=(15, 5), title=\\\"tax_filer_status\\\"\\n)\";\n",
       "                var nbb_cells = Jupyter.notebook.get_cells();\n",
       "                for (var i = 0; i < nbb_cells.length; ++i) {\n",
       "                    if (nbb_cells[i].input_prompt_number == nbb_cell_id) {\n",
       "                        if (nbb_cells[i].get_text() == nbb_unformatted_code) {\n",
       "                             nbb_cells[i].set_text(nbb_formatted_code);\n",
       "                        }\n",
       "                        break;\n",
       "                    }\n",
       "                }\n",
       "            }, 500);\n",
       "            "
      ],
      "text/plain": [
       "<IPython.core.display.Javascript object>"
      ]
     },
     "metadata": {},
     "output_type": "display_data"
    }
   ],
   "source": [
    "train_data.tax_filer_stat.value_counts().plot.bar(\n",
    "    figsize=(15, 5), title=\"tax_filer_status\"\n",
    ")"
   ]
  },
  {
   "cell_type": "code",
   "execution_count": 76,
   "metadata": {},
   "outputs": [
    {
     "data": {
      "image/png": "[encoded data removed]",
      "text/plain": [
       "<Figure size 432x288 with 1 Axes>"
      ]
     },
     "metadata": {
      "needs_background": "light"
     },
     "output_type": "display_data"
    },
    {
     "data": {
      "application/javascript": [
       "\n",
       "            setTimeout(function() {\n",
       "                var nbb_cell_id = 76;\n",
       "                var nbb_unformatted_code = \"# Plot counts for each combination of levels.\\nsns.countplot(\\n    y=\\\"income\\\", hue=\\\"tax_filer_stat\\\", data=train_data, palette=\\\"pastel\\\",\\n)\\nplt.show()\";\n",
       "                var nbb_formatted_code = \"# Plot counts for each combination of levels.\\nsns.countplot(\\n    y=\\\"income\\\", hue=\\\"tax_filer_stat\\\", data=train_data, palette=\\\"pastel\\\",\\n)\\nplt.show()\";\n",
       "                var nbb_cells = Jupyter.notebook.get_cells();\n",
       "                for (var i = 0; i < nbb_cells.length; ++i) {\n",
       "                    if (nbb_cells[i].input_prompt_number == nbb_cell_id) {\n",
       "                        if (nbb_cells[i].get_text() == nbb_unformatted_code) {\n",
       "                             nbb_cells[i].set_text(nbb_formatted_code);\n",
       "                        }\n",
       "                        break;\n",
       "                    }\n",
       "                }\n",
       "            }, 500);\n",
       "            "
      ],
      "text/plain": [
       "<IPython.core.display.Javascript object>"
      ]
     },
     "metadata": {},
     "output_type": "display_data"
    }
   ],
   "source": [
    "# Plot counts for each combination of levels.\n",
    "sns.countplot(\n",
    "    y=\"income\", hue=\"tax_filer_stat\", data=train_data, palette=\"pastel\",\n",
    ")\n",
    "plt.show()"
   ]
  },
  {
   "cell_type": "markdown",
   "metadata": {},
   "source": [
    "## house_1yr"
   ]
  },
  {
   "cell_type": "code",
   "execution_count": 77,
   "metadata": {},
   "outputs": [
    {
     "data": {
      "text/plain": [
       "<matplotlib.axes._subplots.AxesSubplot at 0x254ed9a63c8>"
      ]
     },
     "execution_count": 77,
     "metadata": {},
     "output_type": "execute_result"
    },
    {
     "data": {
      "image/png": "[encoded data removed]",
      "text/plain": [
       "<Figure size 1080x360 with 1 Axes>"
      ]
     },
     "metadata": {
      "needs_background": "light"
     },
     "output_type": "display_data"
    },
    {
     "data": {
      "application/javascript": [
       "\n",
       "            setTimeout(function() {\n",
       "                var nbb_cell_id = 77;\n",
       "                var nbb_unformatted_code = \"train_data.house_1yr.value_counts().plot.bar(\\n    figsize=(15, 5), title=\\\"Overspend or not(no_treatment)\\\"\\n)\";\n",
       "                var nbb_formatted_code = \"train_data.house_1yr.value_counts().plot.bar(\\n    figsize=(15, 5), title=\\\"Overspend or not(no_treatment)\\\"\\n)\";\n",
       "                var nbb_cells = Jupyter.notebook.get_cells();\n",
       "                for (var i = 0; i < nbb_cells.length; ++i) {\n",
       "                    if (nbb_cells[i].input_prompt_number == nbb_cell_id) {\n",
       "                        if (nbb_cells[i].get_text() == nbb_unformatted_code) {\n",
       "                             nbb_cells[i].set_text(nbb_formatted_code);\n",
       "                        }\n",
       "                        break;\n",
       "                    }\n",
       "                }\n",
       "            }, 500);\n",
       "            "
      ],
      "text/plain": [
       "<IPython.core.display.Javascript object>"
      ]
     },
     "metadata": {},
     "output_type": "display_data"
    }
   ],
   "source": [
    "train_data.house_1yr.value_counts().plot.bar(\n",
    "    figsize=(15, 5), title=\"Overspend or not(no_treatment)\"\n",
    ")"
   ]
  },
  {
   "cell_type": "code",
   "execution_count": 78,
   "metadata": {},
   "outputs": [
    {
     "data": {
      "application/javascript": [
       "\n",
       "            setTimeout(function() {\n",
       "                var nbb_cell_id = 78;\n",
       "                var nbb_unformatted_code = \"train_data = train_data.drop([\\\"house_1yr\\\"], axis=1)\";\n",
       "                var nbb_formatted_code = \"train_data = train_data.drop([\\\"house_1yr\\\"], axis=1)\";\n",
       "                var nbb_cells = Jupyter.notebook.get_cells();\n",
       "                for (var i = 0; i < nbb_cells.length; ++i) {\n",
       "                    if (nbb_cells[i].input_prompt_number == nbb_cell_id) {\n",
       "                        if (nbb_cells[i].get_text() == nbb_unformatted_code) {\n",
       "                             nbb_cells[i].set_text(nbb_formatted_code);\n",
       "                        }\n",
       "                        break;\n",
       "                    }\n",
       "                }\n",
       "            }, 500);\n",
       "            "
      ],
      "text/plain": [
       "<IPython.core.display.Javascript object>"
      ]
     },
     "metadata": {},
     "output_type": "display_data"
    }
   ],
   "source": [
    "train_data = train_data.drop([\"house_1yr\"], axis=1)"
   ]
  },
  {
   "cell_type": "code",
   "execution_count": 79,
   "metadata": {},
   "outputs": [
    {
     "data": {
      "application/javascript": [
       "\n",
       "            setTimeout(function() {\n",
       "                var nbb_cell_id = 79;\n",
       "                var nbb_unformatted_code = \"test_data = test_data.drop([\\\"house_1yr\\\"], axis=1)\";\n",
       "                var nbb_formatted_code = \"test_data = test_data.drop([\\\"house_1yr\\\"], axis=1)\";\n",
       "                var nbb_cells = Jupyter.notebook.get_cells();\n",
       "                for (var i = 0; i < nbb_cells.length; ++i) {\n",
       "                    if (nbb_cells[i].input_prompt_number == nbb_cell_id) {\n",
       "                        if (nbb_cells[i].get_text() == nbb_unformatted_code) {\n",
       "                             nbb_cells[i].set_text(nbb_formatted_code);\n",
       "                        }\n",
       "                        break;\n",
       "                    }\n",
       "                }\n",
       "            }, 500);\n",
       "            "
      ],
      "text/plain": [
       "<IPython.core.display.Javascript object>"
      ]
     },
     "metadata": {},
     "output_type": "display_data"
    }
   ],
   "source": [
    "test_data = test_data.drop([\"house_1yr\"], axis=1)"
   ]
  },
  {
   "cell_type": "code",
   "execution_count": 80,
   "metadata": {},
   "outputs": [
    {
     "data": {
      "application/javascript": [
       "\n",
       "            setTimeout(function() {\n",
       "                var nbb_cell_id = 80;\n",
       "                var nbb_unformatted_code = \"train_data = train_data.drop([\\\"detailed_household_summary_in_household\\\"], axis=1)\\ntest_data = test_data.drop([\\\"detailed_household_summary_in_household\\\"], axis=1)\";\n",
       "                var nbb_formatted_code = \"train_data = train_data.drop([\\\"detailed_household_summary_in_household\\\"], axis=1)\\ntest_data = test_data.drop([\\\"detailed_household_summary_in_household\\\"], axis=1)\";\n",
       "                var nbb_cells = Jupyter.notebook.get_cells();\n",
       "                for (var i = 0; i < nbb_cells.length; ++i) {\n",
       "                    if (nbb_cells[i].input_prompt_number == nbb_cell_id) {\n",
       "                        if (nbb_cells[i].get_text() == nbb_unformatted_code) {\n",
       "                             nbb_cells[i].set_text(nbb_formatted_code);\n",
       "                        }\n",
       "                        break;\n",
       "                    }\n",
       "                }\n",
       "            }, 500);\n",
       "            "
      ],
      "text/plain": [
       "<IPython.core.display.Javascript object>"
      ]
     },
     "metadata": {},
     "output_type": "display_data"
    }
   ],
   "source": [
    "train_data = train_data.drop([\"detailed_household_summary_in_household\"], axis=1)\n",
    "test_data = test_data.drop([\"detailed_household_summary_in_household\"], axis=1)"
   ]
  },
  {
   "cell_type": "code",
   "execution_count": 81,
   "metadata": {},
   "outputs": [
    {
     "name": "stdout",
     "output_type": "stream",
     "text": [
      "<class 'pandas.core.frame.DataFrame'>\n",
      "RangeIndex: 199523 entries, 0 to 199522\n",
      "Data columns (total 16 columns):\n",
      "industry           199523 non-null int64\n",
      "occupation         199523 non-null int64\n",
      "education          199523 non-null object\n",
      "relationship       199523 non-null object\n",
      "sex                199523 non-null object\n",
      "tax_filer_stat     199523 non-null object\n",
      "num_employers      199523 non-null int64\n",
      "citzenship         199523 non-null object\n",
      "SEOTR              199523 non-null int64\n",
      "VETYN              199523 non-null int64\n",
      "weeks_worked       199523 non-null int64\n",
      "income             199523 non-null int64\n",
      "age_group          199523 non-null int64\n",
      "dividends_group    199523 non-null int64\n",
      "cap_profit         199523 non-null int64\n",
      "cap_group          199523 non-null int64\n",
      "dtypes: int64(11), object(5)\n",
      "memory usage: 24.4+ MB\n"
     ]
    },
    {
     "data": {
      "application/javascript": [
       "\n",
       "            setTimeout(function() {\n",
       "                var nbb_cell_id = 81;\n",
       "                var nbb_unformatted_code = \"# Columns that were kept\\ntrain_data.info()\";\n",
       "                var nbb_formatted_code = \"# Columns that were kept\\ntrain_data.info()\";\n",
       "                var nbb_cells = Jupyter.notebook.get_cells();\n",
       "                for (var i = 0; i < nbb_cells.length; ++i) {\n",
       "                    if (nbb_cells[i].input_prompt_number == nbb_cell_id) {\n",
       "                        if (nbb_cells[i].get_text() == nbb_unformatted_code) {\n",
       "                             nbb_cells[i].set_text(nbb_formatted_code);\n",
       "                        }\n",
       "                        break;\n",
       "                    }\n",
       "                }\n",
       "            }, 500);\n",
       "            "
      ],
      "text/plain": [
       "<IPython.core.display.Javascript object>"
      ]
     },
     "metadata": {},
     "output_type": "display_data"
    }
   ],
   "source": [
    "# Columns that were kept\n",
    "train_data.info()"
   ]
  },
  {
   "cell_type": "markdown",
   "metadata": {},
   "source": [
    "Summary:Columns kept \n",
    "\n",
    "1. Sex:- Out of total male 30% of them earn salary more than 50K while less than 15% female earn more than 50K. 89% female earn less than 50K\n",
    "2. Race:- White and asain-pac-Islander earn salary more than 50K\n",
    "3. marital_status :- 41% of married people seem to earn salary greater than 50K.\n",
    "4. People having degree doctorate,prof-school,masters are making salary more than 50K.\n",
    "5. Out of all the workclass only 59% self employed people are making salary more than 50K.\n",
    "6. If I check by occupation, Proportion of people making salary less than 50K is higher."
   ]
  },
  {
   "cell_type": "markdown",
   "metadata": {},
   "source": [
    "# Correlation Heatmap"
   ]
  },
  {
   "cell_type": "code",
   "execution_count": 82,
   "metadata": {},
   "outputs": [
    {
     "data": {
      "application/javascript": [
       "\n",
       "            setTimeout(function() {\n",
       "                var nbb_cell_id = 82;\n",
       "                var nbb_unformatted_code = \"corrmat_train = train_data.corr()\";\n",
       "                var nbb_formatted_code = \"corrmat_train = train_data.corr()\";\n",
       "                var nbb_cells = Jupyter.notebook.get_cells();\n",
       "                for (var i = 0; i < nbb_cells.length; ++i) {\n",
       "                    if (nbb_cells[i].input_prompt_number == nbb_cell_id) {\n",
       "                        if (nbb_cells[i].get_text() == nbb_unformatted_code) {\n",
       "                             nbb_cells[i].set_text(nbb_formatted_code);\n",
       "                        }\n",
       "                        break;\n",
       "                    }\n",
       "                }\n",
       "            }, 500);\n",
       "            "
      ],
      "text/plain": [
       "<IPython.core.display.Javascript object>"
      ]
     },
     "metadata": {},
     "output_type": "display_data"
    }
   ],
   "source": [
    "corrmat_train = train_data.corr()"
   ]
  },
  {
   "cell_type": "code",
   "execution_count": 83,
   "metadata": {},
   "outputs": [
    {
     "data": {
      "text/plain": [
       "Text(0.5, 1.0, 'correlation matrix (Income)')"
      ]
     },
     "execution_count": 83,
     "metadata": {},
     "output_type": "execute_result"
    },
    {
     "data": {
      "image/png": "[encoded data removed]",
      "text/plain": [
       "<Figure size 1296x360 with 2 Axes>"
      ]
     },
     "metadata": {
      "needs_background": "light"
     },
     "output_type": "display_data"
    },
    {
     "data": {
      "application/javascript": [
       "\n",
       "            setTimeout(function() {\n",
       "                var nbb_cell_id = 83;\n",
       "                var nbb_unformatted_code = \"\\n\\n# Heat maps are a great way to get \\n# a quick visual read on a big correlation matrix.\\n\\nplt.figure(figsize=(18,5))\\n\\nplt.subplot(1,2,1)\\n# Draw the heat map using seaborn\\nsns.heatmap(corrmat_train, square=True, annot=True, linewidths=.5)\\nplt.title(\\\"correlation matrix (Income)\\\")\";\n",
       "                var nbb_formatted_code = \"# Heat maps are a great way to get\\n# a quick visual read on a big correlation matrix.\\n\\nplt.figure(figsize=(18, 5))\\n\\nplt.subplot(1, 2, 1)\\n# Draw the heat map using seaborn\\nsns.heatmap(corrmat_train, square=True, annot=True, linewidths=0.5)\\nplt.title(\\\"correlation matrix (Income)\\\")\";\n",
       "                var nbb_cells = Jupyter.notebook.get_cells();\n",
       "                for (var i = 0; i < nbb_cells.length; ++i) {\n",
       "                    if (nbb_cells[i].input_prompt_number == nbb_cell_id) {\n",
       "                        if (nbb_cells[i].get_text() == nbb_unformatted_code) {\n",
       "                             nbb_cells[i].set_text(nbb_formatted_code);\n",
       "                        }\n",
       "                        break;\n",
       "                    }\n",
       "                }\n",
       "            }, 500);\n",
       "            "
      ],
      "text/plain": [
       "<IPython.core.display.Javascript object>"
      ]
     },
     "metadata": {},
     "output_type": "display_data"
    }
   ],
   "source": [
    "\n",
    "\n",
    "# Heat maps are a great way to get \n",
    "# a quick visual read on a big correlation matrix.\n",
    "\n",
    "plt.figure(figsize=(18,5))\n",
    "\n",
    "plt.subplot(1,2,1)\n",
    "# Draw the heat map using seaborn\n",
    "sns.heatmap(corrmat_train, square=True, annot=True, linewidths=.5)\n",
    "plt.title(\"correlation matrix (Income)\")\n"
   ]
  },
  {
   "cell_type": "code",
   "execution_count": 84,
   "metadata": {},
   "outputs": [
    {
     "data": {
      "application/javascript": [
       "\n",
       "            setTimeout(function() {\n",
       "                var nbb_cell_id = 84;\n",
       "                var nbb_unformatted_code = \"train_data = train_data.drop([\\\"VETYN\\\", \\\"weeks_worked\\\", \\\"cap_profit\\\"], axis=1)\\ntest_data = test_data.drop([\\\"VETYN\\\", \\\"weeks_worked\\\", \\\"cap_profit\\\"], axis=1)\";\n",
       "                var nbb_formatted_code = \"train_data = train_data.drop([\\\"VETYN\\\", \\\"weeks_worked\\\", \\\"cap_profit\\\"], axis=1)\\ntest_data = test_data.drop([\\\"VETYN\\\", \\\"weeks_worked\\\", \\\"cap_profit\\\"], axis=1)\";\n",
       "                var nbb_cells = Jupyter.notebook.get_cells();\n",
       "                for (var i = 0; i < nbb_cells.length; ++i) {\n",
       "                    if (nbb_cells[i].input_prompt_number == nbb_cell_id) {\n",
       "                        if (nbb_cells[i].get_text() == nbb_unformatted_code) {\n",
       "                             nbb_cells[i].set_text(nbb_formatted_code);\n",
       "                        }\n",
       "                        break;\n",
       "                    }\n",
       "                }\n",
       "            }, 500);\n",
       "            "
      ],
      "text/plain": [
       "<IPython.core.display.Javascript object>"
      ]
     },
     "metadata": {},
     "output_type": "display_data"
    }
   ],
   "source": [
    "train_data = train_data.drop([\"VETYN\", \"weeks_worked\", \"cap_profit\"], axis=1)\n",
    "test_data = test_data.drop([\"VETYN\", \"weeks_worked\", \"cap_profit\"], axis=1)"
   ]
  },
  {
   "cell_type": "code",
   "execution_count": 85,
   "metadata": {},
   "outputs": [
    {
     "data": {
      "text/plain": [
       "Text(0.5, 1.0, 'correlation matrix (Income)')"
      ]
     },
     "execution_count": 85,
     "metadata": {},
     "output_type": "execute_result"
    },
    {
     "data": {
      "image/png": "[encoded data removed]",
      "text/plain": [
       "<Figure size 1296x360 with 2 Axes>"
      ]
     },
     "metadata": {
      "needs_background": "light"
     },
     "output_type": "display_data"
    },
    {
     "data": {
      "application/javascript": [
       "\n",
       "            setTimeout(function() {\n",
       "                var nbb_cell_id = 85;\n",
       "                var nbb_unformatted_code = \"corrmat_train = train_data.corr()\\n\\n# Heat maps are a great way to get \\n# a quick visual read on a big correlation matrix.\\n\\nplt.figure(figsize=(18,5))\\n\\nplt.subplot(1,2,1)\\n# Draw the heat map using seaborn\\nsns.heatmap(corrmat_train, square=True, annot=True, linewidths=.5)\\nplt.title(\\\"correlation matrix (Income)\\\")\";\n",
       "                var nbb_formatted_code = \"corrmat_train = train_data.corr()\\n\\n# Heat maps are a great way to get\\n# a quick visual read on a big correlation matrix.\\n\\nplt.figure(figsize=(18, 5))\\n\\nplt.subplot(1, 2, 1)\\n# Draw the heat map using seaborn\\nsns.heatmap(corrmat_train, square=True, annot=True, linewidths=0.5)\\nplt.title(\\\"correlation matrix (Income)\\\")\";\n",
       "                var nbb_cells = Jupyter.notebook.get_cells();\n",
       "                for (var i = 0; i < nbb_cells.length; ++i) {\n",
       "                    if (nbb_cells[i].input_prompt_number == nbb_cell_id) {\n",
       "                        if (nbb_cells[i].get_text() == nbb_unformatted_code) {\n",
       "                             nbb_cells[i].set_text(nbb_formatted_code);\n",
       "                        }\n",
       "                        break;\n",
       "                    }\n",
       "                }\n",
       "            }, 500);\n",
       "            "
      ],
      "text/plain": [
       "<IPython.core.display.Javascript object>"
      ]
     },
     "metadata": {},
     "output_type": "display_data"
    }
   ],
   "source": [
    "corrmat_train = train_data.corr()\n",
    "\n",
    "# Heat maps are a great way to get \n",
    "# a quick visual read on a big correlation matrix.\n",
    "\n",
    "plt.figure(figsize=(18,5))\n",
    "\n",
    "plt.subplot(1,2,1)\n",
    "# Draw the heat map using seaborn\n",
    "sns.heatmap(corrmat_train, square=True, annot=True, linewidths=.5)\n",
    "plt.title(\"correlation matrix (Income)\")\n"
   ]
  },
  {
   "cell_type": "markdown",
   "metadata": {},
   "source": [
    "# Data for ML Algos "
   ]
  },
  {
   "cell_type": "code",
   "execution_count": 86,
   "metadata": {},
   "outputs": [
    {
     "name": "stdout",
     "output_type": "stream",
     "text": [
      "<class 'pandas.core.frame.DataFrame'>\n",
      "RangeIndex: 199523 entries, 0 to 199522\n",
      "Data columns (total 13 columns):\n",
      "industry           199523 non-null int64\n",
      "occupation         199523 non-null int64\n",
      "education          199523 non-null object\n",
      "relationship       199523 non-null object\n",
      "sex                199523 non-null object\n",
      "tax_filer_stat     199523 non-null object\n",
      "num_employers      199523 non-null int64\n",
      "citzenship         199523 non-null object\n",
      "SEOTR              199523 non-null int64\n",
      "income             199523 non-null int64\n",
      "age_group          199523 non-null int64\n",
      "dividends_group    199523 non-null int64\n",
      "cap_group          199523 non-null int64\n",
      "dtypes: int64(8), object(5)\n",
      "memory usage: 19.8+ MB\n"
     ]
    },
    {
     "data": {
      "application/javascript": [
       "\n",
       "            setTimeout(function() {\n",
       "                var nbb_cell_id = 86;\n",
       "                var nbb_unformatted_code = \"train_data.info()\";\n",
       "                var nbb_formatted_code = \"train_data.info()\";\n",
       "                var nbb_cells = Jupyter.notebook.get_cells();\n",
       "                for (var i = 0; i < nbb_cells.length; ++i) {\n",
       "                    if (nbb_cells[i].input_prompt_number == nbb_cell_id) {\n",
       "                        if (nbb_cells[i].get_text() == nbb_unformatted_code) {\n",
       "                             nbb_cells[i].set_text(nbb_formatted_code);\n",
       "                        }\n",
       "                        break;\n",
       "                    }\n",
       "                }\n",
       "            }, 500);\n",
       "            "
      ],
      "text/plain": [
       "<IPython.core.display.Javascript object>"
      ]
     },
     "metadata": {},
     "output_type": "display_data"
    }
   ],
   "source": [
    "train_data.info()"
   ]
  },
  {
   "cell_type": "code",
   "execution_count": 87,
   "metadata": {},
   "outputs": [
    {
     "name": "stdout",
     "output_type": "stream",
     "text": [
      "(199523, 27)\n",
      "(199523,)\n"
     ]
    },
    {
     "data": {
      "application/javascript": [
       "\n",
       "            setTimeout(function() {\n",
       "                var nbb_cell_id = 87;\n",
       "                var nbb_unformatted_code = \"# Encode character string categorical data into numeric data using one-hot encoding\\ndf_encoded = pd.concat(\\n    [train_data, pd.get_dummies(train_data[\\\"education\\\"], drop_first=True)], axis=1\\n)\\ndf_encoded = pd.concat(\\n    [df_encoded, pd.get_dummies(train_data[\\\"relationship\\\"], drop_first=True)], axis=1\\n)\\ndf_encoded = pd.concat(\\n    [df_encoded, pd.get_dummies(train_data[\\\"sex\\\"], drop_first=True)], axis=1\\n)\\n\\ndf_encoded = pd.concat(\\n    [df_encoded, pd.get_dummies(train_data[\\\"tax_filer_stat\\\"], drop_first=True)], axis=1\\n)\\n\\ndf_encoded = pd.concat(\\n    [df_encoded, pd.get_dummies(train_data[\\\"citzenship\\\"], drop_first=True)], axis=1\\n)\\n\\n# Drop the character columns\\ndf_encoded.drop(\\n    [\\\"education\\\", \\\"relationship\\\", \\\"sex\\\", \\\"tax_filer_stat\\\", \\\"citzenship\\\",],\\n    axis=1,\\n    inplace=True,\\n)\\n\\n\\n# Separate features and target\\nX_train = df_encoded.drop([\\\"income\\\"], axis=1)\\ny_train = df_encoded[\\\"income\\\"]\\n\\nprint(X_train.shape)\\nprint(y_train.shape)\";\n",
       "                var nbb_formatted_code = \"# Encode character string categorical data into numeric data using one-hot encoding\\ndf_encoded = pd.concat(\\n    [train_data, pd.get_dummies(train_data[\\\"education\\\"], drop_first=True)], axis=1\\n)\\ndf_encoded = pd.concat(\\n    [df_encoded, pd.get_dummies(train_data[\\\"relationship\\\"], drop_first=True)], axis=1\\n)\\ndf_encoded = pd.concat(\\n    [df_encoded, pd.get_dummies(train_data[\\\"sex\\\"], drop_first=True)], axis=1\\n)\\n\\ndf_encoded = pd.concat(\\n    [df_encoded, pd.get_dummies(train_data[\\\"tax_filer_stat\\\"], drop_first=True)], axis=1\\n)\\n\\ndf_encoded = pd.concat(\\n    [df_encoded, pd.get_dummies(train_data[\\\"citzenship\\\"], drop_first=True)], axis=1\\n)\\n\\n# Drop the character columns\\ndf_encoded.drop(\\n    [\\\"education\\\", \\\"relationship\\\", \\\"sex\\\", \\\"tax_filer_stat\\\", \\\"citzenship\\\",],\\n    axis=1,\\n    inplace=True,\\n)\\n\\n\\n# Separate features and target\\nX_train = df_encoded.drop([\\\"income\\\"], axis=1)\\ny_train = df_encoded[\\\"income\\\"]\\n\\nprint(X_train.shape)\\nprint(y_train.shape)\";\n",
       "                var nbb_cells = Jupyter.notebook.get_cells();\n",
       "                for (var i = 0; i < nbb_cells.length; ++i) {\n",
       "                    if (nbb_cells[i].input_prompt_number == nbb_cell_id) {\n",
       "                        if (nbb_cells[i].get_text() == nbb_unformatted_code) {\n",
       "                             nbb_cells[i].set_text(nbb_formatted_code);\n",
       "                        }\n",
       "                        break;\n",
       "                    }\n",
       "                }\n",
       "            }, 500);\n",
       "            "
      ],
      "text/plain": [
       "<IPython.core.display.Javascript object>"
      ]
     },
     "metadata": {},
     "output_type": "display_data"
    }
   ],
   "source": [
    "# Encode character string categorical data into numeric data using one-hot encoding\n",
    "df_encoded = pd.concat(\n",
    "    [train_data, pd.get_dummies(train_data[\"education\"], drop_first=True)], axis=1\n",
    ")\n",
    "df_encoded = pd.concat(\n",
    "    [df_encoded, pd.get_dummies(train_data[\"relationship\"], drop_first=True)], axis=1\n",
    ")\n",
    "df_encoded = pd.concat(\n",
    "    [df_encoded, pd.get_dummies(train_data[\"sex\"], drop_first=True)], axis=1\n",
    ")\n",
    "\n",
    "df_encoded = pd.concat(\n",
    "    [df_encoded, pd.get_dummies(train_data[\"tax_filer_stat\"], drop_first=True)], axis=1\n",
    ")\n",
    "\n",
    "df_encoded = pd.concat(\n",
    "    [df_encoded, pd.get_dummies(train_data[\"citzenship\"], drop_first=True)], axis=1\n",
    ")\n",
    "\n",
    "# Drop the character columns\n",
    "df_encoded.drop(\n",
    "    [\"education\", \"relationship\", \"sex\", \"tax_filer_stat\", \"citzenship\",],\n",
    "    axis=1,\n",
    "    inplace=True,\n",
    ")\n",
    "\n",
    "\n",
    "# Separate features and target\n",
    "X_train = df_encoded.drop([\"income\"], axis=1)\n",
    "y_train = df_encoded[\"income\"]\n",
    "\n",
    "print(X_train.shape)\n",
    "print(y_train.shape)"
   ]
  },
  {
   "cell_type": "code",
   "execution_count": 88,
   "metadata": {},
   "outputs": [
    {
     "name": "stdout",
     "output_type": "stream",
     "text": [
      "(99762, 27)\n",
      "(99762,)\n"
     ]
    },
    {
     "data": {
      "application/javascript": [
       "\n",
       "            setTimeout(function() {\n",
       "                var nbb_cell_id = 88;\n",
       "                var nbb_unformatted_code = \"# Encode character string categorical data into numeric data using one-hot encoding\\ndf_encoded_test = pd.concat(\\n    [test_data, pd.get_dummies(test_data[\\\"education\\\"], drop_first=True)], axis=1\\n)\\ndf_encoded_test = pd.concat(\\n    [df_encoded_test, pd.get_dummies(test_data[\\\"relationship\\\"], drop_first=True)],\\n    axis=1,\\n)\\ndf_encoded_test = pd.concat(\\n    [df_encoded_test, pd.get_dummies(test_data[\\\"sex\\\"], drop_first=True)], axis=1\\n)\\n\\ndf_encoded_test = pd.concat(\\n    [df_encoded_test, pd.get_dummies(test_data[\\\"tax_filer_stat\\\"], drop_first=True)],\\n    axis=1,\\n)\\n\\ndf_encoded_test = pd.concat(\\n    [df_encoded_test, pd.get_dummies(test_data[\\\"citzenship\\\"], drop_first=True)], axis=1\\n)\\n\\n# Drop the character columns\\ndf_encoded_test.drop(\\n    [\\\"education\\\", \\\"relationship\\\", \\\"sex\\\", \\\"tax_filer_stat\\\", \\\"citzenship\\\",],\\n    axis=1,\\n    inplace=True,\\n)\\n\\n# Separate features and target\\nX_test = df_encoded_test.drop([\\\"income\\\"], axis=1)\\ny_test = df_encoded_test[\\\"income\\\"]\\n\\nprint(X_test.shape)\\nprint(y_test.shape)\";\n",
       "                var nbb_formatted_code = \"# Encode character string categorical data into numeric data using one-hot encoding\\ndf_encoded_test = pd.concat(\\n    [test_data, pd.get_dummies(test_data[\\\"education\\\"], drop_first=True)], axis=1\\n)\\ndf_encoded_test = pd.concat(\\n    [df_encoded_test, pd.get_dummies(test_data[\\\"relationship\\\"], drop_first=True)],\\n    axis=1,\\n)\\ndf_encoded_test = pd.concat(\\n    [df_encoded_test, pd.get_dummies(test_data[\\\"sex\\\"], drop_first=True)], axis=1\\n)\\n\\ndf_encoded_test = pd.concat(\\n    [df_encoded_test, pd.get_dummies(test_data[\\\"tax_filer_stat\\\"], drop_first=True)],\\n    axis=1,\\n)\\n\\ndf_encoded_test = pd.concat(\\n    [df_encoded_test, pd.get_dummies(test_data[\\\"citzenship\\\"], drop_first=True)], axis=1\\n)\\n\\n# Drop the character columns\\ndf_encoded_test.drop(\\n    [\\\"education\\\", \\\"relationship\\\", \\\"sex\\\", \\\"tax_filer_stat\\\", \\\"citzenship\\\",],\\n    axis=1,\\n    inplace=True,\\n)\\n\\n# Separate features and target\\nX_test = df_encoded_test.drop([\\\"income\\\"], axis=1)\\ny_test = df_encoded_test[\\\"income\\\"]\\n\\nprint(X_test.shape)\\nprint(y_test.shape)\";\n",
       "                var nbb_cells = Jupyter.notebook.get_cells();\n",
       "                for (var i = 0; i < nbb_cells.length; ++i) {\n",
       "                    if (nbb_cells[i].input_prompt_number == nbb_cell_id) {\n",
       "                        if (nbb_cells[i].get_text() == nbb_unformatted_code) {\n",
       "                             nbb_cells[i].set_text(nbb_formatted_code);\n",
       "                        }\n",
       "                        break;\n",
       "                    }\n",
       "                }\n",
       "            }, 500);\n",
       "            "
      ],
      "text/plain": [
       "<IPython.core.display.Javascript object>"
      ]
     },
     "metadata": {},
     "output_type": "display_data"
    }
   ],
   "source": [
    "# Encode character string categorical data into numeric data using one-hot encoding\n",
    "df_encoded_test = pd.concat(\n",
    "    [test_data, pd.get_dummies(test_data[\"education\"], drop_first=True)], axis=1\n",
    ")\n",
    "df_encoded_test = pd.concat(\n",
    "    [df_encoded_test, pd.get_dummies(test_data[\"relationship\"], drop_first=True)],\n",
    "    axis=1,\n",
    ")\n",
    "df_encoded_test = pd.concat(\n",
    "    [df_encoded_test, pd.get_dummies(test_data[\"sex\"], drop_first=True)], axis=1\n",
    ")\n",
    "\n",
    "df_encoded_test = pd.concat(\n",
    "    [df_encoded_test, pd.get_dummies(test_data[\"tax_filer_stat\"], drop_first=True)],\n",
    "    axis=1,\n",
    ")\n",
    "\n",
    "df_encoded_test = pd.concat(\n",
    "    [df_encoded_test, pd.get_dummies(test_data[\"citzenship\"], drop_first=True)], axis=1\n",
    ")\n",
    "\n",
    "# Drop the character columns\n",
    "df_encoded_test.drop(\n",
    "    [\"education\", \"relationship\", \"sex\", \"tax_filer_stat\", \"citzenship\",],\n",
    "    axis=1,\n",
    "    inplace=True,\n",
    ")\n",
    "\n",
    "# Separate features and target\n",
    "X_test = df_encoded_test.drop([\"income\"], axis=1)\n",
    "y_test = df_encoded_test[\"income\"]\n",
    "\n",
    "print(X_test.shape)\n",
    "print(y_test.shape)"
   ]
  },
  {
   "cell_type": "code",
   "execution_count": 89,
   "metadata": {},
   "outputs": [
    {
     "name": "stdout",
     "output_type": "stream",
     "text": [
      "<class 'pandas.core.frame.DataFrame'>\n",
      "RangeIndex: 99762 entries, 0 to 99761\n",
      "Data columns (total 27 columns):\n",
      "industry                                 99762 non-null int64\n",
      "occupation                               99762 non-null int64\n",
      "num_employers                            99762 non-null int64\n",
      "SEOTR                                    99762 non-null int64\n",
      "age_group                                99762 non-null int64\n",
      "dividends_group                          99762 non-null int64\n",
      "cap_group                                99762 non-null int64\n",
      "Highschoolgraduate                       99762 non-null uint8\n",
      "Somecollegebutnodegree                   99762 non-null uint8\n",
      "associates                               99762 non-null uint8\n",
      "bachdegree                               99762 non-null uint8\n",
      "elementary_school                        99762 non-null uint8\n",
      "postgrad                                 99762 non-null uint8\n",
      "some_hs                                  99762 non-null uint8\n",
      "Nevermarried                             99762 non-null uint8\n",
      "Separated                                99762 non-null uint8\n",
      "Widowed                                  99762 non-null uint8\n",
      "Male                                     99762 non-null uint8\n",
      "Jointboth65+                             99762 non-null uint8\n",
      "Jointbothunder65                         99762 non-null uint8\n",
      "Jointoneunder65&one65+                   99762 non-null uint8\n",
      "Nonfiler                                 99762 non-null uint8\n",
      "Single                                   99762 non-null uint8\n",
      "Foreignborn-UScitizenbynaturalization    99762 non-null uint8\n",
      "Native-BornabroadofAmericanParent(s)     99762 non-null uint8\n",
      "Native-BorninPuertoRicoorUSOutlying      99762 non-null uint8\n",
      "Native-BornintheUnitedStates             99762 non-null uint8\n",
      "dtypes: int64(7), uint8(20)\n",
      "memory usage: 7.2 MB\n"
     ]
    },
    {
     "data": {
      "application/javascript": [
       "\n",
       "            setTimeout(function() {\n",
       "                var nbb_cell_id = 89;\n",
       "                var nbb_unformatted_code = \"X_test.info()\";\n",
       "                var nbb_formatted_code = \"X_test.info()\";\n",
       "                var nbb_cells = Jupyter.notebook.get_cells();\n",
       "                for (var i = 0; i < nbb_cells.length; ++i) {\n",
       "                    if (nbb_cells[i].input_prompt_number == nbb_cell_id) {\n",
       "                        if (nbb_cells[i].get_text() == nbb_unformatted_code) {\n",
       "                             nbb_cells[i].set_text(nbb_formatted_code);\n",
       "                        }\n",
       "                        break;\n",
       "                    }\n",
       "                }\n",
       "            }, 500);\n",
       "            "
      ],
      "text/plain": [
       "<IPython.core.display.Javascript object>"
      ]
     },
     "metadata": {},
     "output_type": "display_data"
    }
   ],
   "source": [
    "X_test.info()"
   ]
  },
  {
   "cell_type": "code",
   "execution_count": 90,
   "metadata": {},
   "outputs": [
    {
     "data": {
      "application/javascript": [
       "\n",
       "            setTimeout(function() {\n",
       "                var nbb_cell_id = 90;\n",
       "                var nbb_unformatted_code = \"from sklearn.preprocessing import StandardScaler\\n\\nscaler = StandardScaler()\\n\\nX_train = pd.DataFrame(scaler.fit_transform(X_train), columns=X_train.columns)\\n\\nX_test = pd.DataFrame(scaler.transform(X_test), columns=X_test.columns)\";\n",
       "                var nbb_formatted_code = \"from sklearn.preprocessing import StandardScaler\\n\\nscaler = StandardScaler()\\n\\nX_train = pd.DataFrame(scaler.fit_transform(X_train), columns=X_train.columns)\\n\\nX_test = pd.DataFrame(scaler.transform(X_test), columns=X_test.columns)\";\n",
       "                var nbb_cells = Jupyter.notebook.get_cells();\n",
       "                for (var i = 0; i < nbb_cells.length; ++i) {\n",
       "                    if (nbb_cells[i].input_prompt_number == nbb_cell_id) {\n",
       "                        if (nbb_cells[i].get_text() == nbb_unformatted_code) {\n",
       "                             nbb_cells[i].set_text(nbb_formatted_code);\n",
       "                        }\n",
       "                        break;\n",
       "                    }\n",
       "                }\n",
       "            }, 500);\n",
       "            "
      ],
      "text/plain": [
       "<IPython.core.display.Javascript object>"
      ]
     },
     "metadata": {},
     "output_type": "display_data"
    }
   ],
   "source": [
    "from sklearn.preprocessing import StandardScaler\n",
    "\n",
    "scaler = StandardScaler()\n",
    "\n",
    "X_train = pd.DataFrame(scaler.fit_transform(X_train), columns=X_train.columns)\n",
    "\n",
    "X_test = pd.DataFrame(scaler.transform(X_test), columns=X_test.columns)"
   ]
  },
  {
   "cell_type": "code",
   "execution_count": 91,
   "metadata": {},
   "outputs": [
    {
     "data": {
      "text/html": [
       "<div>\n",
       "<style scoped>\n",
       "    .dataframe tbody tr th:only-of-type {\n",
       "        vertical-align: middle;\n",
       "    }\n",
       "\n",
       "    .dataframe tbody tr th {\n",
       "        vertical-align: top;\n",
       "    }\n",
       "\n",
       "    .dataframe thead th {\n",
       "        text-align: right;\n",
       "    }\n",
       "</style>\n",
       "<table border=\"1\" class=\"dataframe\">\n",
       "  <thead>\n",
       "    <tr style=\"text-align: right;\">\n",
       "      <th></th>\n",
       "      <th>industry</th>\n",
       "      <th>occupation</th>\n",
       "      <th>num_employers</th>\n",
       "      <th>SEOTR</th>\n",
       "      <th>age_group</th>\n",
       "      <th>dividends_group</th>\n",
       "      <th>cap_group</th>\n",
       "      <th>Highschoolgraduate</th>\n",
       "      <th>Somecollegebutnodegree</th>\n",
       "      <th>associates</th>\n",
       "      <th>bachdegree</th>\n",
       "      <th>elementary_school</th>\n",
       "      <th>postgrad</th>\n",
       "      <th>some_hs</th>\n",
       "      <th>Nevermarried</th>\n",
       "      <th>Separated</th>\n",
       "      <th>Widowed</th>\n",
       "      <th>Male</th>\n",
       "      <th>Jointboth65+</th>\n",
       "      <th>Jointbothunder65</th>\n",
       "      <th>Jointoneunder65&amp;one65+</th>\n",
       "      <th>Nonfiler</th>\n",
       "      <th>Single</th>\n",
       "      <th>Foreignborn-UScitizenbynaturalization</th>\n",
       "      <th>Native-BornabroadofAmericanParent(s)</th>\n",
       "      <th>Native-BorninPuertoRicoorUSOutlying</th>\n",
       "      <th>Native-BornintheUnitedStates</th>\n",
       "    </tr>\n",
       "  </thead>\n",
       "  <tbody>\n",
       "    <tr>\n",
       "      <td>0</td>\n",
       "      <td>-0.849740</td>\n",
       "      <td>-0.782235</td>\n",
       "      <td>-0.827096</td>\n",
       "      <td>-0.316851</td>\n",
       "      <td>1.730616</td>\n",
       "      <td>-0.344261</td>\n",
       "      <td>-0.073388</td>\n",
       "      <td>1.766856</td>\n",
       "      <td>-0.402522</td>\n",
       "      <td>-0.226311</td>\n",
       "      <td>-0.332522</td>\n",
       "      <td>-0.273669</td>\n",
       "      <td>-0.224789</td>\n",
       "      <td>-0.359089</td>\n",
       "      <td>-0.874698</td>\n",
       "      <td>-0.296969</td>\n",
       "      <td>4.250810</td>\n",
       "      <td>-0.958533</td>\n",
       "      <td>-0.208757</td>\n",
       "      <td>-0.714098</td>\n",
       "      <td>-0.140585</td>\n",
       "      <td>1.287236</td>\n",
       "      <td>-0.480467</td>\n",
       "      <td>-0.173874</td>\n",
       "      <td>-0.094229</td>\n",
       "      <td>-0.087587</td>\n",
       "      <td>0.356791</td>\n",
       "    </tr>\n",
       "    <tr>\n",
       "      <td>1</td>\n",
       "      <td>-0.628343</td>\n",
       "      <td>1.570028</td>\n",
       "      <td>-0.404284</td>\n",
       "      <td>-0.316851</td>\n",
       "      <td>0.729341</td>\n",
       "      <td>-0.344261</td>\n",
       "      <td>-0.073388</td>\n",
       "      <td>-0.565977</td>\n",
       "      <td>2.484336</td>\n",
       "      <td>-0.226311</td>\n",
       "      <td>-0.332522</td>\n",
       "      <td>-0.273669</td>\n",
       "      <td>-0.224789</td>\n",
       "      <td>-0.359089</td>\n",
       "      <td>-0.874698</td>\n",
       "      <td>3.367356</td>\n",
       "      <td>-0.235249</td>\n",
       "      <td>1.043261</td>\n",
       "      <td>-0.208757</td>\n",
       "      <td>-0.714098</td>\n",
       "      <td>-0.140585</td>\n",
       "      <td>-0.776858</td>\n",
       "      <td>-0.480467</td>\n",
       "      <td>-0.173874</td>\n",
       "      <td>-0.094229</td>\n",
       "      <td>-0.087587</td>\n",
       "      <td>0.356791</td>\n",
       "    </tr>\n",
       "    <tr>\n",
       "      <td>2</td>\n",
       "      <td>-0.849740</td>\n",
       "      <td>-0.782235</td>\n",
       "      <td>-0.827096</td>\n",
       "      <td>-0.316851</td>\n",
       "      <td>-1.273209</td>\n",
       "      <td>-0.344261</td>\n",
       "      <td>-0.073388</td>\n",
       "      <td>-0.565977</td>\n",
       "      <td>-0.402522</td>\n",
       "      <td>-0.226311</td>\n",
       "      <td>-0.332522</td>\n",
       "      <td>-0.273669</td>\n",
       "      <td>-0.224789</td>\n",
       "      <td>2.784822</td>\n",
       "      <td>1.143252</td>\n",
       "      <td>-0.296969</td>\n",
       "      <td>-0.235249</td>\n",
       "      <td>-0.958533</td>\n",
       "      <td>-0.208757</td>\n",
       "      <td>-0.714098</td>\n",
       "      <td>-0.140585</td>\n",
       "      <td>1.287236</td>\n",
       "      <td>-0.480467</td>\n",
       "      <td>-0.173874</td>\n",
       "      <td>-0.094229</td>\n",
       "      <td>-0.087587</td>\n",
       "      <td>-2.802764</td>\n",
       "    </tr>\n",
       "    <tr>\n",
       "      <td>3</td>\n",
       "      <td>-0.849740</td>\n",
       "      <td>-0.782235</td>\n",
       "      <td>-0.827096</td>\n",
       "      <td>-0.316851</td>\n",
       "      <td>-1.273209</td>\n",
       "      <td>-0.344261</td>\n",
       "      <td>-0.073388</td>\n",
       "      <td>-0.565977</td>\n",
       "      <td>-0.402522</td>\n",
       "      <td>-0.226311</td>\n",
       "      <td>-0.332522</td>\n",
       "      <td>-0.273669</td>\n",
       "      <td>-0.224789</td>\n",
       "      <td>-0.359089</td>\n",
       "      <td>1.143252</td>\n",
       "      <td>-0.296969</td>\n",
       "      <td>-0.235249</td>\n",
       "      <td>-0.958533</td>\n",
       "      <td>-0.208757</td>\n",
       "      <td>-0.714098</td>\n",
       "      <td>-0.140585</td>\n",
       "      <td>1.287236</td>\n",
       "      <td>-0.480467</td>\n",
       "      <td>-0.173874</td>\n",
       "      <td>-0.094229</td>\n",
       "      <td>-0.087587</td>\n",
       "      <td>0.356791</td>\n",
       "    </tr>\n",
       "    <tr>\n",
       "      <td>4</td>\n",
       "      <td>-0.849740</td>\n",
       "      <td>-0.782235</td>\n",
       "      <td>-0.827096</td>\n",
       "      <td>-0.316851</td>\n",
       "      <td>-1.273209</td>\n",
       "      <td>-0.344261</td>\n",
       "      <td>-0.073388</td>\n",
       "      <td>-0.565977</td>\n",
       "      <td>-0.402522</td>\n",
       "      <td>-0.226311</td>\n",
       "      <td>-0.332522</td>\n",
       "      <td>-0.273669</td>\n",
       "      <td>-0.224789</td>\n",
       "      <td>-0.359089</td>\n",
       "      <td>1.143252</td>\n",
       "      <td>-0.296969</td>\n",
       "      <td>-0.235249</td>\n",
       "      <td>-0.958533</td>\n",
       "      <td>-0.208757</td>\n",
       "      <td>-0.714098</td>\n",
       "      <td>-0.140585</td>\n",
       "      <td>1.287236</td>\n",
       "      <td>-0.480467</td>\n",
       "      <td>-0.173874</td>\n",
       "      <td>-0.094229</td>\n",
       "      <td>-0.087587</td>\n",
       "      <td>0.356791</td>\n",
       "    </tr>\n",
       "  </tbody>\n",
       "</table>\n",
       "</div>"
      ],
      "text/plain": [
       "   industry  occupation  num_employers     SEOTR  age_group  dividends_group  cap_group  Highschoolgraduate  Somecollegebutnodegree  associates  bachdegree  elementary_school  postgrad   some_hs  Nevermarried  Separated   Widowed      Male  Jointboth65+  Jointbothunder65  Jointoneunder65&one65+  Nonfiler    Single  Foreignborn-UScitizenbynaturalization  Native-BornabroadofAmericanParent(s)  Native-BorninPuertoRicoorUSOutlying  Native-BornintheUnitedStates\n",
       "0 -0.849740   -0.782235      -0.827096 -0.316851   1.730616        -0.344261  -0.073388            1.766856               -0.402522   -0.226311   -0.332522          -0.273669 -0.224789 -0.359089     -0.874698  -0.296969  4.250810 -0.958533     -0.208757         -0.714098               -0.140585  1.287236 -0.480467                              -0.173874                             -0.094229                            -0.087587                      0.356791\n",
       "1 -0.628343    1.570028      -0.404284 -0.316851   0.729341        -0.344261  -0.073388           -0.565977                2.484336   -0.226311   -0.332522          -0.273669 -0.224789 -0.359089     -0.874698   3.367356 -0.235249  1.043261     -0.208757         -0.714098               -0.140585 -0.776858 -0.480467                              -0.173874                             -0.094229                            -0.087587                      0.356791\n",
       "2 -0.849740   -0.782235      -0.827096 -0.316851  -1.273209        -0.344261  -0.073388           -0.565977               -0.402522   -0.226311   -0.332522          -0.273669 -0.224789  2.784822      1.143252  -0.296969 -0.235249 -0.958533     -0.208757         -0.714098               -0.140585  1.287236 -0.480467                              -0.173874                             -0.094229                            -0.087587                     -2.802764\n",
       "3 -0.849740   -0.782235      -0.827096 -0.316851  -1.273209        -0.344261  -0.073388           -0.565977               -0.402522   -0.226311   -0.332522          -0.273669 -0.224789 -0.359089      1.143252  -0.296969 -0.235249 -0.958533     -0.208757         -0.714098               -0.140585  1.287236 -0.480467                              -0.173874                             -0.094229                            -0.087587                      0.356791\n",
       "4 -0.849740   -0.782235      -0.827096 -0.316851  -1.273209        -0.344261  -0.073388           -0.565977               -0.402522   -0.226311   -0.332522          -0.273669 -0.224789 -0.359089      1.143252  -0.296969 -0.235249 -0.958533     -0.208757         -0.714098               -0.140585  1.287236 -0.480467                              -0.173874                             -0.094229                            -0.087587                      0.356791"
      ]
     },
     "execution_count": 91,
     "metadata": {},
     "output_type": "execute_result"
    },
    {
     "data": {
      "application/javascript": [
       "\n",
       "            setTimeout(function() {\n",
       "                var nbb_cell_id = 91;\n",
       "                var nbb_unformatted_code = \"X_train.head()\";\n",
       "                var nbb_formatted_code = \"X_train.head()\";\n",
       "                var nbb_cells = Jupyter.notebook.get_cells();\n",
       "                for (var i = 0; i < nbb_cells.length; ++i) {\n",
       "                    if (nbb_cells[i].input_prompt_number == nbb_cell_id) {\n",
       "                        if (nbb_cells[i].get_text() == nbb_unformatted_code) {\n",
       "                             nbb_cells[i].set_text(nbb_formatted_code);\n",
       "                        }\n",
       "                        break;\n",
       "                    }\n",
       "                }\n",
       "            }, 500);\n",
       "            "
      ],
      "text/plain": [
       "<IPython.core.display.Javascript object>"
      ]
     },
     "metadata": {},
     "output_type": "display_data"
    }
   ],
   "source": [
    "X_train.head()\n"
   ]
  },
  {
   "cell_type": "markdown",
   "metadata": {},
   "source": [
    "# Train and Fine Tuning on the model "
   ]
  },
  {
   "cell_type": "code",
   "execution_count": 99,
   "metadata": {},
   "outputs": [
    {
     "data": {
      "application/javascript": [
       "\n",
       "            setTimeout(function() {\n",
       "                var nbb_cell_id = 99;\n",
       "                var nbb_unformatted_code = \"from sklearn.svm import LinearSVC\\nfrom sklearn.neighbors import KNeighborsClassifier\\nfrom sklearn.tree import DecisionTreeClassifier\\nfrom sklearn.linear_model import LogisticRegression\\nfrom sklearn.ensemble import RandomForestClassifier\\nfrom sklearn.naive_bayes import GaussianNB\";\n",
       "                var nbb_formatted_code = \"from sklearn.svm import LinearSVC\\nfrom sklearn.neighbors import KNeighborsClassifier\\nfrom sklearn.tree import DecisionTreeClassifier\\nfrom sklearn.linear_model import LogisticRegression\\nfrom sklearn.ensemble import RandomForestClassifier\\nfrom sklearn.naive_bayes import GaussianNB\";\n",
       "                var nbb_cells = Jupyter.notebook.get_cells();\n",
       "                for (var i = 0; i < nbb_cells.length; ++i) {\n",
       "                    if (nbb_cells[i].input_prompt_number == nbb_cell_id) {\n",
       "                        if (nbb_cells[i].get_text() == nbb_unformatted_code) {\n",
       "                             nbb_cells[i].set_text(nbb_formatted_code);\n",
       "                        }\n",
       "                        break;\n",
       "                    }\n",
       "                }\n",
       "            }, 500);\n",
       "            "
      ],
      "text/plain": [
       "<IPython.core.display.Javascript object>"
      ]
     },
     "metadata": {},
     "output_type": "display_data"
    }
   ],
   "source": [
    "from sklearn.svm import LinearSVC\n",
    "from sklearn.neighbors import KNeighborsClassifier\n",
    "from sklearn.tree import DecisionTreeClassifier\n",
    "from sklearn.linear_model import LogisticRegression\n",
    "from sklearn.ensemble import RandomForestClassifier\n",
    "from sklearn.naive_bayes import GaussianNB"
   ]
  },
  {
   "cell_type": "markdown",
   "metadata": {},
   "source": [
    "## Support_vector_machine"
   ]
  },
  {
   "cell_type": "code",
   "execution_count": 93,
   "metadata": {},
   "outputs": [
    {
     "data": {
      "application/javascript": [
       "\n",
       "            setTimeout(function() {\n",
       "                var nbb_cell_id = 93;\n",
       "                var nbb_unformatted_code = \"svm = LinearSVC(max_iter=10000)\\nsvm.fit(X_train, y_train)\\n\\nY_pred = svm.predict(X_test)\";\n",
       "                var nbb_formatted_code = \"svm = LinearSVC(max_iter=10000)\\nsvm.fit(X_train, y_train)\\n\\nY_pred = svm.predict(X_test)\";\n",
       "                var nbb_cells = Jupyter.notebook.get_cells();\n",
       "                for (var i = 0; i < nbb_cells.length; ++i) {\n",
       "                    if (nbb_cells[i].input_prompt_number == nbb_cell_id) {\n",
       "                        if (nbb_cells[i].get_text() == nbb_unformatted_code) {\n",
       "                             nbb_cells[i].set_text(nbb_formatted_code);\n",
       "                        }\n",
       "                        break;\n",
       "                    }\n",
       "                }\n",
       "            }, 500);\n",
       "            "
      ],
      "text/plain": [
       "<IPython.core.display.Javascript object>"
      ]
     },
     "metadata": {},
     "output_type": "display_data"
    }
   ],
   "source": [
    "svm = LinearSVC(max_iter=10000)\n",
    "svm.fit(X_train, y_train)\n",
    "\n",
    "Y_pred = svm.predict(X_test)"
   ]
  },
  {
   "cell_type": "code",
   "execution_count": 94,
   "metadata": {},
   "outputs": [
    {
     "data": {
      "application/javascript": [
       "\n",
       "            setTimeout(function() {\n",
       "                var nbb_cell_id = 94;\n",
       "                var nbb_unformatted_code = \"acc_linear_svc = round(svm.score(X_train, y_train) * 100, 2)\";\n",
       "                var nbb_formatted_code = \"acc_linear_svc = round(svm.score(X_train, y_train) * 100, 2)\";\n",
       "                var nbb_cells = Jupyter.notebook.get_cells();\n",
       "                for (var i = 0; i < nbb_cells.length; ++i) {\n",
       "                    if (nbb_cells[i].input_prompt_number == nbb_cell_id) {\n",
       "                        if (nbb_cells[i].get_text() == nbb_unformatted_code) {\n",
       "                             nbb_cells[i].set_text(nbb_formatted_code);\n",
       "                        }\n",
       "                        break;\n",
       "                    }\n",
       "                }\n",
       "            }, 500);\n",
       "            "
      ],
      "text/plain": [
       "<IPython.core.display.Javascript object>"
      ]
     },
     "metadata": {},
     "output_type": "display_data"
    }
   ],
   "source": [
    "acc_linear_svc = round(svm.score(X_train, y_train) * 100, 2)"
   ]
  },
  {
   "cell_type": "markdown",
   "metadata": {},
   "source": [
    "## Random Forest"
   ]
  },
  {
   "cell_type": "code",
   "execution_count": 95,
   "metadata": {},
   "outputs": [
    {
     "data": {
      "application/javascript": [
       "\n",
       "            setTimeout(function() {\n",
       "                var nbb_cell_id = 95;\n",
       "                var nbb_unformatted_code = \"# Applying the random forest algorithm\\n\\nrandom_forest = RandomForestClassifier(n_estimators=100, random_state=20)\\nrandom_forest.fit(X_train, y_train)\\n\\nY_pred = random_forest.predict(X_test)\\n\\nrandom_forest.score(X_train, y_train)\\nacc_random_forest = round(random_forest.score(X_train, y_train) * 100, 2)\";\n",
       "                var nbb_formatted_code = \"# Applying the random forest algorithm\\n\\nrandom_forest = RandomForestClassifier(n_estimators=100, random_state=20)\\nrandom_forest.fit(X_train, y_train)\\n\\nY_pred = random_forest.predict(X_test)\\n\\nrandom_forest.score(X_train, y_train)\\nacc_random_forest = round(random_forest.score(X_train, y_train) * 100, 2)\";\n",
       "                var nbb_cells = Jupyter.notebook.get_cells();\n",
       "                for (var i = 0; i < nbb_cells.length; ++i) {\n",
       "                    if (nbb_cells[i].input_prompt_number == nbb_cell_id) {\n",
       "                        if (nbb_cells[i].get_text() == nbb_unformatted_code) {\n",
       "                             nbb_cells[i].set_text(nbb_formatted_code);\n",
       "                        }\n",
       "                        break;\n",
       "                    }\n",
       "                }\n",
       "            }, 500);\n",
       "            "
      ],
      "text/plain": [
       "<IPython.core.display.Javascript object>"
      ]
     },
     "metadata": {},
     "output_type": "display_data"
    }
   ],
   "source": [
    "# Applying the random forest algorithm\n",
    "\n",
    "random_forest = RandomForestClassifier(n_estimators=100, random_state=20)\n",
    "random_forest.fit(X_train, y_train)\n",
    "\n",
    "Y_pred = random_forest.predict(X_test)\n",
    "\n",
    "random_forest.score(X_train, y_train)\n",
    "acc_random_forest = round(random_forest.score(X_train, y_train) * 100, 2)"
   ]
  },
  {
   "cell_type": "markdown",
   "metadata": {},
   "source": [
    "## Logistic Regression"
   ]
  },
  {
   "cell_type": "code",
   "execution_count": 96,
   "metadata": {},
   "outputs": [
    {
     "name": "stderr",
     "output_type": "stream",
     "text": [
      "C:\\Users\\Kwasi\\Anaconda3\\lib\\site-packages\\sklearn\\linear_model\\logistic.py:432: FutureWarning: Default solver will be changed to 'lbfgs' in 0.22. Specify a solver to silence this warning.\n",
      "  FutureWarning)\n"
     ]
    },
    {
     "data": {
      "application/javascript": [
       "\n",
       "            setTimeout(function() {\n",
       "                var nbb_cell_id = 96;\n",
       "                var nbb_unformatted_code = \"# Applying the Logistic Regression algorithm\\n\\nlogreg = LogisticRegression()\\nlogreg.fit(X_train, y_train)\\n\\nY_pred = logreg.predict(X_test)\\n\\nacc_log = round(logreg.score(X_train, y_train) * 100, 2)\";\n",
       "                var nbb_formatted_code = \"# Applying the Logistic Regression algorithm\\n\\nlogreg = LogisticRegression()\\nlogreg.fit(X_train, y_train)\\n\\nY_pred = logreg.predict(X_test)\\n\\nacc_log = round(logreg.score(X_train, y_train) * 100, 2)\";\n",
       "                var nbb_cells = Jupyter.notebook.get_cells();\n",
       "                for (var i = 0; i < nbb_cells.length; ++i) {\n",
       "                    if (nbb_cells[i].input_prompt_number == nbb_cell_id) {\n",
       "                        if (nbb_cells[i].get_text() == nbb_unformatted_code) {\n",
       "                             nbb_cells[i].set_text(nbb_formatted_code);\n",
       "                        }\n",
       "                        break;\n",
       "                    }\n",
       "                }\n",
       "            }, 500);\n",
       "            "
      ],
      "text/plain": [
       "<IPython.core.display.Javascript object>"
      ]
     },
     "metadata": {},
     "output_type": "display_data"
    }
   ],
   "source": [
    "# Applying the Logistic Regression algorithm\n",
    "\n",
    "logreg = LogisticRegression()\n",
    "logreg.fit(X_train, y_train)\n",
    "\n",
    "Y_pred = logreg.predict(X_test)\n",
    "\n",
    "acc_log = round(logreg.score(X_train, y_train) * 100, 2)"
   ]
  },
  {
   "cell_type": "markdown",
   "metadata": {},
   "source": [
    "## KNN"
   ]
  },
  {
   "cell_type": "code",
   "execution_count": 97,
   "metadata": {},
   "outputs": [
    {
     "data": {
      "text/plain": [
       "'Wanted to run this but computer gets hung up for whatever reaseon \\n#knn = KNeighborsClassifier(n_neighbors = 3)\\nknn.fit(X_train, y_train) \\nY_pred = knn.predict(X_test)\\nacc_knn = round(knn.score(X_train, y_train) * 100, 2)'"
      ]
     },
     "execution_count": 97,
     "metadata": {},
     "output_type": "execute_result"
    },
    {
     "data": {
      "application/javascript": [
       "\n",
       "            setTimeout(function() {\n",
       "                var nbb_cell_id = 97;\n",
       "                var nbb_unformatted_code = \"\\\"\\\"\\\"Wanted to run this but computer gets hung up for whatever reaseon \\n#knn = KNeighborsClassifier(n_neighbors = 3)\\nknn.fit(X_train, y_train) \\nY_pred = knn.predict(X_test)\\nacc_knn = round(knn.score(X_train, y_train) * 100, 2)\\\"\\\"\\\"\";\n",
       "                var nbb_formatted_code = \"\\\"\\\"\\\"Wanted to run this but computer gets hung up for whatever reaseon \\n#knn = KNeighborsClassifier(n_neighbors = 3)\\nknn.fit(X_train, y_train) \\nY_pred = knn.predict(X_test)\\nacc_knn = round(knn.score(X_train, y_train) * 100, 2)\\\"\\\"\\\"\";\n",
       "                var nbb_cells = Jupyter.notebook.get_cells();\n",
       "                for (var i = 0; i < nbb_cells.length; ++i) {\n",
       "                    if (nbb_cells[i].input_prompt_number == nbb_cell_id) {\n",
       "                        if (nbb_cells[i].get_text() == nbb_unformatted_code) {\n",
       "                             nbb_cells[i].set_text(nbb_formatted_code);\n",
       "                        }\n",
       "                        break;\n",
       "                    }\n",
       "                }\n",
       "            }, 500);\n",
       "            "
      ],
      "text/plain": [
       "<IPython.core.display.Javascript object>"
      ]
     },
     "metadata": {},
     "output_type": "display_data"
    }
   ],
   "source": [
    "\"\"\"Wanted to run this but computer gets hung up for whatever reaseon \n",
    "#knn = KNeighborsClassifier(n_neighbors = 3)\n",
    "knn.fit(X_train, y_train) \n",
    "Y_pred = knn.predict(X_test)\n",
    "acc_knn = round(knn.score(X_train, y_train) * 100, 2)\"\"\""
   ]
  },
  {
   "cell_type": "markdown",
   "metadata": {},
   "source": [
    "## GaussianNB algorithm"
   ]
  },
  {
   "cell_type": "code",
   "execution_count": 100,
   "metadata": {},
   "outputs": [
    {
     "data": {
      "application/javascript": [
       "\n",
       "            setTimeout(function() {\n",
       "                var nbb_cell_id = 100;\n",
       "                var nbb_unformatted_code = \"gaussian = GaussianNB()\\ngaussian.fit(X_train, y_train)\\nY_pred = gaussian.predict(X_test)\\nacc_gaussian = round(gaussian.score(X_train, y_train) * 100, 2)\";\n",
       "                var nbb_formatted_code = \"gaussian = GaussianNB()\\ngaussian.fit(X_train, y_train)\\nY_pred = gaussian.predict(X_test)\\nacc_gaussian = round(gaussian.score(X_train, y_train) * 100, 2)\";\n",
       "                var nbb_cells = Jupyter.notebook.get_cells();\n",
       "                for (var i = 0; i < nbb_cells.length; ++i) {\n",
       "                    if (nbb_cells[i].input_prompt_number == nbb_cell_id) {\n",
       "                        if (nbb_cells[i].get_text() == nbb_unformatted_code) {\n",
       "                             nbb_cells[i].set_text(nbb_formatted_code);\n",
       "                        }\n",
       "                        break;\n",
       "                    }\n",
       "                }\n",
       "            }, 500);\n",
       "            "
      ],
      "text/plain": [
       "<IPython.core.display.Javascript object>"
      ]
     },
     "metadata": {},
     "output_type": "display_data"
    }
   ],
   "source": [
    "gaussian = GaussianNB()\n",
    "gaussian.fit(X_train, y_train)\n",
    "Y_pred = gaussian.predict(X_test)\n",
    "acc_gaussian = round(gaussian.score(X_train, y_train) * 100, 2)"
   ]
  },
  {
   "cell_type": "markdown",
   "metadata": {},
   "source": [
    "## Decision Tree algorithm"
   ]
  },
  {
   "cell_type": "code",
   "execution_count": 101,
   "metadata": {},
   "outputs": [
    {
     "data": {
      "application/javascript": [
       "\n",
       "            setTimeout(function() {\n",
       "                var nbb_cell_id = 101;\n",
       "                var nbb_unformatted_code = \"decision_tree = DecisionTreeClassifier()\\ndecision_tree.fit(X_train, y_train)\\nY_pred = decision_tree.predict(X_test)\\nacc_decision_tree = round(decision_tree.score(X_train, y_train) * 100, 2)\";\n",
       "                var nbb_formatted_code = \"decision_tree = DecisionTreeClassifier()\\ndecision_tree.fit(X_train, y_train)\\nY_pred = decision_tree.predict(X_test)\\nacc_decision_tree = round(decision_tree.score(X_train, y_train) * 100, 2)\";\n",
       "                var nbb_cells = Jupyter.notebook.get_cells();\n",
       "                for (var i = 0; i < nbb_cells.length; ++i) {\n",
       "                    if (nbb_cells[i].input_prompt_number == nbb_cell_id) {\n",
       "                        if (nbb_cells[i].get_text() == nbb_unformatted_code) {\n",
       "                             nbb_cells[i].set_text(nbb_formatted_code);\n",
       "                        }\n",
       "                        break;\n",
       "                    }\n",
       "                }\n",
       "            }, 500);\n",
       "            "
      ],
      "text/plain": [
       "<IPython.core.display.Javascript object>"
      ]
     },
     "metadata": {},
     "output_type": "display_data"
    }
   ],
   "source": [
    "decision_tree = DecisionTreeClassifier()\n",
    "decision_tree.fit(X_train, y_train)\n",
    "Y_pred = decision_tree.predict(X_test)\n",
    "acc_decision_tree = round(decision_tree.score(X_train, y_train) * 100, 2)"
   ]
  },
  {
   "cell_type": "markdown",
   "metadata": {},
   "source": [
    "# Accuracy of Models"
   ]
  },
  {
   "cell_type": "code",
   "execution_count": 102,
   "metadata": {},
   "outputs": [
    {
     "data": {
      "text/html": [
       "<div>\n",
       "<style scoped>\n",
       "    .dataframe tbody tr th:only-of-type {\n",
       "        vertical-align: middle;\n",
       "    }\n",
       "\n",
       "    .dataframe tbody tr th {\n",
       "        vertical-align: top;\n",
       "    }\n",
       "\n",
       "    .dataframe thead th {\n",
       "        text-align: right;\n",
       "    }\n",
       "</style>\n",
       "<table border=\"1\" class=\"dataframe\">\n",
       "  <thead>\n",
       "    <tr style=\"text-align: right;\">\n",
       "      <th></th>\n",
       "      <th>Model</th>\n",
       "    </tr>\n",
       "    <tr>\n",
       "      <th>Score</th>\n",
       "      <th></th>\n",
       "    </tr>\n",
       "  </thead>\n",
       "  <tbody>\n",
       "    <tr>\n",
       "      <td>98.22</td>\n",
       "      <td>Random Forest</td>\n",
       "    </tr>\n",
       "    <tr>\n",
       "      <td>98.22</td>\n",
       "      <td>Decision Tree</td>\n",
       "    </tr>\n",
       "    <tr>\n",
       "      <td>94.55</td>\n",
       "      <td>Logistic Regression</td>\n",
       "    </tr>\n",
       "    <tr>\n",
       "      <td>94.45</td>\n",
       "      <td>Support Vector Machines</td>\n",
       "    </tr>\n",
       "    <tr>\n",
       "      <td>74.08</td>\n",
       "      <td>Naive Bayes</td>\n",
       "    </tr>\n",
       "  </tbody>\n",
       "</table>\n",
       "</div>"
      ],
      "text/plain": [
       "                         Model\n",
       "Score                         \n",
       "98.22            Random Forest\n",
       "98.22            Decision Tree\n",
       "94.55      Logistic Regression\n",
       "94.45  Support Vector Machines\n",
       "74.08              Naive Bayes"
      ]
     },
     "execution_count": 102,
     "metadata": {},
     "output_type": "execute_result"
    },
    {
     "data": {
      "application/javascript": [
       "\n",
       "            setTimeout(function() {\n",
       "                var nbb_cell_id = 102;\n",
       "                var nbb_unformatted_code = \"#Plotting the accuracy of the used algorithms to find the best fit\\n\\nresults = pd.DataFrame({\\n    'Model': ['Support Vector Machines','Logistic Regression', 'Random Forest', 'Naive Bayes', 'Decision Tree'],\\n    'Score': [acc_linear_svc,acc_log, acc_random_forest, acc_gaussian, acc_decision_tree]})\\nresult_df = results.sort_values(by='Score', ascending=False)\\nresult_df = result_df.set_index('Score')\\nresult_df.head(7)\";\n",
       "                var nbb_formatted_code = \"# Plotting the accuracy of the used algorithms to find the best fit\\n\\nresults = pd.DataFrame(\\n    {\\n        \\\"Model\\\": [\\n            \\\"Support Vector Machines\\\",\\n            \\\"Logistic Regression\\\",\\n            \\\"Random Forest\\\",\\n            \\\"Naive Bayes\\\",\\n            \\\"Decision Tree\\\",\\n        ],\\n        \\\"Score\\\": [\\n            acc_linear_svc,\\n            acc_log,\\n            acc_random_forest,\\n            acc_gaussian,\\n            acc_decision_tree,\\n        ],\\n    }\\n)\\nresult_df = results.sort_values(by=\\\"Score\\\", ascending=False)\\nresult_df = result_df.set_index(\\\"Score\\\")\\nresult_df.head(7)\";\n",
       "                var nbb_cells = Jupyter.notebook.get_cells();\n",
       "                for (var i = 0; i < nbb_cells.length; ++i) {\n",
       "                    if (nbb_cells[i].input_prompt_number == nbb_cell_id) {\n",
       "                        if (nbb_cells[i].get_text() == nbb_unformatted_code) {\n",
       "                             nbb_cells[i].set_text(nbb_formatted_code);\n",
       "                        }\n",
       "                        break;\n",
       "                    }\n",
       "                }\n",
       "            }, 500);\n",
       "            "
      ],
      "text/plain": [
       "<IPython.core.display.Javascript object>"
      ]
     },
     "metadata": {},
     "output_type": "display_data"
    }
   ],
   "source": [
    "# Plotting the accuracy of the used algorithms to find the best fit\n",
    "\n",
    "results = pd.DataFrame(\n",
    "    {\n",
    "        \"Model\": [\n",
    "            \"Support Vector Machines\",\n",
    "            \"Logistic Regression\",\n",
    "            \"Random Forest\",\n",
    "            \"Naive Bayes\",\n",
    "            \"Decision Tree\",\n",
    "        ],\n",
    "        \"Score\": [\n",
    "            acc_linear_svc,\n",
    "            acc_log,\n",
    "            acc_random_forest,\n",
    "            acc_gaussian,\n",
    "            acc_decision_tree,\n",
    "        ],\n",
    "    }\n",
    ")\n",
    "result_df = results.sort_values(by=\"Score\", ascending=False)\n",
    "result_df = result_df.set_index(\"Score\")\n",
    "result_df.head(7)"
   ]
  },
  {
   "cell_type": "code",
   "execution_count": 105,
   "metadata": {},
   "outputs": [
    {
     "data": {
      "text/html": [
       "<div>\n",
       "<style scoped>\n",
       "    .dataframe tbody tr th:only-of-type {\n",
       "        vertical-align: middle;\n",
       "    }\n",
       "\n",
       "    .dataframe tbody tr th {\n",
       "        vertical-align: top;\n",
       "    }\n",
       "\n",
       "    .dataframe thead th {\n",
       "        text-align: right;\n",
       "    }\n",
       "</style>\n",
       "<table border=\"1\" class=\"dataframe\">\n",
       "  <thead>\n",
       "    <tr style=\"text-align: right;\">\n",
       "      <th></th>\n",
       "      <th>importance</th>\n",
       "    </tr>\n",
       "    <tr>\n",
       "      <th>feature</th>\n",
       "      <th></th>\n",
       "    </tr>\n",
       "  </thead>\n",
       "  <tbody>\n",
       "    <tr>\n",
       "      <td>industry</td>\n",
       "      <td>0.226</td>\n",
       "    </tr>\n",
       "    <tr>\n",
       "      <td>occupation</td>\n",
       "      <td>0.212</td>\n",
       "    </tr>\n",
       "    <tr>\n",
       "      <td>num_employers</td>\n",
       "      <td>0.110</td>\n",
       "    </tr>\n",
       "    <tr>\n",
       "      <td>postgrad</td>\n",
       "      <td>0.067</td>\n",
       "    </tr>\n",
       "    <tr>\n",
       "      <td>dividends_group</td>\n",
       "      <td>0.058</td>\n",
       "    </tr>\n",
       "    <tr>\n",
       "      <td>cap_group</td>\n",
       "      <td>0.057</td>\n",
       "    </tr>\n",
       "    <tr>\n",
       "      <td>Male</td>\n",
       "      <td>0.054</td>\n",
       "    </tr>\n",
       "    <tr>\n",
       "      <td>age_group</td>\n",
       "      <td>0.035</td>\n",
       "    </tr>\n",
       "    <tr>\n",
       "      <td>SEOTR</td>\n",
       "      <td>0.034</td>\n",
       "    </tr>\n",
       "    <tr>\n",
       "      <td>bachdegree</td>\n",
       "      <td>0.026</td>\n",
       "    </tr>\n",
       "    <tr>\n",
       "      <td>Jointbothunder65</td>\n",
       "      <td>0.016</td>\n",
       "    </tr>\n",
       "    <tr>\n",
       "      <td>Native-BornintheUnitedStates</td>\n",
       "      <td>0.014</td>\n",
       "    </tr>\n",
       "    <tr>\n",
       "      <td>Nevermarried</td>\n",
       "      <td>0.011</td>\n",
       "    </tr>\n",
       "    <tr>\n",
       "      <td>Highschoolgraduate</td>\n",
       "      <td>0.011</td>\n",
       "    </tr>\n",
       "    <tr>\n",
       "      <td>Single</td>\n",
       "      <td>0.011</td>\n",
       "    </tr>\n",
       "    <tr>\n",
       "      <td>Separated</td>\n",
       "      <td>0.008</td>\n",
       "    </tr>\n",
       "    <tr>\n",
       "      <td>Somecollegebutnodegree</td>\n",
       "      <td>0.008</td>\n",
       "    </tr>\n",
       "    <tr>\n",
       "      <td>Foreignborn-UScitizenbynaturalization</td>\n",
       "      <td>0.007</td>\n",
       "    </tr>\n",
       "    <tr>\n",
       "      <td>associates</td>\n",
       "      <td>0.006</td>\n",
       "    </tr>\n",
       "    <tr>\n",
       "      <td>Nonfiler</td>\n",
       "      <td>0.005</td>\n",
       "    </tr>\n",
       "    <tr>\n",
       "      <td>some_hs</td>\n",
       "      <td>0.005</td>\n",
       "    </tr>\n",
       "    <tr>\n",
       "      <td>Jointoneunder65&amp;one65+</td>\n",
       "      <td>0.004</td>\n",
       "    </tr>\n",
       "    <tr>\n",
       "      <td>elementary_school</td>\n",
       "      <td>0.003</td>\n",
       "    </tr>\n",
       "    <tr>\n",
       "      <td>Widowed</td>\n",
       "      <td>0.003</td>\n",
       "    </tr>\n",
       "    <tr>\n",
       "      <td>Jointboth65+</td>\n",
       "      <td>0.003</td>\n",
       "    </tr>\n",
       "    <tr>\n",
       "      <td>Native-BornabroadofAmericanParent(s)</td>\n",
       "      <td>0.003</td>\n",
       "    </tr>\n",
       "    <tr>\n",
       "      <td>Native-BorninPuertoRicoorUSOutlying</td>\n",
       "      <td>0.001</td>\n",
       "    </tr>\n",
       "  </tbody>\n",
       "</table>\n",
       "</div>"
      ],
      "text/plain": [
       "                                       importance\n",
       "feature                                          \n",
       "industry                                    0.226\n",
       "occupation                                  0.212\n",
       "num_employers                               0.110\n",
       "postgrad                                    0.067\n",
       "dividends_group                             0.058\n",
       "cap_group                                   0.057\n",
       "Male                                        0.054\n",
       "age_group                                   0.035\n",
       "SEOTR                                       0.034\n",
       "bachdegree                                  0.026\n",
       "Jointbothunder65                            0.016\n",
       "Native-BornintheUnitedStates                0.014\n",
       "Nevermarried                                0.011\n",
       "Highschoolgraduate                          0.011\n",
       "Single                                      0.011\n",
       "Separated                                   0.008\n",
       "Somecollegebutnodegree                      0.008\n",
       "Foreignborn-UScitizenbynaturalization       0.007\n",
       "associates                                  0.006\n",
       "Nonfiler                                    0.005\n",
       "some_hs                                     0.005\n",
       "Jointoneunder65&one65+                      0.004\n",
       "elementary_school                           0.003\n",
       "Widowed                                     0.003\n",
       "Jointboth65+                                0.003\n",
       "Native-BornabroadofAmericanParent(s)        0.003\n",
       "Native-BorninPuertoRicoorUSOutlying         0.001"
      ]
     },
     "execution_count": 105,
     "metadata": {},
     "output_type": "execute_result"
    },
    {
     "data": {
      "application/javascript": [
       "\n",
       "            setTimeout(function() {\n",
       "                var nbb_cell_id = 105;\n",
       "                var nbb_unformatted_code = \"# Finding significance of each feature in t5he best fit model\\n\\nimportances = pd.DataFrame(\\n    {\\n        \\\"feature\\\": X_train.columns,\\n        \\\"importance\\\": np.round(random_forest.feature_importances_, 3),\\n    }\\n)\\nimportances = importances.sort_values(\\\"importance\\\", ascending=False).set_index(\\n    \\\"feature\\\"\\n)\\nimportances.head(30)\";\n",
       "                var nbb_formatted_code = \"# Finding significance of each feature in t5he best fit model\\n\\nimportances = pd.DataFrame(\\n    {\\n        \\\"feature\\\": X_train.columns,\\n        \\\"importance\\\": np.round(random_forest.feature_importances_, 3),\\n    }\\n)\\nimportances = importances.sort_values(\\\"importance\\\", ascending=False).set_index(\\n    \\\"feature\\\"\\n)\\nimportances.head(30)\";\n",
       "                var nbb_cells = Jupyter.notebook.get_cells();\n",
       "                for (var i = 0; i < nbb_cells.length; ++i) {\n",
       "                    if (nbb_cells[i].input_prompt_number == nbb_cell_id) {\n",
       "                        if (nbb_cells[i].get_text() == nbb_unformatted_code) {\n",
       "                             nbb_cells[i].set_text(nbb_formatted_code);\n",
       "                        }\n",
       "                        break;\n",
       "                    }\n",
       "                }\n",
       "            }, 500);\n",
       "            "
      ],
      "text/plain": [
       "<IPython.core.display.Javascript object>"
      ]
     },
     "metadata": {},
     "output_type": "display_data"
    }
   ],
   "source": [
    "# Finding significance of each feature in t5he best fit model\n",
    "\n",
    "importances = pd.DataFrame(\n",
    "    {\n",
    "        \"feature\": X_train.columns,\n",
    "        \"importance\": np.round(random_forest.feature_importances_, 3),\n",
    "    }\n",
    ")\n",
    "importances = importances.sort_values(\"importance\", ascending=False).set_index(\n",
    "    \"feature\"\n",
    ")\n",
    "importances.head(30)"
   ]
  },
  {
   "cell_type": "code",
   "execution_count": 104,
   "metadata": {},
   "outputs": [
    {
     "data": {
      "text/plain": [
       "<matplotlib.axes._subplots.AxesSubplot at 0x254cd407f88>"
      ]
     },
     "execution_count": 104,
     "metadata": {},
     "output_type": "execute_result"
    },
    {
     "data": {
      "image/png": "[encoded data removed]",
      "text/plain": [
       "<Figure size 432x288 with 1 Axes>"
      ]
     },
     "metadata": {
      "needs_background": "light"
     },
     "output_type": "display_data"
    },
    {
     "data": {
      "application/javascript": [
       "\n",
       "            setTimeout(function() {\n",
       "                var nbb_cell_id = 104;\n",
       "                var nbb_unformatted_code = \"#Plotting the significance of each feautre\\n\\nimportances.plot.bar()\";\n",
       "                var nbb_formatted_code = \"# Plotting the significance of each feautre\\n\\nimportances.plot.bar()\";\n",
       "                var nbb_cells = Jupyter.notebook.get_cells();\n",
       "                for (var i = 0; i < nbb_cells.length; ++i) {\n",
       "                    if (nbb_cells[i].input_prompt_number == nbb_cell_id) {\n",
       "                        if (nbb_cells[i].get_text() == nbb_unformatted_code) {\n",
       "                             nbb_cells[i].set_text(nbb_formatted_code);\n",
       "                        }\n",
       "                        break;\n",
       "                    }\n",
       "                }\n",
       "            }, 500);\n",
       "            "
      ],
      "text/plain": [
       "<IPython.core.display.Javascript object>"
      ]
     },
     "metadata": {},
     "output_type": "display_data"
    }
   ],
   "source": [
    "# Plotting the significance of each feautre\n",
    "\n",
    "importances.plot.bar()"
   ]
  },
  {
   "cell_type": "markdown",
   "metadata": {},
   "source": [
    "# Conclusion "
   ]
  },
  {
   "cell_type": "markdown",
   "metadata": {},
   "source": [
    "The best two performing models were able to predict with 98.22% accuracy. Which is solid considering the naive model was at 74%.\n",
    "\n",
    "Future Work\n",
    "I think that are several ways to look more into peoples earning pouplation with other demographic information. A more detailed \"race\" category would be intresting to look into. To explore the differences between different subgroups. As well going more in depth in these two winning models and seeing if some extra accuracy can be squeezed out. \n",
    "\n",
    "Also some more detailed information on graduate degree types would be intresting because a Engineering degree significantly enhancing earning potential then say a degree in Art history. "
   ]
  },
  {
   "cell_type": "code",
   "execution_count": null,
   "metadata": {},
   "outputs": [],
   "source": []
  }
 ],
 "metadata": {
  "kernelspec": {
   "display_name": "Python 3",
   "language": "python",
   "name": "python3"
  },
  "language_info": {
   "codemirror_mode": {
    "name": "ipython",
    "version": 3
   },
   "file_extension": ".py",
   "mimetype": "text/x-python",
   "name": "python",
   "nbconvert_exporter": "python",
   "pygments_lexer": "ipython3",
   "version": "3.7.4"
  },
  "toc": {
   "base_numbering": 1,
   "nav_menu": {},
   "number_sections": true,
   "sideBar": true,
   "skip_h1_title": false,
   "title_cell": "Table of Contents",
   "title_sidebar": "Contents",
   "toc_cell": false,
   "toc_position": {},
   "toc_section_display": true,
   "toc_window_display": true
  }
 },
 "nbformat": 4,
 "nbformat_minor": 2
}
